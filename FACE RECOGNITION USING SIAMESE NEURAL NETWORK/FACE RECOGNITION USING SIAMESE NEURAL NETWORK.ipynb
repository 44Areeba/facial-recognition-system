{
 "cells": [
  {
   "cell_type": "markdown",
   "id": "3170090f",
   "metadata": {},
   "source": [
    "# 1. Setup"
   ]
  },
  {
   "cell_type": "markdown",
   "id": "216cd09f",
   "metadata": {},
   "source": [
    "### Install Dependencies"
   ]
  },
  {
   "cell_type": "code",
   "execution_count": 51,
   "id": "f252471f",
   "metadata": {},
   "outputs": [],
   "source": [
    "# !pip install tensorflow opencv-python matplotlib"
   ]
  },
  {
   "cell_type": "markdown",
   "id": "637644fe",
   "metadata": {},
   "source": [
    "### Import Dependencies"
   ]
  },
  {
   "cell_type": "code",
   "execution_count": 1,
   "id": "3c86ca14",
   "metadata": {},
   "outputs": [],
   "source": [
    "# Import standard dependencies\n",
    "import cv2\n",
    "import os\n",
    "import random\n",
    "import numpy as np\n",
    "from matplotlib import pyplot as plt"
   ]
  },
  {
   "cell_type": "code",
   "execution_count": 2,
   "id": "09095929",
   "metadata": {},
   "outputs": [],
   "source": [
    "# Import tensorflow dependencies - Functional API\n",
    "from tensorflow.keras.models import Model\n",
    "from tensorflow.keras.layers import Layer, Conv2D, Dense, MaxPooling2D, Input, Flatten \n",
    "import tensorflow as tf\n",
    "# LAYER ALLOWS TO DEFINE CUSTOM LAYER\n",
    "# CONV2D --- ALLOWS TO PERFORM CONVOLUTION (CONVOLUTIONAL NEURAL NETWORK)\n",
    "# DENSE --- GIVES US FULLY CONNECTED LAYER \n",
    "# MAXPOOLING2D --- ALLOWS US TO PULL OUR LAYERS TOGETHER AND EFFECTIVELY SHRINKS THE INFORMATION\n",
    "# INPUT --- DEFINES WHAT WE ARE PASSING THROUGH OUR MODEL \n",
    "# FLATTEN --- CONVERTS IN SINGLE DIMENSION"
   ]
  },
  {
   "cell_type": "markdown",
   "id": "167aab0f",
   "metadata": {},
   "source": [
    "### Create Folder Structures"
   ]
  },
  {
   "cell_type": "code",
   "execution_count": 3,
   "id": "f48c48e7",
   "metadata": {},
   "outputs": [],
   "source": [
    "# Setup paths\n",
    "POS_PATH = os.path.join('data', 'positive') #positive image is the image which  match to input image\n",
    "NEG_PATH = os.path.join('data', 'negative') #negative image is the image which dose not match to input image\n",
    "ANC_PATH = os.path.join('data', 'anchor') #anchor is input image"
   ]
  },
  {
   "cell_type": "code",
   "execution_count": 3,
   "id": "f7de2138",
   "metadata": {},
   "outputs": [],
   "source": [
    "# # Make the directories\n",
    "# os.makedirs(POS_PATH)\n",
    "# os.makedirs(NEG_PATH)\n",
    "# os.makedirs(ANC_PATH)"
   ]
  },
  {
   "cell_type": "markdown",
   "id": "c03efc12",
   "metadata": {},
   "source": [
    "# Collect Positives and Anchors"
   ]
  },
  {
   "cell_type": "markdown",
   "id": "6e8f35c3",
   "metadata": {},
   "source": [
    "### Untar Labelled Faces in the Wild Dataset"
   ]
  },
  {
   "cell_type": "code",
   "execution_count": 4,
   "id": "a905816e",
   "metadata": {},
   "outputs": [],
   "source": [
    "#dataset link for negative images\n",
    "\n",
    "# http://vis-www.cs.umass.edu/lfw/ \n"
   ]
  },
  {
   "cell_type": "code",
   "execution_count": 5,
   "id": "ef1f0351",
   "metadata": {},
   "outputs": [],
   "source": [
    "# Uncompress Tar GZ Labelled Faces in the Wild Dataset\n",
    "# !tar -xf lfw.tgz"
   ]
  },
  {
   "cell_type": "code",
   "execution_count": 9,
   "id": "1cb32c32",
   "metadata": {},
   "outputs": [],
   "source": [
    "# # Move LFW Images to the following repository data/negative\n",
    "# for directory in os.listdir('lfw'):\n",
    "#     for file in os.listdir(os.path.join('lfw', directory)):\n",
    "#         EX_PATH = os.path.join('lfw', directory, file)\n",
    "#         NEW_PATH = os.path.join(NEG_PATH, file)\n",
    "#         os.replace(EX_PATH, NEW_PATH)"
   ]
  },
  {
   "cell_type": "markdown",
   "id": "85669512",
   "metadata": {},
   "source": [
    "### Collect Positive and Anchor Classes"
   ]
  },
  {
   "cell_type": "code",
   "execution_count": 4,
   "id": "b1d5a85c",
   "metadata": {},
   "outputs": [],
   "source": [
    "# Import uuid library to generate unique image names\n",
    "import uuid # UUID-----> Universally unique identifier"
   ]
  },
  {
   "cell_type": "code",
   "execution_count": 5,
   "id": "6eea35c6",
   "metadata": {},
   "outputs": [
    {
     "data": {
      "text/plain": [
       "'data\\\\anchor\\\\538fe986-7ee6-11ee-a076-e86a642e21d6.jpg'"
      ]
     },
     "execution_count": 5,
     "metadata": {},
     "output_type": "execute_result"
    }
   ],
   "source": [
    "os.path.join(ANC_PATH, '{}.jpg'.format(uuid.uuid1())) #UNIQUE IMAGE NAME"
   ]
  },
  {
   "cell_type": "code",
   "execution_count": null,
   "id": "3814acc0",
   "metadata": {},
   "outputs": [],
   "source": [
    "# Establish a connection to the webcam\n",
    "cap = cv2.VideoCapture(0)\n",
    "while cap.isOpened(): \n",
    "    ret, frame = cap.read()\n",
    "   \n",
    "    # Cut down frame to 250x250px\n",
    "    frame = frame[120:120+250,200:200+250, :]\n",
    "    \n",
    "    # Collect anchors \n",
    "    if cv2.waitKey(1) & 0XFF == ord('a'):\n",
    "        # Create the unique file path \n",
    "        imgname = os.path.join(ANC_PATH, '{}.jpg'.format(uuid.uuid1()))\n",
    "        # Write out anchor image\n",
    "        cv2.imwrite(imgname, frame)\n",
    "    \n",
    "    # Collect positives\n",
    "    if cv2.waitKey(1) & 0XFF == ord('p'):\n",
    "        # Create the unique file path \n",
    "        imgname = os.path.join(POS_PATH, '{}.jpg'.format(uuid.uuid1()))\n",
    "        # Write out positive image\n",
    "        cv2.imwrite(imgname, frame)\n",
    "    \n",
    "    # Show image back to screen\n",
    "    cv2.imshow('Image Collection', frame)\n",
    "    \n",
    "    # Breaking gracefully\n",
    "    if cv2.waitKey(1) & 0XFF == ord('q'):\n",
    "        break\n",
    "        \n",
    "# Release the webcam\n",
    "cap.release()\n",
    "# Close the image show frame\n",
    "cv2.destroyAllWindows()"
   ]
  },
  {
   "cell_type": "markdown",
   "id": "c043fe02",
   "metadata": {},
   "source": [
    "### Data Augmentation"
   ]
  },
  {
   "cell_type": "code",
   "execution_count": null,
   "id": "39b59d80",
   "metadata": {},
   "outputs": [],
   "source": [
    "\n",
    "def data_aug(img):#  for every single image inside anchor class i went and looped nine times so this meansthat for every anchor and positive image we would now have 10 times as many images including the one that we already had there so we have 9 additional images for every single image we had in there originally and i wenrt and applied 5 different random data augmentation \n",
    "    data = [] \n",
    "    for i in range(9):\n",
    "        img = tf.image.stateless_random_brightness(img, max_delta=0.02, seed=(1,2)) # increase or decrease brightness\n",
    "        img = tf.image.stateless_random_contrast(img, lower=0.6, upper=1, seed=(1,3)) # increase or decrease contrast\n",
    "        # img = tf.image.stateless_random_crop(img, size=(20,20,3), seed=(1,2))\n",
    "        img = tf.image.stateless_random_flip_left_right(img, seed=(np.random.randint(100),np.random.randint(100))) # flip left or right \n",
    "        img = tf.image.stateless_random_jpeg_quality(img, min_jpeg_quality=90, max_jpeg_quality=100, seed=(np.random.randint(100),np.random.randint(100))) # improve or decode  the quality of jpeg image that we actually had \n",
    "        img = tf.image.stateless_random_saturation(img, lower=0.9,upper=1, seed=(np.random.randint(100),np.random.randint(100)))# changes the saturation \n",
    "            \n",
    "        data.append(img)\n",
    "      \n",
    "\n",
    "        return data"
   ]
  },
  {
   "cell_type": "code",
   "execution_count": 15,
   "id": "7d3732c1",
   "metadata": {},
   "outputs": [],
   "source": [
    "# for file_name in os.listdir(os.path.join(POS_PATH)):\n",
    "#     img_path = os.path.join(POS_PATH, file_name)\n",
    "#     img = cv2.imread(img_path)\n",
    "#     augmented_images = data_aug(img) \n",
    "    \n",
    "#     for image in augmented_images:\n",
    "#         cv2.imwrite(os.path.join(POS_PATH, '{}.jpg'.format(uuid.uuid1())), image.numpy())"
   ]
  },
  {
   "cell_type": "code",
   "execution_count": 16,
   "id": "54473af0",
   "metadata": {},
   "outputs": [],
   "source": [
    "# for file_name in os.listdir(os.path.join(ANC_PATH)):\n",
    "#     img_path = os.path.join(ANC_PATH, file_name)\n",
    "#     img = cv2.imread(img_path)\n",
    "#     augmented_images = data_aug(img) \n",
    "    \n",
    "#     for image in augmented_images:\n",
    "#         cv2.imwrite(os.path.join(ANC_PATH, '{}.jpg'.format(uuid.uuid1())), image.numpy())"
   ]
  },
  {
   "cell_type": "markdown",
   "id": "c618b699",
   "metadata": {},
   "source": [
    "# Load and Preprocess Images"
   ]
  },
  {
   "cell_type": "markdown",
   "id": "82adaf33",
   "metadata": {},
   "source": [
    "#### Get Image Directories"
   ]
  },
  {
   "cell_type": "code",
   "execution_count": 17,
   "id": "90f80bb6",
   "metadata": {},
   "outputs": [],
   "source": [
    "# using a generator to be able to loop through and grab all of the files within that specific directory\n",
    "anchor = tf.data.Dataset.list_files(ANC_PATH+'\\*.jpg').take(3000) # grab everything inside anchor path,jpg isliye liha kuinke sari pics jpg me thi agr koi aur extension hon image ki tou wo likhen /* isliye likha take sri cheezen ajain us path se \n",
    "positive = tf.data.Dataset.list_files(POS_PATH+'\\*.jpg').take(3000)\n",
    "negative = tf.data.Dataset.list_files(NEG_PATH+'\\*.jpg').take(3000)\n",
    "# take(300) ---- means 300 image hon ,hum isse kam ya ziada bhi karsakte apni marzi se "
   ]
  },
  {
   "cell_type": "code",
   "execution_count": 18,
   "id": "7b00339f",
   "metadata": {},
   "outputs": [],
   "source": [
    "dir_test = anchor.as_numpy_iterator()"
   ]
  },
  {
   "cell_type": "code",
   "execution_count": 19,
   "id": "22c8a0bb",
   "metadata": {},
   "outputs": [
    {
     "name": "stdout",
     "output_type": "stream",
     "text": [
      "b'data\\\\anchor\\\\7c429cff-012c-11ee-b635-c81f6624b715.jpg'\n"
     ]
    }
   ],
   "source": [
    "print(dir_test.next()) # actually got a full path to a specific image within our directory  \n",
    "# next every time change the image path "
   ]
  },
  {
   "cell_type": "markdown",
   "id": "9f1f89b0",
   "metadata": {},
   "source": [
    "# 2. Preprocessing - Scale and Resize"
   ]
  },
  {
   "cell_type": "code",
   "execution_count": 20,
   "id": "e6beb870",
   "metadata": {},
   "outputs": [],
   "source": [
    "# loads image,from our directory ,resize it ,perform scaling ----convert all of the image values \n",
    "# to 0-255 to 0-1 this helps our neural network optimize alot easier rather than having huge \n",
    "# range of numbers\n",
    "def preprocess(file_path):\n",
    "    \n",
    "    # Read in image from file path\n",
    "    byte_img = tf.io.read_file(file_path)\n",
    "    # Load in the image \n",
    "    img = tf.io.decode_jpeg(byte_img)\n",
    "    \n",
    "    # Preprocessing steps - resizing the image to be 100x100x3\n",
    "    img = tf.image.resize(img, (100,100))\n",
    "    # Scale image to be between 0 and 1 \n",
    "    img = img / 255.0\n",
    "\n",
    "    # Return image\n",
    "    return img"
   ]
  },
  {
   "cell_type": "code",
   "execution_count": 22,
   "id": "f6e6db96",
   "metadata": {},
   "outputs": [
    {
     "data": {
      "text/plain": [
       "<tf.Tensor: shape=(100, 100, 3), dtype=float32, numpy=\n",
       "array([[[0.30661765, 0.33848038, 0.42328432],\n",
       "        [0.67034316, 0.6727941 , 0.7142157 ],\n",
       "        [0.80588233, 0.80857843, 0.8007353 ],\n",
       "        ...,\n",
       "        [0.03431373, 0.03039216, 0.01470588],\n",
       "        [0.0382353 , 0.03431373, 0.01568628],\n",
       "        [0.0382353 , 0.03431373, 0.01862745]],\n",
       "\n",
       "       [[0.31960785, 0.35367647, 0.41715688],\n",
       "        [0.48480392, 0.55465686, 0.5808824 ],\n",
       "        [0.75      , 0.8154412 , 0.82916665],\n",
       "        ...,\n",
       "        [0.04215686, 0.0382353 , 0.01862745],\n",
       "        [0.03848039, 0.03602941, 0.01568628],\n",
       "        [0.04313726, 0.03921569, 0.01960784]],\n",
       "\n",
       "       [[0.3752451 , 0.42622548, 0.44411764],\n",
       "        [0.53137255, 0.5776961 , 0.5897059 ],\n",
       "        [0.7583333 , 0.8122549 , 0.83504903],\n",
       "        ...,\n",
       "        [0.03848039, 0.04044118, 0.01789216],\n",
       "        [0.03553922, 0.03897059, 0.01789216],\n",
       "        [0.03455883, 0.03921569, 0.01862745]],\n",
       "\n",
       "       ...,\n",
       "\n",
       "       [[0.93308824, 0.8495098 , 0.40661764],\n",
       "        [0.9465686 , 0.79583335, 0.4387255 ],\n",
       "        [0.71838236, 0.42622548, 0.1882353 ],\n",
       "        ...,\n",
       "        [0.6605392 , 0.6343137 , 0.39338234],\n",
       "        [0.6044118 , 0.5593137 , 0.32892156],\n",
       "        [0.502451  , 0.46495098, 0.22034314]],\n",
       "\n",
       "       [[0.9517157 , 0.85490197, 0.42794117],\n",
       "        [0.8992647 , 0.71960783, 0.36911765],\n",
       "        [0.7754902 , 0.4598039 , 0.22352941],\n",
       "        ...,\n",
       "        [0.68235296, 0.6490196 , 0.40759805],\n",
       "        [0.5737745 , 0.5142157 , 0.27892157],\n",
       "        [0.49313724, 0.4504902 , 0.19779412]],\n",
       "\n",
       "       [[0.9786765 , 0.8487745 , 0.45294118],\n",
       "        [0.9409314 , 0.71666664, 0.39534312],\n",
       "        [0.81397057, 0.4639706 , 0.24289216],\n",
       "        ...,\n",
       "        [0.63480395, 0.59362745, 0.36421567],\n",
       "        [0.5132353 , 0.43995097, 0.2129902 ],\n",
       "        [0.5205882 , 0.4598039 , 0.21715686]]], dtype=float32)>"
      ]
     },
     "execution_count": 22,
     "metadata": {},
     "output_type": "execute_result"
    }
   ],
   "source": [
    "preprocess('data\\\\anchor\\\\7c429cff-012c-11ee-b635-c81f6624b715.jpg') # copy the path from above "
   ]
  },
  {
   "cell_type": "code",
   "execution_count": 24,
   "id": "08afd3e8",
   "metadata": {},
   "outputs": [
    {
     "data": {
      "text/plain": [
       "<matplotlib.image.AxesImage at 0x17a94e13130>"
      ]
     },
     "execution_count": 24,
     "metadata": {},
     "output_type": "execute_result"
    },
    {
     "data": {
      "image/png": "[encoded data removed]",
      "text/plain": [
       "<Figure size 432x288 with 1 Axes>"
      ]
     },
     "metadata": {
      "needs_background": "light"
     },
     "output_type": "display_data"
    }
   ],
   "source": [
    "img = preprocess('data\\\\anchor\\\\7c429cff-012c-11ee-b635-c81f6624b715.jpg')\n",
    "plt.imshow(img)"
   ]
  },
  {
   "cell_type": "code",
   "execution_count": 25,
   "id": "49810877",
   "metadata": {},
   "outputs": [
    {
     "data": {
      "text/plain": [
       "1.0"
      ]
     },
     "execution_count": 25,
     "metadata": {},
     "output_type": "execute_result"
    }
   ],
   "source": [
    "img.numpy().max()  # max pixel value 1 arahi jo hum chahte the ke 0-1 ke darmiyan values hojain "
   ]
  },
  {
   "cell_type": "code",
   "execution_count": 26,
   "id": "ba1a8773",
   "metadata": {},
   "outputs": [
    {
     "data": {
      "text/plain": [
       "0.0"
      ]
     },
     "execution_count": 26,
     "metadata": {},
     "output_type": "execute_result"
    }
   ],
   "source": [
    "img.numpy().min() # min pixel value 0 arahi jo hum chahte the ke 0-1 ke darmiyan values hojain "
   ]
  },
  {
   "cell_type": "markdown",
   "id": "3a1a0d27",
   "metadata": {},
   "source": [
    "### Create Labelled Dataset"
   ]
  },
  {
   "cell_type": "code",
   "execution_count": 27,
   "id": "366df9ba",
   "metadata": {},
   "outputs": [],
   "source": [
    "# (anchor, positive) => 1,1,1,1,1\n",
    "# (anchor, negative) => 0,0,0,0,0"
   ]
  },
  {
   "cell_type": "code",
   "execution_count": 28,
   "id": "dd95689a",
   "metadata": {},
   "outputs": [
    {
     "data": {
      "text/plain": [
       "<tf.Tensor: shape=(632,), dtype=float32, numpy=\n",
       "array([1., 1., 1., 1., 1., 1., 1., 1., 1., 1., 1., 1., 1., 1., 1., 1., 1.,\n",
       "       1., 1., 1., 1., 1., 1., 1., 1., 1., 1., 1., 1., 1., 1., 1., 1., 1.,\n",
       "       1., 1., 1., 1., 1., 1., 1., 1., 1., 1., 1., 1., 1., 1., 1., 1., 1.,\n",
       "       1., 1., 1., 1., 1., 1., 1., 1., 1., 1., 1., 1., 1., 1., 1., 1., 1.,\n",
       "       1., 1., 1., 1., 1., 1., 1., 1., 1., 1., 1., 1., 1., 1., 1., 1., 1.,\n",
       "       1., 1., 1., 1., 1., 1., 1., 1., 1., 1., 1., 1., 1., 1., 1., 1., 1.,\n",
       "       1., 1., 1., 1., 1., 1., 1., 1., 1., 1., 1., 1., 1., 1., 1., 1., 1.,\n",
       "       1., 1., 1., 1., 1., 1., 1., 1., 1., 1., 1., 1., 1., 1., 1., 1., 1.,\n",
       "       1., 1., 1., 1., 1., 1., 1., 1., 1., 1., 1., 1., 1., 1., 1., 1., 1.,\n",
       "       1., 1., 1., 1., 1., 1., 1., 1., 1., 1., 1., 1., 1., 1., 1., 1., 1.,\n",
       "       1., 1., 1., 1., 1., 1., 1., 1., 1., 1., 1., 1., 1., 1., 1., 1., 1.,\n",
       "       1., 1., 1., 1., 1., 1., 1., 1., 1., 1., 1., 1., 1., 1., 1., 1., 1.,\n",
       "       1., 1., 1., 1., 1., 1., 1., 1., 1., 1., 1., 1., 1., 1., 1., 1., 1.,\n",
       "       1., 1., 1., 1., 1., 1., 1., 1., 1., 1., 1., 1., 1., 1., 1., 1., 1.,\n",
       "       1., 1., 1., 1., 1., 1., 1., 1., 1., 1., 1., 1., 1., 1., 1., 1., 1.,\n",
       "       1., 1., 1., 1., 1., 1., 1., 1., 1., 1., 1., 1., 1., 1., 1., 1., 1.,\n",
       "       1., 1., 1., 1., 1., 1., 1., 1., 1., 1., 1., 1., 1., 1., 1., 1., 1.,\n",
       "       1., 1., 1., 1., 1., 1., 1., 1., 1., 1., 1., 1., 1., 1., 1., 1., 1.,\n",
       "       1., 1., 1., 1., 1., 1., 1., 1., 1., 1., 1., 1., 1., 1., 1., 1., 1.,\n",
       "       1., 1., 1., 1., 1., 1., 1., 1., 1., 1., 1., 1., 1., 1., 1., 1., 1.,\n",
       "       1., 1., 1., 1., 1., 1., 1., 1., 1., 1., 1., 1., 1., 1., 1., 1., 1.,\n",
       "       1., 1., 1., 1., 1., 1., 1., 1., 1., 1., 1., 1., 1., 1., 1., 1., 1.,\n",
       "       1., 1., 1., 1., 1., 1., 1., 1., 1., 1., 1., 1., 1., 1., 1., 1., 1.,\n",
       "       1., 1., 1., 1., 1., 1., 1., 1., 1., 1., 1., 1., 1., 1., 1., 1., 1.,\n",
       "       1., 1., 1., 1., 1., 1., 1., 1., 1., 1., 1., 1., 1., 1., 1., 1., 1.,\n",
       "       1., 1., 1., 1., 1., 1., 1., 1., 1., 1., 1., 1., 1., 1., 1., 1., 1.,\n",
       "       1., 1., 1., 1., 1., 1., 1., 1., 1., 1., 1., 1., 1., 1., 1., 1., 1.,\n",
       "       1., 1., 1., 1., 1., 1., 1., 1., 1., 1., 1., 1., 1., 1., 1., 1., 1.,\n",
       "       1., 1., 1., 1., 1., 1., 1., 1., 1., 1., 1., 1., 1., 1., 1., 1., 1.,\n",
       "       1., 1., 1., 1., 1., 1., 1., 1., 1., 1., 1., 1., 1., 1., 1., 1., 1.,\n",
       "       1., 1., 1., 1., 1., 1., 1., 1., 1., 1., 1., 1., 1., 1., 1., 1., 1.,\n",
       "       1., 1., 1., 1., 1., 1., 1., 1., 1., 1., 1., 1., 1., 1., 1., 1., 1.,\n",
       "       1., 1., 1., 1., 1., 1., 1., 1., 1., 1., 1., 1., 1., 1., 1., 1., 1.,\n",
       "       1., 1., 1., 1., 1., 1., 1., 1., 1., 1., 1., 1., 1., 1., 1., 1., 1.,\n",
       "       1., 1., 1., 1., 1., 1., 1., 1., 1., 1., 1., 1., 1., 1., 1., 1., 1.,\n",
       "       1., 1., 1., 1., 1., 1., 1., 1., 1., 1., 1., 1., 1., 1., 1., 1., 1.,\n",
       "       1., 1., 1., 1., 1., 1., 1., 1., 1., 1., 1., 1., 1., 1., 1., 1., 1.,\n",
       "       1., 1., 1.], dtype=float32)>"
      ]
     },
     "execution_count": 28,
     "metadata": {},
     "output_type": "execute_result"
    }
   ],
   "source": [
    "tf.ones(len(anchor))"
   ]
  },
  {
   "cell_type": "code",
   "execution_count": 29,
   "id": "6598a1b5",
   "metadata": {},
   "outputs": [],
   "source": [
    "# directories concatenated together \n",
    "positives = tf.data.Dataset.zip((anchor, positive, tf.data.Dataset.from_tensor_slices(tf.ones(len(anchor))))) # for varified\n",
    "negatives = tf.data.Dataset.zip((anchor, negative, tf.data.Dataset.from_tensor_slices(tf.zeros(len(anchor)))))# for not variied \n",
    "data = positives.concatenate(negatives)\n",
    "# e actually got one big dataset which it has the shape of so it will be our anchor images or \n",
    "# either positive images or negative file paths or either its going to be one or zeros"
   ]
  },
  {
   "cell_type": "code",
   "execution_count": 30,
   "id": "fbb0e61b",
   "metadata": {},
   "outputs": [
    {
     "data": {
      "text/plain": [
       "<ConcatenateDataset element_spec=(TensorSpec(shape=(), dtype=tf.string, name=None), TensorSpec(shape=(), dtype=tf.string, name=None), TensorSpec(shape=(), dtype=tf.float32, name=None))>"
      ]
     },
     "execution_count": 30,
     "metadata": {},
     "output_type": "execute_result"
    }
   ],
   "source": [
    "data"
   ]
  },
  {
   "cell_type": "code",
   "execution_count": 31,
   "id": "66cd16fb",
   "metadata": {},
   "outputs": [],
   "source": [
    "samples = data.as_numpy_iterator()"
   ]
  },
  {
   "cell_type": "code",
   "execution_count": 32,
   "id": "fe055559",
   "metadata": {},
   "outputs": [
    {
     "data": {
      "text/plain": [
       "(b'data\\\\anchor\\\\106c0041-012c-11ee-9275-c81f6624b715.jpg',\n",
       " b'data\\\\positive\\\\78891912-012c-11ee-ad5c-c81f6624b715.jpg',\n",
       " 1.0)"
      ]
     },
     "execution_count": 32,
     "metadata": {},
     "output_type": "execute_result"
    }
   ],
   "source": [
    "samples.next() # this is one sample of our data"
   ]
  },
  {
   "cell_type": "code",
   "execution_count": 33,
   "id": "6b74489a",
   "metadata": {},
   "outputs": [],
   "source": [
    "exampple = samples.next() # ye next bar bar run karne se image change hoti hai yahan bhihorahi par ye pehle sari positive wali ke paths aarahe phr jab positive images khatam hongi tab negative ke paths aainge isliye humme data shuffle karna hoga jo hum agay karenge"
   ]
  },
  {
   "cell_type": "code",
   "execution_count": 34,
   "id": "957e4202",
   "metadata": {},
   "outputs": [
    {
     "data": {
      "text/plain": [
       "(b'data\\\\anchor\\\\7c4757b1-012c-11ee-bb86-c81f6624b715.jpg',\n",
       " b'data\\\\positive\\\\7a3769c1-012c-11ee-9e29-c81f6624b715.jpg',\n",
       " 1.0)"
      ]
     },
     "execution_count": 34,
     "metadata": {},
     "output_type": "execute_result"
    }
   ],
   "source": [
    "exampple"
   ]
  },
  {
   "cell_type": "markdown",
   "id": "166ca4cd",
   "metadata": {},
   "source": [
    "# 3.  Build Train and Test Partition"
   ]
  },
  {
   "cell_type": "code",
   "execution_count": 35,
   "id": "b2376129",
   "metadata": {},
   "outputs": [],
   "source": [
    "def preprocess_twin(input_img, validation_img, label):# twin preprocessing function \n",
    "    return(preprocess(input_img), preprocess(validation_img), label)\n",
    "# ye function prediction ke liye hai input img matlab anchor  image aur ye validation img\n",
    "# positive image bhi hoskati aur negative bhi "
   ]
  },
  {
   "cell_type": "code",
   "execution_count": 36,
   "id": "2013cae8",
   "metadata": {},
   "outputs": [
    {
     "data": {
      "text/plain": [
       "(<tf.Tensor: shape=(100, 100, 3), dtype=float32, numpy=\n",
       " array([[[0.03627451, 0.03235294, 0.01666667],\n",
       "         [0.04019608, 0.03627451, 0.01960784],\n",
       "         [0.03946079, 0.03553922, 0.01593137],\n",
       "         ...,\n",
       "         [0.7487745 , 0.779902  , 0.78063726],\n",
       "         [0.68602943, 0.7085784 , 0.7497549 ],\n",
       "         [0.3009804 , 0.33161765, 0.40808824]],\n",
       " \n",
       "        [[0.02745098, 0.03235294, 0.01470588],\n",
       "         [0.02941176, 0.03431373, 0.01666667],\n",
       "         [0.02941176, 0.03431373, 0.01519608],\n",
       "         ...,\n",
       "         [0.7289216 , 0.7987745 , 0.8007353 ],\n",
       "         [0.47941175, 0.53455883, 0.5620098 ],\n",
       "         [0.33112746, 0.38137254, 0.43529412]],\n",
       " \n",
       "        [[0.02745098, 0.03529412, 0.02352941],\n",
       "         [0.02426471, 0.03210784, 0.02034314],\n",
       "         [0.03259804, 0.0382353 , 0.02058824],\n",
       "         ...,\n",
       "         [0.7343137 , 0.79313725, 0.79313725],\n",
       "         [0.51985294, 0.5757353 , 0.5830882 ],\n",
       "         [0.40980393, 0.47867647, 0.5004902 ]],\n",
       " \n",
       "        ...,\n",
       " \n",
       "        [[0.5242647 , 0.4497549 , 0.16078432],\n",
       "         [0.6281863 , 0.5892157 , 0.2987745 ],\n",
       "         [0.65343136, 0.62009805, 0.3377451 ],\n",
       "         ...,\n",
       "         [0.78210783, 0.44485295, 0.1889706 ],\n",
       "         [0.9622549 , 0.7894608 , 0.40294117],\n",
       "         [0.91813725, 0.81715685, 0.35318628]],\n",
       " \n",
       "        [[0.5026961 , 0.41642156, 0.12965687],\n",
       "         [0.5838235 , 0.514951  , 0.23431373],\n",
       "         [0.6615196 , 0.61446077, 0.33284312],\n",
       "         ...,\n",
       "         [0.7705882 , 0.4247549 , 0.17254902],\n",
       "         [0.9102941 , 0.7264706 , 0.34142157],\n",
       "         [0.93921566, 0.8375    , 0.37573528]],\n",
       " \n",
       "        [[0.4776961 , 0.3992647 , 0.12083333],\n",
       "         [0.55490196, 0.47745097, 0.20784314],\n",
       "         [0.66495097, 0.62083334, 0.34142157],\n",
       "         ...,\n",
       "         [0.8267157 , 0.46617648, 0.2129902 ],\n",
       "         [0.94534314, 0.7487745 , 0.35980392],\n",
       "         [0.91593134, 0.7985294 , 0.3360294 ]]], dtype=float32)>,\n",
       " <tf.Tensor: shape=(100, 100, 3), dtype=float32, numpy=\n",
       " array([[[0.4987745 , 0.5301471 , 0.5752451 ],\n",
       "         [0.15955882, 0.17524509, 0.1889706 ],\n",
       "         [0.03627451, 0.04117647, 0.02426471],\n",
       "         ...,\n",
       "         [0.7703431 , 0.79068625, 0.78382355],\n",
       "         [0.67941177, 0.6875    , 0.70343137],\n",
       "         [0.3852941 , 0.40294117, 0.44705883]],\n",
       " \n",
       "        [[0.425     , 0.45637256, 0.50147057],\n",
       "         [0.10196079, 0.11176471, 0.12843138],\n",
       "         [0.03946079, 0.04240196, 0.02794118],\n",
       "         ...,\n",
       "         [0.7382353 , 0.7852941 , 0.7941176 ],\n",
       "         [0.53382355, 0.5757353 , 0.59117645],\n",
       "         [0.40367648, 0.43039215, 0.4598039 ]],\n",
       " \n",
       "        [[0.24191177, 0.27328432, 0.31838235],\n",
       "         [0.09044117, 0.10098039, 0.11544117],\n",
       "         [0.04142157, 0.03848039, 0.0247549 ],\n",
       "         ...,\n",
       "         [0.73995095, 0.7980392 , 0.8       ],\n",
       "         [0.50784314, 0.57990193, 0.5740196 ],\n",
       "         [0.4642157 , 0.51593137, 0.5178922 ]],\n",
       " \n",
       "        ...,\n",
       " \n",
       "        [[0.6191176 , 0.52892154, 0.22034314],\n",
       "         [0.6607843 , 0.597549  , 0.32328433],\n",
       "         [0.62058824, 0.56397057, 0.3230392 ],\n",
       "         ...,\n",
       "         [0.21887255, 0.3227941 , 0.10710784],\n",
       "         [0.49509802, 0.49019608, 0.28504902],\n",
       "         [0.6161765 , 0.4764706 , 0.30465686]],\n",
       " \n",
       "        [[0.65833336, 0.58186275, 0.27156863],\n",
       "         [0.66568625, 0.6039216 , 0.3156863 ],\n",
       "         [0.6906863 , 0.62671566, 0.38946077],\n",
       "         ...,\n",
       "         [0.39362746, 0.4852941 , 0.27083334],\n",
       "         [0.5397059 , 0.5370098 , 0.3245098 ],\n",
       "         [0.49362746, 0.35392156, 0.18210784]],\n",
       " \n",
       "        [[0.67941177, 0.5830882 , 0.29509804],\n",
       "         [0.6578431 , 0.58235294, 0.3       ],\n",
       "         [0.66789216, 0.62034315, 0.3872549 ],\n",
       "         ...,\n",
       "         [0.41813725, 0.48406863, 0.27965686],\n",
       "         [0.5213235 , 0.49215686, 0.2884804 ],\n",
       "         [0.5769608 , 0.40833333, 0.23529412]]], dtype=float32)>,\n",
       " 1.0)"
      ]
     },
     "execution_count": 36,
     "metadata": {},
     "output_type": "execute_result"
    }
   ],
   "source": [
    "preprocess_twin(*exampple) # * isliye lagaya take ye path ko extract karle (unpack) karle khud se"
   ]
  },
  {
   "cell_type": "code",
   "execution_count": 37,
   "id": "ee896adc",
   "metadata": {},
   "outputs": [],
   "source": [
    "res = preprocess_twin(*exampple)"
   ]
  },
  {
   "cell_type": "code",
   "execution_count": 38,
   "id": "ba2087a8",
   "metadata": {},
   "outputs": [
    {
     "data": {
      "text/plain": [
       "3"
      ]
     },
     "execution_count": 38,
     "metadata": {},
     "output_type": "execute_result"
    }
   ],
   "source": [
    "len(res)"
   ]
  },
  {
   "cell_type": "code",
   "execution_count": 39,
   "id": "04e21073",
   "metadata": {},
   "outputs": [
    {
     "data": {
      "text/plain": [
       "<matplotlib.image.AxesImage at 0x17a9558a4c0>"
      ]
     },
     "execution_count": 39,
     "metadata": {},
     "output_type": "execute_result"
    },
    {
     "data": {
      "image/png": "[encoded data removed]",
      "text/plain": [
       "<Figure size 432x288 with 1 Axes>"
      ]
     },
     "metadata": {
      "needs_background": "light"
     },
     "output_type": "display_data"
    }
   ],
   "source": [
    "plt.imshow(res[0])"
   ]
  },
  {
   "cell_type": "code",
   "execution_count": 40,
   "id": "bfb5099f",
   "metadata": {},
   "outputs": [
    {
     "data": {
      "text/plain": [
       "<matplotlib.image.AxesImage at 0x17a955ea700>"
      ]
     },
     "execution_count": 40,
     "metadata": {},
     "output_type": "execute_result"
    },
    {
     "data": {
      "image/png": "[encoded data removed]",
      "text/plain": [
       "<Figure size 432x288 with 1 Axes>"
      ]
     },
     "metadata": {
      "needs_background": "light"
     },
     "output_type": "display_data"
    }
   ],
   "source": [
    "plt.imshow(res[1])"
   ]
  },
  {
   "cell_type": "code",
   "execution_count": 41,
   "id": "36dcf9aa",
   "metadata": {},
   "outputs": [
    {
     "data": {
      "text/plain": [
       "1.0"
      ]
     },
     "execution_count": 41,
     "metadata": {},
     "output_type": "execute_result"
    }
   ],
   "source": [
    "res[2]"
   ]
  },
  {
   "cell_type": "code",
   "execution_count": 42,
   "id": "d3038d77",
   "metadata": {},
   "outputs": [],
   "source": [
    "# ooper teeno images meri hain matlab ye positive hai ye 3 values iliye deraha kuinke humne\n",
    "# preprocess ke function me 3 channels likha tha "
   ]
  },
  {
   "cell_type": "code",
   "execution_count": 43,
   "id": "425fc873",
   "metadata": {},
   "outputs": [],
   "source": [
    "# Build dataloader pipeline\n",
    "data = data.map(preprocess_twin)\n",
    "data = data.cache()# caching imaging \n",
    "data = data.shuffle(buffer_size=10000)# shuffle data ---is liye kia take mix set hon samples ka matlab positive negative sari images mix hojian kuinke agay training aur testing me break nkarna hoga humme "
   ]
  },
  {
   "cell_type": "code",
   "execution_count": 44,
   "id": "e8327ed8",
   "metadata": {},
   "outputs": [
    {
     "data": {
      "text/plain": [
       "<ShuffleDataset element_spec=(TensorSpec(shape=(100, 100, None), dtype=tf.float32, name=None), TensorSpec(shape=(100, 100, None), dtype=tf.float32, name=None), TensorSpec(shape=(), dtype=tf.float32, name=None))>"
      ]
     },
     "execution_count": 44,
     "metadata": {},
     "output_type": "execute_result"
    }
   ],
   "source": [
    "data"
   ]
  },
  {
   "cell_type": "code",
   "execution_count": 45,
   "id": "c8aba97f",
   "metadata": {},
   "outputs": [
    {
     "data": {
      "text/plain": [
       "(array([[[0.31813726, 0.3492647 , 0.43676472],\n",
       "         [0.6632353 , 0.68921566, 0.7115196 ],\n",
       "         [0.8034314 , 0.8335784 , 0.8303922 ],\n",
       "         ...,\n",
       "         [0.03529412, 0.03137255, 0.02352941],\n",
       "         [0.03700981, 0.03308824, 0.0252451 ],\n",
       "         [0.05686275, 0.05294118, 0.04509804]],\n",
       " \n",
       "        [[0.35196078, 0.38039216, 0.44558823],\n",
       "         [0.5125    , 0.54264706, 0.60808825],\n",
       "         [0.79240197, 0.8338235 , 0.85612744],\n",
       "         ...,\n",
       "         [0.03921569, 0.03529412, 0.02745098],\n",
       "         [0.03627451, 0.03235294, 0.0245098 ],\n",
       "         [0.05392157, 0.05      , 0.04215686]],\n",
       " \n",
       "        [[0.40612745, 0.45808825, 0.475     ],\n",
       "         [0.5362745 , 0.5735294 , 0.5901961 ],\n",
       "         [0.7860294 , 0.8161765 , 0.82867646],\n",
       "         ...,\n",
       "         [0.03627451, 0.03235294, 0.0245098 ],\n",
       "         [0.03308824, 0.02916667, 0.02132353],\n",
       "         [0.03259804, 0.02867647, 0.02083333]],\n",
       " \n",
       "        ...,\n",
       " \n",
       "        [[0.81421566, 0.64362746, 0.21642157],\n",
       "         [0.907598  , 0.79583335, 0.38897058],\n",
       "         [0.94779414, 0.86789215, 0.46642157],\n",
       "         ...,\n",
       "         [0.5803922 , 0.56666666, 0.41960785],\n",
       "         [0.54068625, 0.5276961 , 0.3485294 ],\n",
       "         [0.61470586, 0.5948529 , 0.3872549 ]],\n",
       " \n",
       "        [[0.82867646, 0.6620098 , 0.20269608],\n",
       "         [0.9367647 , 0.8213235 , 0.39632353],\n",
       "         [0.95906866, 0.8718137 , 0.47181374],\n",
       "         ...,\n",
       "         [0.535049  , 0.53382355, 0.38308823],\n",
       "         [0.5747549 , 0.56691176, 0.3855392 ],\n",
       "         [0.6605392 , 0.6428922 , 0.42794117]],\n",
       " \n",
       "        [[0.8328431 , 0.6720588 , 0.19215687],\n",
       "         [0.9137255 , 0.81078434, 0.37254903],\n",
       "         [0.964951  , 0.8781863 , 0.47892156],\n",
       "         ...,\n",
       "         [0.6041667 , 0.6093137 , 0.47132352],\n",
       "         [0.5801471 , 0.5732843 , 0.38602942],\n",
       "         [0.6188725 , 0.5833333 , 0.35588235]]], dtype=float32),\n",
       " array([[[0.        , 0.        , 0.        ],\n",
       "         [0.        , 0.        , 0.        ],\n",
       "         [0.        , 0.        , 0.        ],\n",
       "         ...,\n",
       "         [0.81764704, 0.82034314, 0.8384804 ],\n",
       "         [0.8879902 , 0.8492647 , 0.79509807],\n",
       "         [0.44436276, 0.46053922, 0.39264706]],\n",
       " \n",
       "        [[0.        , 0.        , 0.        ],\n",
       "         [0.        , 0.        , 0.        ],\n",
       "         [0.        , 0.        , 0.        ],\n",
       "         ...,\n",
       "         [0.79387254, 0.845098  , 0.8593137 ],\n",
       "         [0.6073529 , 0.6433824 , 0.6338235 ],\n",
       "         [0.39656863, 0.37058824, 0.35441175]],\n",
       " \n",
       "        [[0.        , 0.        , 0.        ],\n",
       "         [0.        , 0.        , 0.        ],\n",
       "         [0.        , 0.        , 0.        ],\n",
       "         ...,\n",
       "         [0.75784314, 0.8392157 , 0.86740196],\n",
       "         [0.5411765 , 0.59362745, 0.60514706],\n",
       "         [0.5088235 , 0.4345588 , 0.39044118]],\n",
       " \n",
       "        ...,\n",
       " \n",
       "        [[0.71936274, 0.6742647 , 0.37254903],\n",
       "         [0.68210787, 0.6389706 , 0.32769608],\n",
       "         [0.7022059 , 0.6639706 , 0.4105392 ],\n",
       "         ...,\n",
       "         [0.49926472, 0.4865196 , 0.25906864],\n",
       "         [0.64509803, 0.43823528, 0.26078433],\n",
       "         [0.5227941 , 0.20465687, 0.09803922]],\n",
       " \n",
       "        [[0.73014706, 0.6786765 , 0.3997549 ],\n",
       "         [0.69215685, 0.66740197, 0.35392156],\n",
       "         [0.69264704, 0.6458333 , 0.3495098 ],\n",
       "         ...,\n",
       "         [0.49779412, 0.50759804, 0.27107844],\n",
       "         [0.547549  , 0.35882354, 0.16568628],\n",
       "         [0.532598  , 0.2009804 , 0.07965686]],\n",
       " \n",
       "        [[0.7232843 , 0.6578431 , 0.35196078],\n",
       "         [0.73382354, 0.7022059 , 0.45735294],\n",
       "         [0.7230392 , 0.65931374, 0.3779412 ],\n",
       "         ...,\n",
       "         [0.46470588, 0.39950982, 0.17034313],\n",
       "         [0.71004903, 0.47916666, 0.2884804 ],\n",
       "         [0.5036765 , 0.1742647 , 0.04485294]]], dtype=float32),\n",
       " 1.0)"
      ]
     },
     "execution_count": 45,
     "metadata": {},
     "output_type": "execute_result"
    }
   ],
   "source": [
    "samples = data.as_numpy_iterator()\n",
    "samples.next()"
   ]
  },
  {
   "cell_type": "code",
   "execution_count": 46,
   "id": "437c6fd5",
   "metadata": {},
   "outputs": [
    {
     "data": {
      "text/plain": [
       "3"
      ]
     },
     "execution_count": 46,
     "metadata": {},
     "output_type": "execute_result"
    }
   ],
   "source": [
    "len(samples.next()) # 3 means first is anchor image ,2nd wwill be either positive or negative and 3rd value is label means decision if anchor image and positive image then 1 ,if anchor image and negative image then 0 "
   ]
  },
  {
   "cell_type": "code",
   "execution_count": 47,
   "id": "b849dce8",
   "metadata": {},
   "outputs": [],
   "source": [
    "sam = samples.next()"
   ]
  },
  {
   "cell_type": "code",
   "execution_count": 48,
   "id": "bddd48f1",
   "metadata": {},
   "outputs": [
    {
     "data": {
      "text/plain": [
       "<matplotlib.image.AxesImage at 0x17a95676670>"
      ]
     },
     "execution_count": 48,
     "metadata": {},
     "output_type": "execute_result"
    },
    {
     "data": {
      "image/png": "[encoded data removed]",
      "text/plain": [
       "<Figure size 432x288 with 1 Axes>"
      ]
     },
     "metadata": {
      "needs_background": "light"
     },
     "output_type": "display_data"
    }
   ],
   "source": [
    "plt.imshow(sam[0])"
   ]
  },
  {
   "cell_type": "code",
   "execution_count": 49,
   "id": "a5864ba7",
   "metadata": {},
   "outputs": [
    {
     "data": {
      "text/plain": [
       "<matplotlib.image.AxesImage at 0x17a966fc520>"
      ]
     },
     "execution_count": 49,
     "metadata": {},
     "output_type": "execute_result"
    },
    {
     "data": {
      "image/png": "[encoded data removed]",
      "text/plain": [
       "<Figure size 432x288 with 1 Axes>"
      ]
     },
     "metadata": {
      "needs_background": "light"
     },
     "output_type": "display_data"
    }
   ],
   "source": [
    "plt.imshow(sam[1])"
   ]
  },
  {
   "cell_type": "code",
   "execution_count": 50,
   "id": "61e40a83",
   "metadata": {},
   "outputs": [
    {
     "data": {
      "text/plain": [
       "0.0"
      ]
     },
     "execution_count": 50,
     "metadata": {},
     "output_type": "execute_result"
    }
   ],
   "source": [
    "# the first image is input image means anchor image 2nd one is negative image so the label is zero\n",
    "sam[2]"
   ]
  },
  {
   "cell_type": "code",
   "execution_count": 51,
   "id": "b324bd45",
   "metadata": {},
   "outputs": [],
   "source": [
    "# Training partition\n",
    "train_data = data.take(round(len(data)*.7)) # take --- grabs the certain percentage of our dataset \n",
    "train_data = train_data.batch(16)\n",
    "train_data = train_data.prefetch(8)"
   ]
  },
  {
   "cell_type": "code",
   "execution_count": 52,
   "id": "982351f2",
   "metadata": {},
   "outputs": [
    {
     "data": {
      "text/plain": [
       "(array([[[[0.03921569, 0.03137255, 0.03529412],\n",
       "          [0.03529412, 0.03627451, 0.0254902 ],\n",
       "          [0.03235294, 0.03921569, 0.01960784],\n",
       "          ...,\n",
       "          [0.7536765 , 0.8232843 , 0.81666666],\n",
       "          [0.6107843 , 0.6372549 , 0.68333334],\n",
       "          [0.24509804, 0.2497549 , 0.35931373]],\n",
       " \n",
       "         [[0.03921569, 0.03235294, 0.03333334],\n",
       "          [0.03529412, 0.03627451, 0.0254902 ],\n",
       "          [0.03235294, 0.03921569, 0.01960784],\n",
       "          ...,\n",
       "          [0.7151961 , 0.7757353 , 0.8066176 ],\n",
       "          [0.4735294 , 0.50392157, 0.56715685],\n",
       "          [0.3526961 , 0.37034315, 0.4732843 ]],\n",
       " \n",
       "         [[0.03921569, 0.03529412, 0.02745098],\n",
       "          [0.03529412, 0.03627451, 0.0254902 ],\n",
       "          [0.03455883, 0.03921569, 0.01960784],\n",
       "          ...,\n",
       "          [0.7357843 , 0.777451  , 0.7862745 ],\n",
       "          [0.5372549 , 0.5747549 , 0.5901961 ],\n",
       "          [0.47107843, 0.5095588 , 0.54558825]],\n",
       " \n",
       "         ...,\n",
       " \n",
       "         [[0.59436274, 0.5747549 , 0.31004903],\n",
       "          [0.56740195, 0.5477941 , 0.28308824],\n",
       "          [0.59607846, 0.5808824 , 0.32034314],\n",
       "          ...,\n",
       "          [0.95735294, 0.78333336, 0.4644608 ],\n",
       "          [0.9634804 , 0.860049  , 0.4343137 ],\n",
       "          [0.90294117, 0.845098  , 0.35490197]],\n",
       " \n",
       "         [[0.6931372 , 0.67058825, 0.4254902 ],\n",
       "          [0.61691177, 0.5884804 , 0.34338236],\n",
       "          [0.6632353 , 0.63848037, 0.3992647 ],\n",
       "          ...,\n",
       "          [0.85808825, 0.65931374, 0.34289217],\n",
       "          [0.96568626, 0.860049  , 0.4372549 ],\n",
       "          [0.92401963, 0.84436274, 0.3762255 ]],\n",
       " \n",
       "         [[0.66568625, 0.65392154, 0.3480392 ],\n",
       "          [0.60563725, 0.58137256, 0.28970587],\n",
       "          [0.6129902 , 0.5855392 , 0.31495097],\n",
       "          ...,\n",
       "          [0.8566176 , 0.6254902 , 0.3022059 ],\n",
       "          [0.96838236, 0.8487745 , 0.4254902 ],\n",
       "          [0.89705884, 0.78995097, 0.32941177]]],\n",
       " \n",
       " \n",
       "        [[[0.06960785, 0.11176471, 0.09901961],\n",
       "          [0.06495098, 0.08970588, 0.06348039],\n",
       "          [0.06446078, 0.07034314, 0.03995098],\n",
       "          ...,\n",
       "          [0.51985294, 0.44436276, 0.3134804 ],\n",
       "          [0.5267157 , 0.4504902 , 0.2987745 ],\n",
       "          [0.5235294 , 0.45686275, 0.2882353 ]],\n",
       " \n",
       "         [[0.08872549, 0.13627452, 0.12892157],\n",
       "          [0.06666667, 0.09803922, 0.07745098],\n",
       "          [0.06151961, 0.06740196, 0.03700981],\n",
       "          ...,\n",
       "          [0.54607844, 0.4715686 , 0.32867646],\n",
       "          [0.55196077, 0.4752451 , 0.32352942],\n",
       "          [0.5379902 , 0.46740195, 0.3125    ]],\n",
       " \n",
       "         [[0.07671569, 0.1375    , 0.13529412],\n",
       "          [0.05710784, 0.09534314, 0.07965686],\n",
       "          [0.04509804, 0.05882353, 0.03235294],\n",
       "          ...,\n",
       "          [0.5605392 , 0.48014706, 0.33504903],\n",
       "          [0.54044116, 0.45931372, 0.32083333],\n",
       "          [0.5235294 , 0.45      , 0.31764707]],\n",
       " \n",
       "         ...,\n",
       " \n",
       "         [[0.6502451 , 0.6406863 , 0.41470587],\n",
       "          [0.64730394, 0.6394608 , 0.4002451 ],\n",
       "          [0.7703431 , 0.76053923, 0.51936275],\n",
       "          ...,\n",
       "          [0.7492647 , 0.38112745, 0.1754902 ],\n",
       "          [0.8254902 , 0.5512255 , 0.29117647],\n",
       "          [0.9941176 , 0.9171569 , 0.6007353 ]],\n",
       " \n",
       "         [[0.7384804 , 0.7404412 , 0.51617646],\n",
       "          [0.62965685, 0.6286765 , 0.37696078],\n",
       "          [0.70955884, 0.69240195, 0.43480393],\n",
       "          ...,\n",
       "          [0.7982843 , 0.4357843 , 0.23357843],\n",
       "          [0.84338236, 0.5637255 , 0.31470588],\n",
       "          [0.9723039 , 0.8745098 , 0.5713235 ]],\n",
       " \n",
       "         [[0.7409314 , 0.76004905, 0.5210784 ],\n",
       "          [0.6735294 , 0.67696077, 0.41691175],\n",
       "          [0.64387256, 0.62671566, 0.36691177],\n",
       "          ...,\n",
       "          [0.80857843, 0.4252451 , 0.22843137],\n",
       "          [0.8987745 , 0.5806373 , 0.34068626],\n",
       "          [0.99558824, 0.8718137 , 0.57058823]]],\n",
       " \n",
       " \n",
       "        [[[0.        , 0.        , 0.        ],\n",
       "          [0.        , 0.        , 0.        ],\n",
       "          [0.        , 0.        , 0.        ],\n",
       "          ...,\n",
       "          [0.7240196 , 0.8147059 , 0.85833335],\n",
       "          [0.67034316, 0.6455882 , 0.7019608 ],\n",
       "          [0.20441176, 0.23014706, 0.42132354]],\n",
       " \n",
       "         [[0.        , 0.        , 0.        ],\n",
       "          [0.        , 0.        , 0.        ],\n",
       "          [0.        , 0.        , 0.        ],\n",
       "          ...,\n",
       "          [0.7269608 , 0.7848039 , 0.78357846],\n",
       "          [0.46813726, 0.51666665, 0.5865196 ],\n",
       "          [0.2769608 , 0.30465686, 0.44191176]],\n",
       " \n",
       "         [[0.        , 0.        , 0.        ],\n",
       "          [0.        , 0.        , 0.        ],\n",
       "          [0.        , 0.        , 0.        ],\n",
       "          ...,\n",
       "          [0.7392157 , 0.78210783, 0.7914216 ],\n",
       "          [0.49926472, 0.60759807, 0.63039213],\n",
       "          [0.4117647 , 0.45196077, 0.51862746]],\n",
       " \n",
       "         ...,\n",
       " \n",
       "         [[0.5713235 , 0.5529412 , 0.2872549 ],\n",
       "          [0.6308824 , 0.61495095, 0.34338236],\n",
       "          [0.53137255, 0.5154412 , 0.24387255],\n",
       "          ...,\n",
       "          [0.94264704, 0.8267157 , 0.37843138],\n",
       "          [0.9404412 , 0.8639706 , 0.34460783],\n",
       "          [0.95759803, 0.86446077, 0.3365196 ]],\n",
       " \n",
       "         [[0.5627451 , 0.54534316, 0.30906862],\n",
       "          [0.6333333 , 0.6166667 , 0.33578432],\n",
       "          [0.63161767, 0.61495095, 0.34142157],\n",
       "          ...,\n",
       "          [0.98259807, 0.8240196 , 0.44852942],\n",
       "          [0.9578431 , 0.8541667 , 0.37941176],\n",
       "          [0.95637256, 0.84387255, 0.33284312]],\n",
       " \n",
       "         [[0.64411765, 0.63039213, 0.33848038],\n",
       "          [0.5852941 , 0.56102943, 0.21544118],\n",
       "          [0.63161767, 0.6066176 , 0.26740196],\n",
       "          ...,\n",
       "          [0.9973039 , 0.8718137 , 0.49583334],\n",
       "          [0.90392154, 0.7629902 , 0.25490198],\n",
       "          [0.93602943, 0.7558824 , 0.19828431]]],\n",
       " \n",
       " \n",
       "        ...,\n",
       " \n",
       " \n",
       "        [[[0.        , 0.        , 0.        ],\n",
       "          [0.        , 0.        , 0.        ],\n",
       "          [0.        , 0.        , 0.        ],\n",
       "          ...,\n",
       "          [0.8105392 , 0.8485294 , 0.82254905],\n",
       "          [0.7703431 , 0.7509804 , 0.7612745 ],\n",
       "          [0.30661765, 0.3507353 , 0.41813725]],\n",
       " \n",
       "         [[0.        , 0.        , 0.        ],\n",
       "          [0.        , 0.        , 0.        ],\n",
       "          [0.        , 0.        , 0.        ],\n",
       "          ...,\n",
       "          [0.7877451 , 0.8303922 , 0.85294116],\n",
       "          [0.5235294 , 0.5879902 , 0.61446077],\n",
       "          [0.39215687, 0.4360294 , 0.50661767]],\n",
       " \n",
       "         [[0.        , 0.        , 0.        ],\n",
       "          [0.        , 0.        , 0.        ],\n",
       "          [0.        , 0.        , 0.        ],\n",
       "          ...,\n",
       "          [0.81666666, 0.8598039 , 0.8872549 ],\n",
       "          [0.5411765 , 0.6284314 , 0.62990195],\n",
       "          [0.49019608, 0.51715684, 0.5568628 ]],\n",
       " \n",
       "         ...,\n",
       " \n",
       "         [[0.62328434, 0.5762255 , 0.33357844],\n",
       "          [0.7171569 , 0.6632353 , 0.4615196 ],\n",
       "          [0.70759803, 0.67696077, 0.46666667],\n",
       "          ...,\n",
       "          [0.8031863 , 0.44607842, 0.22794117],\n",
       "          [0.9970588 , 0.8372549 , 0.4764706 ],\n",
       "          [0.98382354, 0.88039213, 0.40318626]],\n",
       " \n",
       "         [[0.55220586, 0.49019608, 0.19534314],\n",
       "          [0.6938726 , 0.6242647 , 0.3644608 ],\n",
       "          [0.71568626, 0.69558823, 0.43946078],\n",
       "          ...,\n",
       "          [0.8546569 , 0.4598039 , 0.20882353],\n",
       "          [0.9348039 , 0.70637256, 0.34460783],\n",
       "          [0.985049  , 0.8865196 , 0.41421568]],\n",
       " \n",
       "         [[0.5757353 , 0.5034314 , 0.25588235],\n",
       "          [0.6377451 , 0.5473039 , 0.3156863 ],\n",
       "          [0.7343137 , 0.7107843 , 0.46862745],\n",
       "          ...,\n",
       "          [0.90686274, 0.44460785, 0.20833333],\n",
       "          [0.9522059 , 0.73137254, 0.35441175],\n",
       "          [0.9747549 , 0.8806372 , 0.38210785]]],\n",
       " \n",
       " \n",
       "        [[[0.24411765, 0.2485294 , 0.37254903],\n",
       "          [0.6105392 , 0.63529414, 0.6737745 ],\n",
       "          [0.82058823, 0.8610294 , 0.8333333 ],\n",
       "          ...,\n",
       "          [0.03455883, 0.03063725, 0.02279412],\n",
       "          [0.03627451, 0.03235294, 0.0245098 ],\n",
       "          [0.03921569, 0.03529412, 0.02745098]],\n",
       " \n",
       "         [[0.33970588, 0.34877452, 0.4132353 ],\n",
       "          [0.4151961 , 0.452451  , 0.48333332],\n",
       "          [0.7534314 , 0.80539215, 0.8115196 ],\n",
       "          ...,\n",
       "          [0.03529412, 0.03137255, 0.02352941],\n",
       "          [0.03602941, 0.03210784, 0.02426471],\n",
       "          [0.03921569, 0.03529412, 0.02745098]],\n",
       " \n",
       "         [[0.39387256, 0.4507353 , 0.44387254],\n",
       "          [0.51862746, 0.55539215, 0.5595588 ],\n",
       "          [0.7151961 , 0.7468137 , 0.75759804],\n",
       "          ...,\n",
       "          [0.0382353 , 0.03431373, 0.02647059],\n",
       "          [0.04117647, 0.0372549 , 0.02941176],\n",
       "          [0.03921569, 0.03529412, 0.02745098]],\n",
       " \n",
       "         ...,\n",
       " \n",
       "         [[0.8068628 , 0.6365196 , 0.18112744],\n",
       "          [0.9262255 , 0.81691176, 0.38431373],\n",
       "          [0.9338235 , 0.86519605, 0.4387255 ],\n",
       "          ...,\n",
       "          [0.5205882 , 0.52818626, 0.37941176],\n",
       "          [0.5127451 , 0.50735295, 0.3492647 ],\n",
       "          [0.6259804 , 0.60294116, 0.40269607]],\n",
       " \n",
       "         [[0.8303922 , 0.6617647 , 0.1875    ],\n",
       "          [0.94166666, 0.83235294, 0.3879902 ],\n",
       "          [0.9512255 , 0.8862745 , 0.45759803],\n",
       "          ...,\n",
       "          [0.5210784 , 0.5367647 , 0.39950982],\n",
       "          [0.5568628 , 0.55441177, 0.39754903],\n",
       "          [0.6723039 , 0.64117646, 0.44607842]],\n",
       " \n",
       "         [[0.83235294, 0.66568625, 0.18921569],\n",
       "          [0.9196078 , 0.7995098 , 0.360049  ],\n",
       "          [0.9627451 , 0.87083334, 0.4617647 ],\n",
       "          ...,\n",
       "          [0.6041667 , 0.6276961 , 0.49436274],\n",
       "          [0.5252451 , 0.5232843 , 0.37426472],\n",
       "          [0.6245098 , 0.59117645, 0.3985294 ]]],\n",
       " \n",
       " \n",
       "        [[[0.24485295, 0.24338235, 0.36102942],\n",
       "          [0.63186276, 0.6431373 , 0.67941177],\n",
       "          [0.79362744, 0.8455882 , 0.84117645],\n",
       "          ...,\n",
       "          [0.1247549 , 0.08161765, 0.03112745],\n",
       "          [0.04338235, 0.03063725, 0.00196078],\n",
       "          [0.03333334, 0.0375    , 0.02205882]],\n",
       " \n",
       "         [[0.30294117, 0.32156864, 0.36666667],\n",
       "          [0.4762255 , 0.5009804 , 0.55710787],\n",
       "          [0.76715684, 0.8122549 , 0.84338236],\n",
       "          ...,\n",
       "          [0.15784314, 0.09779412, 0.04093137],\n",
       "          [0.07352941, 0.05122549, 0.01495098],\n",
       "          [0.03627451, 0.03946079, 0.01960784]],\n",
       " \n",
       "         [[0.39509803, 0.42622548, 0.4372549 ],\n",
       "          [0.5563725 , 0.59632355, 0.6117647 ],\n",
       "          [0.74509805, 0.7752451 , 0.77843136],\n",
       "          ...,\n",
       "          [0.20294118, 0.1242647 , 0.0625    ],\n",
       "          [0.11715686, 0.06789216, 0.02892157],\n",
       "          [0.05367647, 0.04044118, 0.00686275]],\n",
       " \n",
       "         ...,\n",
       " \n",
       "         [[0.94191176, 0.86470586, 0.39338234],\n",
       "          [0.910049  , 0.82916665, 0.35539216],\n",
       "          [0.9605392 , 0.8392157 , 0.4625    ],\n",
       "          ...,\n",
       "          [0.5468137 , 0.51740193, 0.27132353],\n",
       "          [0.60637254, 0.5720588 , 0.30882353],\n",
       "          [0.575     , 0.5473039 , 0.27941176]],\n",
       " \n",
       "         [[0.93921566, 0.84166664, 0.38088235],\n",
       "          [0.9397059 , 0.8370098 , 0.38308823],\n",
       "          [0.98039216, 0.8502451 , 0.4852941 ],\n",
       "          ...,\n",
       "          [0.60637254, 0.5887255 , 0.35049018],\n",
       "          [0.6492647 , 0.6242647 , 0.38112745],\n",
       "          [0.6220588 , 0.5992647 , 0.36544117]],\n",
       " \n",
       "         [[0.9142157 , 0.8115196 , 0.34485295],\n",
       "          [0.8772059 , 0.7647059 , 0.30906862],\n",
       "          [0.9916667 , 0.86691177, 0.50465685],\n",
       "          ...,\n",
       "          [0.63529414, 0.60245097, 0.35171568],\n",
       "          [0.6120098 , 0.5681372 , 0.31519607],\n",
       "          [0.63039213, 0.5901961 , 0.34779412]]]], dtype=float32),\n",
       " array([[[[0.00000000e+00, 0.00000000e+00, 0.00000000e+00],\n",
       "          [0.00000000e+00, 0.00000000e+00, 0.00000000e+00],\n",
       "          [0.00000000e+00, 0.00000000e+00, 0.00000000e+00],\n",
       "          ...,\n",
       "          [3.97058815e-01, 4.24509794e-01, 3.97058815e-01],\n",
       "          [4.02941167e-01, 4.30392146e-01, 4.02941167e-01],\n",
       "          [4.07843143e-01, 4.35294122e-01, 4.07843143e-01]],\n",
       " \n",
       "         [[0.00000000e+00, 0.00000000e+00, 0.00000000e+00],\n",
       "          [0.00000000e+00, 0.00000000e+00, 0.00000000e+00],\n",
       "          [0.00000000e+00, 0.00000000e+00, 0.00000000e+00],\n",
       "          ...,\n",
       "          [4.00000006e-01, 4.27450985e-01, 4.00000006e-01],\n",
       "          [4.03186262e-01, 4.30637240e-01, 4.03186262e-01],\n",
       "          [4.07843143e-01, 4.35294122e-01, 4.07843143e-01]],\n",
       " \n",
       "         [[0.00000000e+00, 0.00000000e+00, 0.00000000e+00],\n",
       "          [0.00000000e+00, 0.00000000e+00, 0.00000000e+00],\n",
       "          [0.00000000e+00, 0.00000000e+00, 0.00000000e+00],\n",
       "          ...,\n",
       "          [4.00000006e-01, 4.27450985e-01, 4.00000006e-01],\n",
       "          [4.03921574e-01, 4.31372553e-01, 4.03921574e-01],\n",
       "          [4.07843143e-01, 4.35294122e-01, 4.07843143e-01]],\n",
       " \n",
       "         ...,\n",
       " \n",
       "         [[0.00000000e+00, 0.00000000e+00, 0.00000000e+00],\n",
       "          [0.00000000e+00, 0.00000000e+00, 0.00000000e+00],\n",
       "          [0.00000000e+00, 0.00000000e+00, 0.00000000e+00],\n",
       "          ...,\n",
       "          [1.15196079e-01, 1.38725489e-01, 1.38725489e-01],\n",
       "          [1.51225492e-01, 1.76960781e-01, 1.68382347e-01],\n",
       "          [1.72794119e-01, 1.99264705e-01, 1.82598040e-01]],\n",
       " \n",
       "         [[0.00000000e+00, 0.00000000e+00, 0.00000000e+00],\n",
       "          [0.00000000e+00, 0.00000000e+00, 0.00000000e+00],\n",
       "          [0.00000000e+00, 0.00000000e+00, 0.00000000e+00],\n",
       "          ...,\n",
       "          [5.53676486e-01, 5.83088219e-01, 5.88970602e-01],\n",
       "          [4.54166681e-01, 4.88725483e-01, 4.79166657e-01],\n",
       "          [1.97058827e-01, 2.38235295e-01, 2.21568629e-01]],\n",
       " \n",
       "         [[0.00000000e+00, 0.00000000e+00, 0.00000000e+00],\n",
       "          [0.00000000e+00, 0.00000000e+00, 0.00000000e+00],\n",
       "          [0.00000000e+00, 0.00000000e+00, 0.00000000e+00],\n",
       "          ...,\n",
       "          [8.22794139e-01, 8.62009823e-01, 8.63970578e-01],\n",
       "          [6.68382347e-01, 7.07598031e-01, 7.03676462e-01],\n",
       "          [2.79411763e-01, 3.22549015e-01, 3.06862742e-01]]],\n",
       " \n",
       " \n",
       "        [[[2.32107848e-01, 2.98774511e-01, 4.00735289e-01],\n",
       "          [2.38235295e-01, 3.07843149e-01, 4.08823520e-01],\n",
       "          [2.45098040e-01, 3.29411775e-01, 4.24509794e-01],\n",
       "          ...,\n",
       "          [2.49019608e-01, 3.39215696e-01, 4.03921574e-01],\n",
       "          [3.59803915e-01, 4.47058827e-01, 5.26470602e-01],\n",
       "          [4.42892164e-01, 5.29166639e-01, 6.19362772e-01]],\n",
       " \n",
       "         [[2.26715684e-01, 2.93382347e-01, 3.95343125e-01],\n",
       "          [2.31372550e-01, 3.00980389e-01, 4.01960790e-01],\n",
       "          [2.40686268e-01, 3.24999988e-01, 4.20098037e-01],\n",
       "          ...,\n",
       "          [2.49264702e-01, 3.39460790e-01, 4.04166669e-01],\n",
       "          [3.56862754e-01, 4.44117635e-01, 5.23529410e-01],\n",
       "          [4.41911757e-01, 5.28186262e-01, 6.18382335e-01]],\n",
       " \n",
       "         [[2.25245103e-01, 2.91911751e-01, 3.93872559e-01],\n",
       "          [2.28186280e-01, 2.97794104e-01, 3.98774505e-01],\n",
       "          [2.38970593e-01, 3.23284328e-01, 4.18382347e-01],\n",
       "          ...,\n",
       "          [2.34803915e-01, 3.24999988e-01, 3.89705896e-01],\n",
       "          [3.56862754e-01, 4.44117635e-01, 5.23529410e-01],\n",
       "          [4.31372553e-01, 5.17647088e-01, 6.07843161e-01]],\n",
       " \n",
       "         ...,\n",
       " \n",
       "         [[5.00000007e-02, 6.96078464e-02, 4.60784324e-02],\n",
       "          [5.75980395e-02, 7.72058815e-02, 5.36764711e-02],\n",
       "          [3.35784331e-02, 5.31862751e-02, 2.96568628e-02],\n",
       "          ...,\n",
       "          [1.33333340e-01, 1.49019614e-01, 1.52941182e-01],\n",
       "          [1.38480395e-01, 1.54166669e-01, 1.58088237e-01],\n",
       "          [1.55147061e-01, 1.70833334e-01, 1.74754903e-01]],\n",
       " \n",
       "         [[5.00000007e-02, 6.96078464e-02, 4.60784324e-02],\n",
       "          [5.39215691e-02, 7.35294148e-02, 5.00000007e-02],\n",
       "          [3.43137272e-02, 5.39215691e-02, 3.03921569e-02],\n",
       "          ...,\n",
       "          [1.33088231e-01, 1.48774505e-01, 1.52696073e-01],\n",
       "          [1.32352948e-01, 1.48039222e-01, 1.51960790e-01],\n",
       "          [1.39950976e-01, 1.55637249e-01, 1.59558818e-01]],\n",
       " \n",
       "         [[5.00000007e-02, 6.96078464e-02, 4.60784324e-02],\n",
       "          [5.39215691e-02, 7.35294148e-02, 5.00000007e-02],\n",
       "          [3.72549035e-02, 5.68627454e-02, 3.33333351e-02],\n",
       "          ...,\n",
       "          [1.30392164e-01, 1.46078438e-01, 1.50000006e-01],\n",
       "          [1.40196085e-01, 1.55882359e-01, 1.59803927e-01],\n",
       "          [1.41176477e-01, 1.56862751e-01, 1.60784319e-01]]],\n",
       " \n",
       " \n",
       "        [[[0.00000000e+00, 0.00000000e+00, 0.00000000e+00],\n",
       "          [0.00000000e+00, 0.00000000e+00, 0.00000000e+00],\n",
       "          [0.00000000e+00, 0.00000000e+00, 0.00000000e+00],\n",
       "          ...,\n",
       "          [7.72303939e-01, 8.06127429e-01, 8.11029434e-01],\n",
       "          [8.12009811e-01, 8.58578444e-01, 8.18627477e-01],\n",
       "          [5.00980377e-01, 5.17401934e-01, 5.84803939e-01]],\n",
       " \n",
       "         [[0.00000000e+00, 0.00000000e+00, 0.00000000e+00],\n",
       "          [0.00000000e+00, 0.00000000e+00, 0.00000000e+00],\n",
       "          [0.00000000e+00, 0.00000000e+00, 0.00000000e+00],\n",
       "          ...,\n",
       "          [8.30392182e-01, 8.84803951e-01, 9.01225507e-01],\n",
       "          [6.67647064e-01, 6.73774481e-01, 6.79166675e-01],\n",
       "          [4.01470602e-01, 3.88725489e-01, 4.18872535e-01]],\n",
       " \n",
       "         [[0.00000000e+00, 0.00000000e+00, 0.00000000e+00],\n",
       "          [0.00000000e+00, 0.00000000e+00, 0.00000000e+00],\n",
       "          [0.00000000e+00, 0.00000000e+00, 0.00000000e+00],\n",
       "          ...,\n",
       "          [8.20588231e-01, 8.25490177e-01, 8.22303951e-01],\n",
       "          [4.95833337e-01, 5.19607842e-01, 5.19117653e-01],\n",
       "          [5.37254930e-01, 5.76960802e-01, 5.41176498e-01]],\n",
       " \n",
       "         ...,\n",
       " \n",
       "         [[5.83333313e-01, 5.15686274e-01, 2.78186262e-01],\n",
       "          [6.25245094e-01, 5.51715672e-01, 3.20343137e-01],\n",
       "          [7.10294127e-01, 6.86764717e-01, 4.60294127e-01],\n",
       "          ...,\n",
       "          [5.05637228e-01, 1.84068620e-01, 8.40686262e-02],\n",
       "          [4.42156851e-01, 1.22058824e-01, 3.89705896e-02],\n",
       "          [3.71323526e-01, 9.50980410e-02, 7.84313772e-03]],\n",
       " \n",
       "         [[6.03676498e-01, 5.56127429e-01, 3.61764699e-01],\n",
       "          [5.07598042e-01, 4.30882365e-01, 1.91176474e-01],\n",
       "          [7.43137240e-01, 7.03921556e-01, 4.71078426e-01],\n",
       "          ...,\n",
       "          [4.65686262e-01, 1.20098040e-01, 2.99019609e-02],\n",
       "          [4.28676456e-01, 8.16176459e-02, 1.05392160e-02],\n",
       "          [3.71568620e-01, 9.41176489e-02, 1.71568629e-03]],\n",
       " \n",
       "         [[6.64950967e-01, 6.41176462e-01, 4.42156851e-01],\n",
       "          [5.35294116e-01, 4.74019617e-01, 2.08578438e-01],\n",
       "          [6.92892134e-01, 6.16666675e-01, 3.53676468e-01],\n",
       "          ...,\n",
       "          [4.37254906e-01, 1.59803927e-01, 5.22058830e-02],\n",
       "          [3.72058809e-01, 8.43137279e-02, 4.65686293e-03],\n",
       "          [4.39950973e-01, 2.49509797e-01, 9.85294133e-02]]],\n",
       " \n",
       " \n",
       "        ...,\n",
       " \n",
       " \n",
       "        [[[0.00000000e+00, 0.00000000e+00, 0.00000000e+00],\n",
       "          [0.00000000e+00, 0.00000000e+00, 0.00000000e+00],\n",
       "          [0.00000000e+00, 0.00000000e+00, 0.00000000e+00],\n",
       "          ...,\n",
       "          [0.00000000e+00, 0.00000000e+00, 0.00000000e+00],\n",
       "          [0.00000000e+00, 0.00000000e+00, 0.00000000e+00],\n",
       "          [0.00000000e+00, 0.00000000e+00, 0.00000000e+00]],\n",
       " \n",
       "         [[0.00000000e+00, 0.00000000e+00, 0.00000000e+00],\n",
       "          [0.00000000e+00, 0.00000000e+00, 0.00000000e+00],\n",
       "          [0.00000000e+00, 0.00000000e+00, 0.00000000e+00],\n",
       "          ...,\n",
       "          [0.00000000e+00, 0.00000000e+00, 0.00000000e+00],\n",
       "          [0.00000000e+00, 0.00000000e+00, 0.00000000e+00],\n",
       "          [0.00000000e+00, 0.00000000e+00, 0.00000000e+00]],\n",
       " \n",
       "         [[0.00000000e+00, 0.00000000e+00, 0.00000000e+00],\n",
       "          [0.00000000e+00, 0.00000000e+00, 0.00000000e+00],\n",
       "          [0.00000000e+00, 0.00000000e+00, 0.00000000e+00],\n",
       "          ...,\n",
       "          [0.00000000e+00, 0.00000000e+00, 0.00000000e+00],\n",
       "          [0.00000000e+00, 0.00000000e+00, 0.00000000e+00],\n",
       "          [0.00000000e+00, 0.00000000e+00, 0.00000000e+00]],\n",
       " \n",
       "         ...,\n",
       " \n",
       "         [[5.60784340e-01, 3.13725501e-01, 1.01225488e-01],\n",
       "          [5.60784340e-01, 3.12990189e-01, 1.05147056e-01],\n",
       "          [5.61274529e-01, 3.08088243e-01, 1.02205880e-01],\n",
       "          ...,\n",
       "          [1.09558821e-01, 8.99509788e-02, 7.42647052e-02],\n",
       "          [1.05147056e-01, 8.55392143e-02, 6.98529407e-02],\n",
       "          [1.01960786e-01, 8.23529437e-02, 6.66666701e-02]],\n",
       " \n",
       "         [[5.56127429e-01, 3.16911757e-01, 1.01225488e-01],\n",
       "          [5.60784340e-01, 3.21568638e-01, 1.09803922e-01],\n",
       "          [5.53921580e-01, 3.14705878e-01, 1.02941178e-01],\n",
       "          ...,\n",
       "          [1.05882354e-01, 8.62745121e-02, 7.05882385e-02],\n",
       "          [9.97548997e-02, 8.01470578e-02, 6.44607842e-02],\n",
       "          [1.01960786e-01, 8.23529437e-02, 6.66666701e-02]],\n",
       " \n",
       "         [[5.60294092e-01, 3.09803933e-01, 9.80392173e-02],\n",
       "          [5.63235283e-01, 3.11029404e-01, 1.04901962e-01],\n",
       "          [5.63235283e-01, 3.06617647e-01, 1.01960786e-01],\n",
       "          ...,\n",
       "          [1.00980394e-01, 8.13725516e-02, 6.56862780e-02],\n",
       "          [9.80392173e-02, 7.84313753e-02, 6.27451017e-02],\n",
       "          [9.80392173e-02, 7.84313753e-02, 6.27451017e-02]]],\n",
       " \n",
       " \n",
       "        [[[1.59803927e-01, 5.88235296e-02, 4.41176482e-02],\n",
       "          [1.46813720e-01, 3.67647074e-02, 2.40196083e-02],\n",
       "          [1.49754897e-01, 3.45588252e-02, 1.81372557e-02],\n",
       "          ...,\n",
       "          [3.77450973e-01, 6.64215684e-02, 4.11764719e-02],\n",
       "          [3.85784328e-01, 6.66666701e-02, 5.09803928e-02],\n",
       "          [4.07843143e-01, 8.03921595e-02, 6.56862780e-02]],\n",
       " \n",
       "         [[1.83088228e-01, 1.09558821e-01, 9.58333313e-02],\n",
       "          [1.60539210e-01, 7.74509832e-02, 5.98039217e-02],\n",
       "          [1.40441179e-01, 4.48529422e-02, 2.89215688e-02],\n",
       "          ...,\n",
       "          [3.58578444e-01, 7.27941170e-02, 4.70588244e-02],\n",
       "          [3.64705890e-01, 7.45098069e-02, 5.09803928e-02],\n",
       "          [3.71568620e-01, 8.13725516e-02, 6.27451017e-02]],\n",
       " \n",
       "         [[1.64460778e-01, 1.18382350e-01, 1.09558821e-01],\n",
       "          [1.77450985e-01, 1.20098040e-01, 1.08578429e-01],\n",
       "          [1.58088237e-01, 8.89705867e-02, 7.25490227e-02],\n",
       "          ...,\n",
       "          [3.28431368e-01, 6.37254938e-02, 3.92156877e-02],\n",
       "          [3.24509799e-01, 6.17647059e-02, 3.70098054e-02],\n",
       "          [3.18627447e-01, 6.17647059e-02, 4.41176482e-02]],\n",
       " \n",
       "         ...,\n",
       " \n",
       "         [[9.21568647e-02, 8.03921595e-02, 6.07843138e-02],\n",
       "          [1.12990193e-01, 9.33823511e-02, 7.76960775e-02],\n",
       "          [1.24509804e-01, 9.60784331e-02, 8.62745121e-02],\n",
       "          ...,\n",
       "          [1.47058830e-01, 1.27450988e-01, 1.03921570e-01],\n",
       "          [1.20098040e-01, 1.00490198e-01, 7.69607872e-02],\n",
       "          [1.28431380e-01, 1.08823530e-01, 8.52941200e-02]],\n",
       " \n",
       "         [[8.40686262e-02, 7.23039210e-02, 5.26960790e-02],\n",
       "          [9.41176489e-02, 7.45098069e-02, 5.88235296e-02],\n",
       "          [1.27941176e-01, 9.95098054e-02, 8.74999985e-02],\n",
       "          ...,\n",
       "          [1.26960784e-01, 1.07352942e-01, 8.38235319e-02],\n",
       "          [1.29656866e-01, 1.10049017e-01, 8.65196064e-02],\n",
       "          [1.51960790e-01, 1.32352948e-01, 1.08823530e-01]],\n",
       " \n",
       "         [[8.23529437e-02, 7.05882385e-02, 4.31372561e-02],\n",
       "          [7.74509832e-02, 5.78431375e-02, 4.21568640e-02],\n",
       "          [1.14705883e-01, 8.62745121e-02, 7.35294148e-02],\n",
       "          ...,\n",
       "          [1.26470596e-01, 1.06862746e-01, 8.33333358e-02],\n",
       "          [1.43137261e-01, 1.23529412e-01, 1.00000001e-01],\n",
       "          [1.60784319e-01, 1.41176477e-01, 1.17647059e-01]]],\n",
       " \n",
       " \n",
       "        [[[3.03676456e-01, 3.50735307e-01, 5.38970590e-01],\n",
       "          [2.82598048e-01, 3.29656869e-01, 5.17892182e-01],\n",
       "          [2.78431386e-01, 3.25490206e-01, 5.19607842e-01],\n",
       "          ...,\n",
       "          [2.94117653e-03, 2.94117653e-03, 2.94117653e-03],\n",
       "          [0.00000000e+00, 0.00000000e+00, 0.00000000e+00],\n",
       "          [0.00000000e+00, 0.00000000e+00, 0.00000000e+00]],\n",
       " \n",
       "         [[2.78431386e-01, 3.26470584e-01, 5.24509788e-01],\n",
       "          [2.83333331e-01, 3.31372559e-01, 5.29411793e-01],\n",
       "          [2.77941167e-01, 3.25980395e-01, 5.24019599e-01],\n",
       "          ...,\n",
       "          [2.94117653e-03, 2.94117653e-03, 2.94117653e-03],\n",
       "          [0.00000000e+00, 0.00000000e+00, 0.00000000e+00],\n",
       "          [0.00000000e+00, 0.00000000e+00, 0.00000000e+00]],\n",
       " \n",
       "         [[2.78676480e-01, 3.29656869e-01, 5.36519587e-01],\n",
       "          [2.75245100e-01, 3.26225489e-01, 5.33088207e-01],\n",
       "          [2.78186262e-01, 3.29166681e-01, 5.33823550e-01],\n",
       "          ...,\n",
       "          [2.94117653e-03, 2.94117653e-03, 2.94117653e-03],\n",
       "          [0.00000000e+00, 0.00000000e+00, 0.00000000e+00],\n",
       "          [0.00000000e+00, 0.00000000e+00, 0.00000000e+00]],\n",
       " \n",
       "         ...,\n",
       " \n",
       "         [[9.85294104e-01, 9.95098054e-01, 9.62009788e-01],\n",
       "          [9.86764729e-01, 9.87009823e-01, 9.19362724e-01],\n",
       "          [7.62745082e-01, 7.37500012e-01, 6.38725519e-01],\n",
       "          ...,\n",
       "          [4.41176491e-03, 1.47058826e-03, 0.00000000e+00],\n",
       "          [9.80392215e-04, 3.92156886e-03, 9.80392215e-04],\n",
       "          [0.00000000e+00, 3.92156886e-03, 0.00000000e+00]],\n",
       " \n",
       "         [[9.83333349e-01, 9.85049009e-01, 9.41176474e-01],\n",
       "          [9.75245118e-01, 9.67401981e-01, 8.88970613e-01],\n",
       "          [6.98039234e-01, 6.62745118e-01, 5.59803903e-01],\n",
       "          ...,\n",
       "          [8.82352982e-03, 5.88235306e-03, 0.00000000e+00],\n",
       "          [9.80392215e-04, 3.92156886e-03, 9.80392215e-04],\n",
       "          [0.00000000e+00, 3.92156886e-03, 0.00000000e+00]],\n",
       " \n",
       "         [[9.80882347e-01, 9.83823538e-01, 9.30882335e-01],\n",
       "          [9.61519599e-01, 9.51960802e-01, 8.67401958e-01],\n",
       "          [6.75000012e-01, 6.37254894e-01, 5.32598019e-01],\n",
       "          ...,\n",
       "          [3.92156886e-03, 9.80392215e-04, 9.80392215e-04],\n",
       "          [0.00000000e+00, 2.94117653e-03, 0.00000000e+00],\n",
       "          [0.00000000e+00, 3.92156886e-03, 0.00000000e+00]]]],\n",
       "       dtype=float32),\n",
       " array([0., 0., 1., 1., 1., 1., 0., 0., 0., 1., 0., 0., 0., 0., 0., 0.],\n",
       "       dtype=float32))"
      ]
     },
     "execution_count": 52,
     "metadata": {},
     "output_type": "execute_result"
    }
   ],
   "source": [
    "train_samples = train_data.as_numpy_iterator()\n",
    "train_sample = train_samples.next()\n",
    "train_sample"
   ]
  },
  {
   "cell_type": "code",
   "execution_count": 53,
   "id": "8de92c6c",
   "metadata": {},
   "outputs": [
    {
     "data": {
      "text/plain": [
       "16"
      ]
     },
     "execution_count": 53,
     "metadata": {},
     "output_type": "execute_result"
    }
   ],
   "source": [
    "len(train_sample[0]) # training partition ke baad 1 sample me 16 images hongi"
   ]
  },
  {
   "cell_type": "code",
   "execution_count": 54,
   "id": "e191b03e",
   "metadata": {},
   "outputs": [],
   "source": [
    "# Testing partition\n",
    "test_data = data.skip(round(len(data)*.7))\n",
    "test_data = test_data.take(round(len(data)*.3))\n",
    "test_data = test_data.batch(16)\n",
    "test_data = test_data.prefetch(8)"
   ]
  },
  {
   "cell_type": "markdown",
   "id": "c374990e",
   "metadata": {},
   "source": [
    "# 4. Model Engineering"
   ]
  },
  {
   "cell_type": "markdown",
   "id": "f2ea3603",
   "metadata": {},
   "source": [
    "### Build Embedding Layer"
   ]
  },
  {
   "cell_type": "code",
   "execution_count": 55,
   "id": "21beaeed",
   "metadata": {},
   "outputs": [
    {
     "data": {
      "text/plain": [
       "<KerasTensor: shape=(None, 100, 100, 3) dtype=float32 (created by layer 'input_image')>"
      ]
     },
     "execution_count": 55,
     "metadata": {},
     "output_type": "execute_result"
    }
   ],
   "source": [
    "inp = Input(shape=(100,100,3), name='input_image')#creating input layer we define shape of input image as 100 by 100 pixels  and 3 channels\n",
    "inp"
   ]
  },
  {
   "cell_type": "code",
   "execution_count": 56,
   "id": "97fa5278",
   "metadata": {},
   "outputs": [
    {
     "data": {
      "text/plain": [
       "<KerasTensor: shape=(None, 91, 91, 64) dtype=float32 (created by layer 'conv2d')>"
      ]
     },
     "execution_count": 56,
     "metadata": {},
     "output_type": "execute_result"
    }
   ],
   "source": [
    "\n",
    "c1 = Conv2D(64, (10,10), activation='relu')(inp) # creating convolutional layer ,64 pixels then specified shape that we want 10 by 10 pixels,then apply activation function relu,then in order to pass through or start connecting our neural network together we are grabbing our input and we are passing it through to our convolutional layer   \n",
    "c1"
   ]
  },
  {
   "cell_type": "code",
   "execution_count": 57,
   "id": "059c8e3d",
   "metadata": {},
   "outputs": [
    {
     "data": {
      "text/plain": [
       "<KerasTensor: shape=(None, 46, 46, 64) dtype=float32 (created by layer 'max_pooling2d')>"
      ]
     },
     "execution_count": 57,
     "metadata": {},
     "output_type": "execute_result"
    }
   ],
   "source": [
    "m1 = MaxPooling2D(64, (2,2), padding='same')(c1) # creating max pooling layer ,64 units then shape 2 by 2 ,so its effectively going to take the maximum  value of 2 by 2 area and returns the max value,padding is used in order to replicate similar output shape ,then pasing convoltional layer\n",
    "m1"
   ]
  },
  {
   "cell_type": "code",
   "execution_count": 58,
   "id": "03e1e45f",
   "metadata": {},
   "outputs": [
    {
     "name": "stdout",
     "output_type": "stream",
     "text": [
      "KerasTensor(type_spec=TensorSpec(shape=(None, 40, 40, 128), dtype=tf.float32, name=None), name='conv2d_1/Relu:0', description=\"created by layer 'conv2d_1'\")\n",
      "KerasTensor(type_spec=TensorSpec(shape=(None, 20, 20, 128), dtype=tf.float32, name=None), name='max_pooling2d_1/MaxPool:0', description=\"created by layer 'max_pooling2d_1'\")\n"
     ]
    }
   ],
   "source": [
    "c2 = Conv2D(128, (7,7), activation='relu')(m1)\n",
    "m2 = MaxPooling2D(64, (2,2), padding='same')(c2)\n",
    "print(c2)\n",
    "print(m2)"
   ]
  },
  {
   "cell_type": "code",
   "execution_count": 59,
   "id": "8781bf56",
   "metadata": {},
   "outputs": [
    {
     "name": "stdout",
     "output_type": "stream",
     "text": [
      "KerasTensor(type_spec=TensorSpec(shape=(None, 17, 17, 128), dtype=tf.float32, name=None), name='conv2d_2/Relu:0', description=\"created by layer 'conv2d_2'\")\n",
      "KerasTensor(type_spec=TensorSpec(shape=(None, 9, 9, 128), dtype=tf.float32, name=None), name='max_pooling2d_2/MaxPool:0', description=\"created by layer 'max_pooling2d_2'\")\n"
     ]
    }
   ],
   "source": [
    "c3 = Conv2D(128, (4,4), activation='relu')(m2)\n",
    "m3 = MaxPooling2D(64, (2,2), padding='same')(c3)\n",
    "print(c3)\n",
    "print(m3)"
   ]
  },
  {
   "cell_type": "code",
   "execution_count": 60,
   "id": "87abffd8",
   "metadata": {},
   "outputs": [
    {
     "name": "stdout",
     "output_type": "stream",
     "text": [
      "KerasTensor(type_spec=TensorSpec(shape=(None, 6, 6, 256), dtype=tf.float32, name=None), name='conv2d_3/Relu:0', description=\"created by layer 'conv2d_3'\")\n",
      "\n",
      "KerasTensor(type_spec=TensorSpec(shape=(None, 4096), dtype=tf.float32, name=None), name='dense/Sigmoid:0', description=\"created by layer 'dense'\")\n",
      "\n",
      "KerasTensor(type_spec=TensorSpec(shape=(None, 9216), dtype=tf.float32, name=None), name='flatten/Reshape:0', description=\"created by layer 'flatten'\")\n"
     ]
    }
   ],
   "source": [
    "c4 = Conv2D(256, (4,4), activation='relu')(m3)\n",
    "f1 = Flatten()(c4) # flatten karraha c4 ko   256*4*4 = 9216 is value ko latten karraha ye ,ye isliye karrahe take hum single demension me le aain values ko \n",
    "d1 = Dense(4096, activation='sigmoid')(f1)\n",
    "print(c4)\n",
    "print()\n",
    "print(d1)\n",
    "print()\n",
    "print(f1)"
   ]
  },
  {
   "cell_type": "code",
   "execution_count": 61,
   "id": "58b046ee",
   "metadata": {},
   "outputs": [],
   "source": [
    "mod = Model(inputs=[inp], outputs=[d1], name='embedding')"
   ]
  },
  {
   "cell_type": "code",
   "execution_count": 62,
   "id": "19ef256b",
   "metadata": {},
   "outputs": [
    {
     "name": "stdout",
     "output_type": "stream",
     "text": [
      "Model: \"embedding\"\n",
      "_________________________________________________________________\n",
      " Layer (type)                Output Shape              Param #   \n",
      "=================================================================\n",
      " input_image (InputLayer)    [(None, 100, 100, 3)]     0         \n",
      "                                                                 \n",
      " conv2d (Conv2D)             (None, 91, 91, 64)        19264     \n",
      "                                                                 \n",
      " max_pooling2d (MaxPooling2D  (None, 46, 46, 64)       0         \n",
      " )                                                               \n",
      "                                                                 \n",
      " conv2d_1 (Conv2D)           (None, 40, 40, 128)       401536    \n",
      "                                                                 \n",
      " max_pooling2d_1 (MaxPooling  (None, 20, 20, 128)      0         \n",
      " 2D)                                                             \n",
      "                                                                 \n",
      " conv2d_2 (Conv2D)           (None, 17, 17, 128)       262272    \n",
      "                                                                 \n",
      " max_pooling2d_2 (MaxPooling  (None, 9, 9, 128)        0         \n",
      " 2D)                                                             \n",
      "                                                                 \n",
      " conv2d_3 (Conv2D)           (None, 6, 6, 256)         524544    \n",
      "                                                                 \n",
      " flatten (Flatten)           (None, 9216)              0         \n",
      "                                                                 \n",
      " dense (Dense)               (None, 4096)              37752832  \n",
      "                                                                 \n",
      "=================================================================\n",
      "Total params: 38,960,448\n",
      "Trainable params: 38,960,448\n",
      "Non-trainable params: 0\n",
      "_________________________________________________________________\n"
     ]
    }
   ],
   "source": [
    "mod.summary()"
   ]
  },
  {
   "cell_type": "code",
   "execution_count": 63,
   "id": "2fe2236b",
   "metadata": {},
   "outputs": [],
   "source": [
    "def make_embedding(): \n",
    "    inp = Input(shape=(100,100,3), name='input_image')\n",
    "    \n",
    "    # First block\n",
    "    c1 = Conv2D(64, (10,10), activation='relu')(inp)\n",
    "    m1 = MaxPooling2D(64, (2,2), padding='same')(c1)\n",
    "    \n",
    "    # Second block\n",
    "    c2 = Conv2D(128, (7,7), activation='relu')(m1)\n",
    "    m2 = MaxPooling2D(64, (2,2), padding='same')(c2)\n",
    "    \n",
    "    # Third block \n",
    "    c3 = Conv2D(128, (4,4), activation='relu')(m2)\n",
    "    m3 = MaxPooling2D(64, (2,2), padding='same')(c3)\n",
    "    \n",
    "    # Final embedding block\n",
    "    c4 = Conv2D(256, (4,4), activation='relu')(m3)\n",
    "    f1 = Flatten()(c4)\n",
    "    d1 = Dense(4096, activation='sigmoid')(f1)\n",
    "    \n",
    "    \n",
    "    return Model(inputs=[inp], outputs=[d1], name='embedding')"
   ]
  },
  {
   "cell_type": "code",
   "execution_count": 64,
   "id": "c13a9bca",
   "metadata": {},
   "outputs": [],
   "source": [
    "embedding = make_embedding()"
   ]
  },
  {
   "cell_type": "code",
   "execution_count": 65,
   "id": "8dc13988",
   "metadata": {},
   "outputs": [
    {
     "name": "stdout",
     "output_type": "stream",
     "text": [
      "Model: \"embedding\"\n",
      "_________________________________________________________________\n",
      " Layer (type)                Output Shape              Param #   \n",
      "=================================================================\n",
      " input_image (InputLayer)    [(None, 100, 100, 3)]     0         \n",
      "                                                                 \n",
      " conv2d_4 (Conv2D)           (None, 91, 91, 64)        19264     \n",
      "                                                                 \n",
      " max_pooling2d_3 (MaxPooling  (None, 46, 46, 64)       0         \n",
      " 2D)                                                             \n",
      "                                                                 \n",
      " conv2d_5 (Conv2D)           (None, 40, 40, 128)       401536    \n",
      "                                                                 \n",
      " max_pooling2d_4 (MaxPooling  (None, 20, 20, 128)      0         \n",
      " 2D)                                                             \n",
      "                                                                 \n",
      " conv2d_6 (Conv2D)           (None, 17, 17, 128)       262272    \n",
      "                                                                 \n",
      " max_pooling2d_5 (MaxPooling  (None, 9, 9, 128)        0         \n",
      " 2D)                                                             \n",
      "                                                                 \n",
      " conv2d_7 (Conv2D)           (None, 6, 6, 256)         524544    \n",
      "                                                                 \n",
      " flatten_1 (Flatten)         (None, 9216)              0         \n",
      "                                                                 \n",
      " dense_1 (Dense)             (None, 4096)              37752832  \n",
      "                                                                 \n",
      "=================================================================\n",
      "Total params: 38,960,448\n",
      "Trainable params: 38,960,448\n",
      "Non-trainable params: 0\n",
      "_________________________________________________________________\n"
     ]
    }
   ],
   "source": [
    "embedding.summary()"
   ]
  },
  {
   "cell_type": "markdown",
   "id": "0967c169",
   "metadata": {},
   "source": [
    "### Build Distance Layer"
   ]
  },
  {
   "cell_type": "code",
   "execution_count": 66,
   "id": "b862ffed",
   "metadata": {},
   "outputs": [],
   "source": [
    "# Siamese L1 Distance class\n",
    "class L1Dist(Layer): # layer isthe abstracted class or the base class for our keras layers\n",
    "    \n",
    "    # Init method - inheritance\n",
    "    def __init__(self, **kwargs):  # **kwargs this allows you to work with this specific layer as part of a bigger model so when it comes to actually exporting and importing this having this actaully definedmakes your life alot easier,so when we actually go to export it we are actually going to use the abstracted versions, **kwargs passing this through means that if we wanted to go and pass through specific keyword arguments its going to handle them innately  \n",
    "        super().__init__()\n",
    "       \n",
    "    # Magic happens here - similarity calculation\n",
    "    def call(self, input_embedding, validation_embedding): # call function actually tells this layer what to do when some data is passed to it \n",
    "        return tf.math.abs(input_embedding - validation_embedding)"
   ]
  },
  {
   "cell_type": "code",
   "execution_count": 67,
   "id": "fcb23e22",
   "metadata": {},
   "outputs": [],
   "source": [
    "l1 = L1Dist()"
   ]
  },
  {
   "cell_type": "code",
   "execution_count": 68,
   "id": "a36fc906",
   "metadata": {},
   "outputs": [],
   "source": [
    "# l1(input_embedding, validation_embedding)"
   ]
  },
  {
   "cell_type": "markdown",
   "id": "30e85a2e",
   "metadata": {},
   "source": [
    "# Make Siamese Model"
   ]
  },
  {
   "cell_type": "code",
   "execution_count": 69,
   "id": "9821c5b1",
   "metadata": {},
   "outputs": [],
   "source": [
    "input_image = Input(name='input_img', shape=(100,100,3))\n",
    "validation_image = Input(name='validation_img', shape=(100,100,3))"
   ]
  },
  {
   "cell_type": "code",
   "execution_count": 70,
   "id": "747fe7cd",
   "metadata": {},
   "outputs": [],
   "source": [
    "inp_embedding = embedding(input_image)\n",
    "val_embedding = embedding(validation_image)"
   ]
  },
  {
   "cell_type": "code",
   "execution_count": 71,
   "id": "55a932ec",
   "metadata": {},
   "outputs": [],
   "source": [
    "siamese_layer = L1Dist()"
   ]
  },
  {
   "cell_type": "code",
   "execution_count": 72,
   "id": "0689e29d",
   "metadata": {},
   "outputs": [],
   "source": [
    "distances = siamese_layer(inp_embedding, val_embedding)"
   ]
  },
  {
   "cell_type": "code",
   "execution_count": 73,
   "id": "3b7bf3fd",
   "metadata": {},
   "outputs": [],
   "source": [
    "classifier = Dense(1, activation='sigmoid')(distances)"
   ]
  },
  {
   "cell_type": "code",
   "execution_count": 74,
   "id": "36f27089",
   "metadata": {},
   "outputs": [
    {
     "data": {
      "text/plain": [
       "<KerasTensor: shape=(None, 1) dtype=float32 (created by layer 'dense_2')>"
      ]
     },
     "execution_count": 74,
     "metadata": {},
     "output_type": "execute_result"
    }
   ],
   "source": [
    "classifier"
   ]
  },
  {
   "cell_type": "code",
   "execution_count": 75,
   "id": "ef09c348",
   "metadata": {},
   "outputs": [],
   "source": [
    "siamese_network = Model(inputs=[input_image, validation_image], outputs=classifier, name='SiameseNetwork')"
   ]
  },
  {
   "cell_type": "code",
   "execution_count": 76,
   "id": "6ab12757",
   "metadata": {},
   "outputs": [
    {
     "name": "stdout",
     "output_type": "stream",
     "text": [
      "Model: \"SiameseNetwork\"\n",
      "__________________________________________________________________________________________________\n",
      " Layer (type)                   Output Shape         Param #     Connected to                     \n",
      "==================================================================================================\n",
      " input_img (InputLayer)         [(None, 100, 100, 3  0           []                               \n",
      "                                )]                                                                \n",
      "                                                                                                  \n",
      " validation_img (InputLayer)    [(None, 100, 100, 3  0           []                               \n",
      "                                )]                                                                \n",
      "                                                                                                  \n",
      " embedding (Functional)         (None, 4096)         38960448    ['input_img[0][0]',              \n",
      "                                                                  'validation_img[0][0]']         \n",
      "                                                                                                  \n",
      " l1_dist_1 (L1Dist)             (None, 4096)         0           ['embedding[0][0]',              \n",
      "                                                                  'embedding[1][0]']              \n",
      "                                                                                                  \n",
      " dense_2 (Dense)                (None, 1)            4097        ['l1_dist_1[0][0]']              \n",
      "                                                                                                  \n",
      "==================================================================================================\n",
      "Total params: 38,964,545\n",
      "Trainable params: 38,964,545\n",
      "Non-trainable params: 0\n",
      "__________________________________________________________________________________________________\n"
     ]
    }
   ],
   "source": [
    "siamese_network.summary()"
   ]
  },
  {
   "cell_type": "code",
   "execution_count": 77,
   "id": "eb546e68",
   "metadata": {},
   "outputs": [],
   "source": [
    "def make_siamese_model(): \n",
    "    \n",
    "    # Anchor image input in the network\n",
    "    input_image = Input(name='input_img', shape=(100,100,3))\n",
    "    \n",
    "    # Validation image in the network \n",
    "    validation_image = Input(name='validation_img', shape=(100,100,3))\n",
    "    \n",
    "    # Combine siamese distance components\n",
    "    siamese_layer = L1Dist()\n",
    "    siamese_layer._name = 'distance'\n",
    "    distances = siamese_layer(embedding(input_image), embedding(validation_image))\n",
    "    \n",
    "    # Classification layer \n",
    "    classifier = Dense(1, activation='sigmoid')(distances)\n",
    "    \n",
    "    return Model(inputs=[input_image, validation_image], outputs=classifier, name='SiameseNetwork')"
   ]
  },
  {
   "cell_type": "code",
   "execution_count": 78,
   "id": "1856db5c",
   "metadata": {},
   "outputs": [],
   "source": [
    "siamese_model = make_siamese_model()"
   ]
  },
  {
   "cell_type": "code",
   "execution_count": 79,
   "id": "b22ccf78",
   "metadata": {},
   "outputs": [
    {
     "name": "stdout",
     "output_type": "stream",
     "text": [
      "Model: \"SiameseNetwork\"\n",
      "__________________________________________________________________________________________________\n",
      " Layer (type)                   Output Shape         Param #     Connected to                     \n",
      "==================================================================================================\n",
      " input_img (InputLayer)         [(None, 100, 100, 3  0           []                               \n",
      "                                )]                                                                \n",
      "                                                                                                  \n",
      " validation_img (InputLayer)    [(None, 100, 100, 3  0           []                               \n",
      "                                )]                                                                \n",
      "                                                                                                  \n",
      " embedding (Functional)         (None, 4096)         38960448    ['input_img[0][0]',              \n",
      "                                                                  'validation_img[0][0]']         \n",
      "                                                                                                  \n",
      " distance (L1Dist)              (None, 4096)         0           ['embedding[2][0]',              \n",
      "                                                                  'embedding[3][0]']              \n",
      "                                                                                                  \n",
      " dense_3 (Dense)                (None, 1)            4097        ['distance[0][0]']               \n",
      "                                                                                                  \n",
      "==================================================================================================\n",
      "Total params: 38,964,545\n",
      "Trainable params: 38,964,545\n",
      "Non-trainable params: 0\n",
      "__________________________________________________________________________________________________\n"
     ]
    }
   ],
   "source": [
    "siamese_model.summary()"
   ]
  },
  {
   "cell_type": "markdown",
   "id": "73a12321",
   "metadata": {},
   "source": [
    "# 5. Training"
   ]
  },
  {
   "cell_type": "markdown",
   "id": "707cecca",
   "metadata": {},
   "source": [
    "### Setup Loss and Optimizer \n",
    "###### setup loss for minimizing loss and optimizer for back propagation to our custom neural network"
   ]
  },
  {
   "cell_type": "code",
   "execution_count": 80,
   "id": "89503be8",
   "metadata": {},
   "outputs": [],
   "source": [
    "binary_cross_loss = tf.losses.BinaryCrossentropy()      # loss function "
   ]
  },
  {
   "cell_type": "code",
   "execution_count": 81,
   "id": "db93b934",
   "metadata": {},
   "outputs": [],
   "source": [
    "opt = tf.keras.optimizers.Adam(1e-4) # 1e-4 = 0.0001 ----learning rate    # optimizer (here we use adam optimizer)"
   ]
  },
  {
   "cell_type": "markdown",
   "id": "f4cd94fc",
   "metadata": {},
   "source": [
    "### Establish Checkpoints\n",
    "###### means when something screws up in our neural network as we are training we have got almost like a place holder to reload our neural network from "
   ]
  },
  {
   "cell_type": "code",
   "execution_count": 82,
   "id": "fe5e5a41",
   "metadata": {},
   "outputs": [],
   "source": [
    "checkpoint_dir = './training_checkpoints' # we have defined a directory where we are going to \n",
    "# save all our checkpoints and this is going to be called training_checkpoints,but we cannot \n",
    "# defined this directory in our folder so go and make a folder  and name it training_checkpoints,\n",
    "# inside this folder we actually building our model ,./ basically represents us from the current\n",
    "# folder we are going to go in to our training check points folder and save our stuff down here.\n",
    "\n",
    "checkpoint_prefix = os.path.join(checkpoint_dir, 'ckpt') # we have defined it as being inside of \n",
    "# our checkpoint directory and we are going to prefix all of our checkpoints with ckpt so this\n",
    "# basically means that we are going to have all of  our checpoints in a consistent format they\n",
    "# will start with ckpt and then normally they will build end with a set of unique numbers or \n",
    "# effectively it goes in sequence so 001 or 002 so on and so fourth. \n",
    "\n",
    "checkpoint = tf.train.Checkpoint(opt=opt, siamese_model=siamese_model) # define what we actually\n",
    "# want to save out ,opt=optimizer ,we are going to be saving out these two components \n",
    "# (optimizer and siamese model) as  our set of check points now we could probably save our model. "
   ]
  },
  {
   "cell_type": "markdown",
   "id": "63943117",
   "metadata": {},
   "source": [
    "### Build Train Step Function\n",
    "###### defines what we happen when we train on a single batch \n",
    "\n",
    "###### the basic flow of training on one batch is as follows:\n",
    "###### 1. Make a prediction\n",
    "###### 2. Calculate Loss\n",
    "###### 3. Derive gradients \n",
    "###### 4. Calculate new weights and apply "
   ]
  },
  {
   "cell_type": "code",
   "execution_count": 83,
   "id": "5e568ed6",
   "metadata": {},
   "outputs": [],
   "source": [
    "test_batch = train_data.as_numpy_iterator()"
   ]
  },
  {
   "cell_type": "code",
   "execution_count": 84,
   "id": "cd3773f8",
   "metadata": {},
   "outputs": [],
   "source": [
    "batch_1 = test_batch.next()"
   ]
  },
  {
   "cell_type": "code",
   "execution_count": 85,
   "id": "cda3103e",
   "metadata": {},
   "outputs": [
    {
     "data": {
      "text/plain": [
       "3"
      ]
     },
     "execution_count": 85,
     "metadata": {},
     "output_type": "execute_result"
    }
   ],
   "source": [
    "len(batch_1)"
   ]
  },
  {
   "cell_type": "code",
   "execution_count": 86,
   "id": "9ba4a9a7",
   "metadata": {},
   "outputs": [
    {
     "data": {
      "text/plain": [
       "array([[[[0.00000000e+00, 2.20588245e-03, 3.43137258e-03],\n",
       "         [0.00000000e+00, 2.94117653e-03, 0.00000000e+00],\n",
       "         [0.00000000e+00, 0.00000000e+00, 0.00000000e+00],\n",
       "         ...,\n",
       "         [7.44362772e-01, 7.76225507e-01, 7.73529410e-01],\n",
       "         [7.01715708e-01, 6.84803903e-01, 7.39950955e-01],\n",
       "         [2.91911751e-01, 3.36274505e-01, 4.63725477e-01]],\n",
       "\n",
       "        [[9.80392215e-04, 0.00000000e+00, 0.00000000e+00],\n",
       "         [7.35294132e-04, 0.00000000e+00, 0.00000000e+00],\n",
       "         [0.00000000e+00, 2.94117653e-03, 0.00000000e+00],\n",
       "         ...,\n",
       "         [7.13480413e-01, 7.88480401e-01, 8.16666663e-01],\n",
       "         [4.96813715e-01, 5.44852912e-01, 6.00490212e-01],\n",
       "         [3.15441191e-01, 3.62254888e-01, 4.26960796e-01]],\n",
       "\n",
       "        [[9.80392215e-04, 0.00000000e+00, 0.00000000e+00],\n",
       "         [0.00000000e+00, 0.00000000e+00, 0.00000000e+00],\n",
       "         [0.00000000e+00, 3.67647060e-03, 0.00000000e+00],\n",
       "         ...,\n",
       "         [7.34558821e-01, 7.86029398e-01, 8.34313750e-01],\n",
       "         [4.82107848e-01, 5.65196097e-01, 5.92892170e-01],\n",
       "         [3.90931368e-01, 4.61519599e-01, 4.97058809e-01]],\n",
       "\n",
       "        ...,\n",
       "\n",
       "        [[5.13235271e-01, 4.34068620e-01, 1.55637249e-01],\n",
       "         [6.08578444e-01, 5.58578432e-01, 2.84068614e-01],\n",
       "         [6.57352924e-01, 6.33823514e-01, 4.00980383e-01],\n",
       "         ...,\n",
       "         [7.28186250e-01, 4.14215684e-01, 1.67892158e-01],\n",
       "         [9.69852924e-01, 8.10539186e-01, 3.78431380e-01],\n",
       "         [9.49754894e-01, 8.33333313e-01, 3.15441191e-01]],\n",
       "\n",
       "        [[4.80882347e-01, 4.21568632e-01, 1.47303924e-01],\n",
       "         [5.69852948e-01, 5.02451003e-01, 2.37009808e-01],\n",
       "         [6.85539186e-01, 6.60784304e-01, 4.12990183e-01],\n",
       "         ...,\n",
       "         [7.99509823e-01, 4.39215690e-01, 1.98039219e-01],\n",
       "         [9.30147052e-01, 7.08578408e-01, 3.24019611e-01],\n",
       "         [9.30637240e-01, 8.36029410e-01, 3.57843131e-01]],\n",
       "\n",
       "        [[4.95343149e-01, 4.40441191e-01, 1.82107836e-01],\n",
       "         [5.46323538e-01, 4.39705878e-01, 1.80637255e-01],\n",
       "         [6.30637228e-01, 5.80637276e-01, 3.36519599e-01],\n",
       "         ...,\n",
       "         [8.71078432e-01, 4.33088243e-01, 1.94607839e-01],\n",
       "         [9.55147088e-01, 7.25735307e-01, 3.45833331e-01],\n",
       "         [9.46078420e-01, 8.45343113e-01, 3.54901969e-01]]],\n",
       "\n",
       "\n",
       "       [[[0.00000000e+00, 0.00000000e+00, 0.00000000e+00],\n",
       "         [0.00000000e+00, 0.00000000e+00, 0.00000000e+00],\n",
       "         [0.00000000e+00, 0.00000000e+00, 0.00000000e+00],\n",
       "         ...,\n",
       "         [8.31127465e-01, 8.72058809e-01, 8.49019587e-01],\n",
       "         [5.44117630e-01, 5.63235283e-01, 6.49264693e-01],\n",
       "         [5.07352948e-02, 5.29411770e-02, 2.32107848e-01]],\n",
       "\n",
       "        [[0.00000000e+00, 0.00000000e+00, 0.00000000e+00],\n",
       "         [0.00000000e+00, 0.00000000e+00, 0.00000000e+00],\n",
       "         [0.00000000e+00, 0.00000000e+00, 0.00000000e+00],\n",
       "         ...,\n",
       "         [7.00735271e-01, 7.66421556e-01, 7.85539210e-01],\n",
       "         [3.94117653e-01, 4.45343137e-01, 5.28431356e-01],\n",
       "         [1.74999997e-01, 1.92892164e-01, 3.54411751e-01]],\n",
       "\n",
       "        [[0.00000000e+00, 0.00000000e+00, 0.00000000e+00],\n",
       "         [0.00000000e+00, 0.00000000e+00, 0.00000000e+00],\n",
       "         [0.00000000e+00, 0.00000000e+00, 0.00000000e+00],\n",
       "         ...,\n",
       "         [6.57843113e-01, 6.89705908e-01, 6.93627477e-01],\n",
       "         [4.83333319e-01, 5.11274517e-01, 5.20588219e-01],\n",
       "         [4.29901958e-01, 4.57352936e-01, 5.52696049e-01]],\n",
       "\n",
       "        ...,\n",
       "\n",
       "        [[6.16666675e-01, 5.90196073e-01, 3.44117641e-01],\n",
       "         [6.40196085e-01, 5.99754930e-01, 3.56617659e-01],\n",
       "         [5.98774493e-01, 5.87990224e-01, 3.56127441e-01],\n",
       "         ...,\n",
       "         [9.82352912e-01, 8.66666675e-01, 3.74754906e-01],\n",
       "         [9.58333313e-01, 8.55637252e-01, 3.39950979e-01],\n",
       "         [9.54166651e-01, 8.72794092e-01, 3.84558827e-01]],\n",
       "\n",
       "        [[6.08333349e-01, 5.48039198e-01, 2.28186280e-01],\n",
       "         [6.60539210e-01, 5.92647076e-01, 2.99754888e-01],\n",
       "         [6.23284340e-01, 6.00980401e-01, 3.32843125e-01],\n",
       "         ...,\n",
       "         [9.79901969e-01, 8.55882347e-01, 4.16911751e-01],\n",
       "         [9.42156851e-01, 8.59313726e-01, 3.36764693e-01],\n",
       "         [9.27941203e-01, 8.34558845e-01, 3.15931380e-01]],\n",
       "\n",
       "        [[6.28676474e-01, 5.74019611e-01, 2.99264699e-01],\n",
       "         [6.49019599e-01, 5.94362736e-01, 3.44117641e-01],\n",
       "         [6.63480401e-01, 6.44362748e-01, 3.95343125e-01],\n",
       "         ...,\n",
       "         [9.71568644e-01, 8.43137264e-01, 3.81372541e-01],\n",
       "         [8.68137240e-01, 7.14705884e-01, 1.72794119e-01],\n",
       "         [9.34803903e-01, 7.62990177e-01, 2.18137249e-01]]],\n",
       "\n",
       "\n",
       "       [[[6.12745108e-03, 6.12745108e-03, 6.12745108e-03],\n",
       "         [0.00000000e+00, 0.00000000e+00, 0.00000000e+00],\n",
       "         [0.00000000e+00, 0.00000000e+00, 0.00000000e+00],\n",
       "         ...,\n",
       "         [8.89215708e-01, 9.39215660e-01, 9.77941155e-01],\n",
       "         [7.67892182e-01, 7.48284340e-01, 7.94607818e-01],\n",
       "         [1.77205876e-01, 1.72794119e-01, 3.48774523e-01]],\n",
       "\n",
       "        [[7.35294132e-04, 7.35294132e-04, 7.35294132e-04],\n",
       "         [0.00000000e+00, 0.00000000e+00, 0.00000000e+00],\n",
       "         [0.00000000e+00, 0.00000000e+00, 0.00000000e+00],\n",
       "         ...,\n",
       "         [8.29656839e-01, 8.67156863e-01, 8.89460802e-01],\n",
       "         [4.74509805e-01, 5.55147052e-01, 6.20098054e-01],\n",
       "         [3.71078432e-01, 3.94117653e-01, 5.51470578e-01]],\n",
       "\n",
       "        [[0.00000000e+00, 0.00000000e+00, 0.00000000e+00],\n",
       "         [0.00000000e+00, 0.00000000e+00, 0.00000000e+00],\n",
       "         [0.00000000e+00, 0.00000000e+00, 0.00000000e+00],\n",
       "         ...,\n",
       "         [8.36764693e-01, 8.62254918e-01, 8.80147040e-01],\n",
       "         [6.19607866e-01, 6.78676486e-01, 6.84558809e-01],\n",
       "         [5.33333361e-01, 5.68627477e-01, 6.23284340e-01]],\n",
       "\n",
       "        ...,\n",
       "\n",
       "        [[6.34558797e-01, 5.59803903e-01, 3.03676456e-01],\n",
       "         [7.73039222e-01, 7.14705884e-01, 4.73774523e-01],\n",
       "         [8.20588231e-01, 7.75980413e-01, 5.55882335e-01],\n",
       "         ...,\n",
       "         [7.93382347e-01, 3.72794122e-01, 1.58823535e-01],\n",
       "         [9.06372547e-01, 6.65196061e-01, 3.20833325e-01],\n",
       "         [9.99754906e-01, 9.24754918e-01, 4.95833337e-01]],\n",
       "\n",
       "        [[6.90441191e-01, 6.48284316e-01, 3.78921568e-01],\n",
       "         [6.45588219e-01, 5.78921556e-01, 2.94852942e-01],\n",
       "         [7.80147076e-01, 7.15441167e-01, 4.45588231e-01],\n",
       "         ...,\n",
       "         [9.23039198e-01, 5.29656887e-01, 3.00245106e-01],\n",
       "         [8.63725483e-01, 5.65931380e-01, 2.25490198e-01],\n",
       "         [1.00000000e+00, 9.15441155e-01, 4.80882347e-01]],\n",
       "\n",
       "        [[7.51715660e-01, 7.11274505e-01, 4.50735301e-01],\n",
       "         [6.34558797e-01, 5.59803903e-01, 2.97303915e-01],\n",
       "         [7.15686262e-01, 6.63970590e-01, 4.28676456e-01],\n",
       "         ...,\n",
       "         [8.26225519e-01, 3.95098031e-01, 1.80392161e-01],\n",
       "         [8.18382382e-01, 4.48529422e-01, 1.58088237e-01],\n",
       "         [1.00000000e+00, 9.36764717e-01, 5.30147076e-01]]],\n",
       "\n",
       "\n",
       "       ...,\n",
       "\n",
       "\n",
       "       [[[2.11029410e-01, 2.09558830e-01, 3.04901958e-01],\n",
       "         [6.05882347e-01, 6.02941155e-01, 6.62009776e-01],\n",
       "         [8.30882370e-01, 8.69607866e-01, 8.80882382e-01],\n",
       "         ...,\n",
       "         [8.67647082e-02, 1.41176477e-01, 1.79901958e-01],\n",
       "         [2.21078426e-01, 3.15196067e-01, 3.91911775e-01],\n",
       "         [3.46813738e-01, 4.61274505e-01, 5.48529387e-01]],\n",
       "\n",
       "        [[2.41421565e-01, 2.76470602e-01, 3.65686268e-01],\n",
       "         [4.24754888e-01, 4.78186280e-01, 5.24019599e-01],\n",
       "         [7.47548997e-01, 8.02696049e-01, 8.14460814e-01],\n",
       "         ...,\n",
       "         [3.82352956e-02, 6.64215684e-02, 9.11764726e-02],\n",
       "         [1.10784315e-01, 1.69852942e-01, 2.27450982e-01],\n",
       "         [1.67401955e-01, 2.47303918e-01, 3.18627447e-01]],\n",
       "\n",
       "        [[3.68872553e-01, 4.33823526e-01, 4.74019617e-01],\n",
       "         [5.15686274e-01, 5.85784316e-01, 5.96323550e-01],\n",
       "         [7.36274481e-01, 7.80392170e-01, 7.80392170e-01],\n",
       "         ...,\n",
       "         [3.16176489e-02, 3.87254916e-02, 4.19117659e-02],\n",
       "         [4.28921580e-02, 6.15196079e-02, 1.00980394e-01],\n",
       "         [9.26470608e-02, 1.28921568e-01, 1.84313729e-01]],\n",
       "\n",
       "        ...,\n",
       "\n",
       "        [[9.28921580e-01, 8.50245118e-01, 4.18382347e-01],\n",
       "         [9.39951003e-01, 8.02205861e-01, 4.58333343e-01],\n",
       "         [6.99264705e-01, 4.19117659e-01, 1.80147052e-01],\n",
       "         ...,\n",
       "         [5.73284328e-01, 5.63725471e-01, 3.12500000e-01],\n",
       "         [6.50735319e-01, 6.27205908e-01, 3.87745112e-01],\n",
       "         [6.19362772e-01, 5.83088219e-01, 3.57107848e-01]],\n",
       "\n",
       "        [[9.59313750e-01, 8.75490189e-01, 4.54656869e-01],\n",
       "         [9.44362760e-01, 7.74019599e-01, 4.44362760e-01],\n",
       "         [7.47303903e-01, 4.30882365e-01, 2.03186274e-01],\n",
       "         ...,\n",
       "         [6.93137228e-01, 6.57352924e-01, 4.23774511e-01],\n",
       "         [6.89460814e-01, 6.46568656e-01, 4.05882359e-01],\n",
       "         [5.18872559e-01, 4.63235289e-01, 2.11029410e-01]],\n",
       "\n",
       "        [[9.52941179e-01, 8.49264681e-01, 4.44607854e-01],\n",
       "         [9.42156851e-01, 7.35294104e-01, 4.25490201e-01],\n",
       "         [7.94362724e-01, 4.34313715e-01, 2.14950979e-01],\n",
       "         ...,\n",
       "         [6.87009811e-01, 6.55882359e-01, 3.88970584e-01],\n",
       "         [6.02205873e-01, 5.49754918e-01, 2.91666657e-01],\n",
       "         [5.40196061e-01, 4.69607830e-01, 2.18627453e-01]]],\n",
       "\n",
       "\n",
       "       [[[1.37990192e-01, 2.69362748e-01, 3.43872547e-01],\n",
       "         [1.95833340e-01, 2.72303909e-01, 3.46813738e-01],\n",
       "         [8.08823556e-02, 1.22303918e-01, 1.65931374e-01],\n",
       "         ...,\n",
       "         [8.39460790e-01, 8.76715660e-01, 8.80882382e-01],\n",
       "         [6.92892134e-01, 7.00735271e-01, 7.52205908e-01],\n",
       "         [1.73774511e-01, 1.61029413e-01, 2.70343125e-01]],\n",
       "\n",
       "        [[3.19852948e-01, 4.45343137e-01, 5.27205884e-01],\n",
       "         [6.51960820e-02, 1.30882353e-01, 2.06127450e-01],\n",
       "         [3.33333351e-02, 6.96078464e-02, 1.06372550e-01],\n",
       "         ...,\n",
       "         [7.75245070e-01, 8.07107866e-01, 8.32352936e-01],\n",
       "         [5.09558797e-01, 5.30147076e-01, 6.01960778e-01],\n",
       "         [3.25245112e-01, 3.43137264e-01, 4.55882341e-01]],\n",
       "\n",
       "        [[2.35784307e-01, 3.50245088e-01, 4.43382353e-01],\n",
       "         [5.83333336e-02, 1.14215687e-01, 1.82107836e-01],\n",
       "         [1.78921577e-02, 4.11764719e-02, 6.29901960e-02],\n",
       "         ...,\n",
       "         [7.66176462e-01, 7.91421592e-01, 7.90686250e-01],\n",
       "         [5.95343113e-01, 6.28676474e-01, 6.53186262e-01],\n",
       "         [5.00735283e-01, 5.40931344e-01, 5.85049033e-01]],\n",
       "\n",
       "        ...,\n",
       "\n",
       "        [[6.33578420e-01, 6.10784292e-01, 3.66176456e-01],\n",
       "         [5.31372547e-01, 4.95098025e-01, 2.63725489e-01],\n",
       "         [6.09068632e-01, 5.72058797e-01, 3.37990195e-01],\n",
       "         ...,\n",
       "         [6.54656887e-01, 2.46813729e-01, 1.01225488e-01],\n",
       "         [6.30882382e-01, 2.64215678e-01, 7.00980425e-02],\n",
       "         [7.97794104e-01, 5.62990189e-01, 2.77450979e-01]],\n",
       "\n",
       "        [[6.29411757e-01, 6.00000024e-01, 3.53921562e-01],\n",
       "         [6.16666675e-01, 5.76715708e-01, 3.39705884e-01],\n",
       "         [5.36764681e-01, 4.94607836e-01, 2.51470596e-01],\n",
       "         ...,\n",
       "         [5.82843125e-01, 2.07843140e-01, 6.59313723e-02],\n",
       "         [7.50980377e-01, 4.04166669e-01, 2.12500006e-01],\n",
       "         [7.51225471e-01, 5.23039222e-01, 2.44117647e-01]],\n",
       "\n",
       "        [[6.24509811e-01, 5.94117641e-01, 3.36274505e-01],\n",
       "         [6.46323502e-01, 6.04411781e-01, 3.63480389e-01],\n",
       "         [5.64705908e-01, 5.08823514e-01, 2.71568626e-01],\n",
       "         ...,\n",
       "         [6.23284340e-01, 2.25490198e-01, 1.00490198e-01],\n",
       "         [7.16421545e-01, 3.44362736e-01, 1.71078429e-01],\n",
       "         [7.07107842e-01, 4.37745094e-01, 1.74264699e-01]]],\n",
       "\n",
       "\n",
       "       [[[0.00000000e+00, 3.92156886e-03, 0.00000000e+00],\n",
       "         [0.00000000e+00, 4.90196096e-03, 0.00000000e+00],\n",
       "         [0.00000000e+00, 7.84313772e-03, 0.00000000e+00],\n",
       "         ...,\n",
       "         [7.54411757e-01, 7.96568632e-01, 7.71078408e-01],\n",
       "         [7.32843161e-01, 7.29656875e-01, 7.55147040e-01],\n",
       "         [2.97794104e-01, 3.20588231e-01, 4.28921580e-01]],\n",
       "\n",
       "        [[0.00000000e+00, 2.94117653e-03, 0.00000000e+00],\n",
       "         [0.00000000e+00, 2.94117653e-03, 0.00000000e+00],\n",
       "         [7.35294132e-04, 7.35294132e-04, 0.00000000e+00],\n",
       "         ...,\n",
       "         [7.66911745e-01, 8.01960766e-01, 8.33088219e-01],\n",
       "         [5.20588219e-01, 5.61519623e-01, 6.16666675e-01],\n",
       "         [3.71078432e-01, 4.05147046e-01, 4.78431374e-01]],\n",
       "\n",
       "        [[0.00000000e+00, 2.94117653e-03, 0.00000000e+00],\n",
       "         [0.00000000e+00, 2.20588245e-03, 0.00000000e+00],\n",
       "         [2.94117653e-03, 0.00000000e+00, 0.00000000e+00],\n",
       "         ...,\n",
       "         [7.92892158e-01, 8.32352936e-01, 8.91911745e-01],\n",
       "         [4.95833337e-01, 5.69362760e-01, 6.05882347e-01],\n",
       "         [4.27696079e-01, 4.74264711e-01, 5.13970613e-01]],\n",
       "\n",
       "        ...,\n",
       "\n",
       "        [[5.61274529e-01, 4.62254912e-01, 1.61274508e-01],\n",
       "         [6.39950991e-01, 6.09558821e-01, 3.19607854e-01],\n",
       "         [5.47303915e-01, 5.32598019e-01, 2.52696067e-01],\n",
       "         ...,\n",
       "         [7.76225507e-01, 4.65931386e-01, 2.33823523e-01],\n",
       "         [9.65686262e-01, 8.09068620e-01, 4.02696073e-01],\n",
       "         [9.55637276e-01, 8.24019611e-01, 3.03186268e-01]],\n",
       "\n",
       "        [[5.19117653e-01, 4.02941167e-01, 1.39215693e-01],\n",
       "         [6.31127477e-01, 5.71323514e-01, 3.07843149e-01],\n",
       "         [6.56127453e-01, 6.35294139e-01, 3.72303933e-01],\n",
       "         ...,\n",
       "         [8.05392146e-01, 3.96568626e-01, 1.65441170e-01],\n",
       "         [8.91176462e-01, 6.60294116e-01, 2.97549009e-01],\n",
       "         [9.56862748e-01, 8.58333349e-01, 3.84803921e-01]],\n",
       "\n",
       "        [[4.98039216e-01, 4.01960790e-01, 1.36764705e-01],\n",
       "         [5.47303915e-01, 4.60049033e-01, 1.85784310e-01],\n",
       "         [6.63970590e-01, 6.36029422e-01, 3.81372541e-01],\n",
       "         ...,\n",
       "         [8.93382370e-01, 4.28676456e-01, 1.69852942e-01],\n",
       "         [9.62745070e-01, 7.49509811e-01, 3.62745106e-01],\n",
       "         [9.46568608e-01, 8.12500000e-01, 3.17647070e-01]]]],\n",
       "      dtype=float32)"
      ]
     },
     "execution_count": 86,
     "metadata": {},
     "output_type": "execute_result"
    }
   ],
   "source": [
    "batch_1[0] # anchor image "
   ]
  },
  {
   "cell_type": "code",
   "execution_count": 87,
   "id": "d24b1b90",
   "metadata": {},
   "outputs": [
    {
     "data": {
      "text/plain": [
       "16"
      ]
     },
     "execution_count": 87,
     "metadata": {},
     "output_type": "execute_result"
    }
   ],
   "source": [
    "len(batch_1[0])#---anchor image , # inside 1 batch we have 16 images "
   ]
  },
  {
   "cell_type": "code",
   "execution_count": 88,
   "id": "3d37a064",
   "metadata": {},
   "outputs": [
    {
     "data": {
      "text/plain": [
       "array([[[[3.49019617e-01, 1.52941182e-01, 7.84313772e-03],\n",
       "         [3.52941185e-01, 1.60784319e-01, 3.92156886e-03],\n",
       "         [3.62009794e-01, 1.61029413e-01, 7.10784318e-03],\n",
       "         ...,\n",
       "         [1.94117650e-01, 9.11764726e-02, 4.90196086e-02],\n",
       "         [1.33333340e-01, 5.19607849e-02, 2.84313727e-02],\n",
       "         [9.01960805e-02, 2.25490201e-02, 1.37254903e-02]],\n",
       "\n",
       "        [[3.49019617e-01, 1.52941182e-01, 7.84313772e-03],\n",
       "         [3.50735307e-01, 1.58578426e-01, 1.71568629e-03],\n",
       "         [3.58823538e-01, 1.57843143e-01, 3.92156886e-03],\n",
       "         ...,\n",
       "         [1.94117650e-01, 9.11764726e-02, 4.90196086e-02],\n",
       "         [1.33333340e-01, 5.19607849e-02, 2.84313727e-02],\n",
       "         [8.62745121e-02, 1.86274517e-02, 9.80392192e-03]],\n",
       "\n",
       "        [[3.55882347e-01, 1.59803927e-01, 1.47058824e-02],\n",
       "         [3.55882347e-01, 1.63725495e-01, 6.86274515e-03],\n",
       "         [3.58823538e-01, 1.57843143e-01, 3.92156886e-03],\n",
       "         ...,\n",
       "         [1.94117650e-01, 9.11764726e-02, 4.90196086e-02],\n",
       "         [1.33333340e-01, 5.19607849e-02, 2.84313727e-02],\n",
       "         [8.84803906e-02, 2.08333340e-02, 1.20098041e-02]],\n",
       "\n",
       "        ...,\n",
       "\n",
       "        [[8.69852960e-01, 4.27941173e-01, 1.84068620e-01],\n",
       "         [8.60539198e-01, 4.18382347e-01, 1.66421562e-01],\n",
       "         [8.66666675e-01, 4.15686280e-01, 1.53676465e-01],\n",
       "         ...,\n",
       "         [8.11274529e-01, 3.49754900e-01, 1.81372553e-01],\n",
       "         [7.30392158e-01, 2.76715696e-01, 1.49019614e-01],\n",
       "         [7.06127465e-01, 2.89215684e-01, 1.85049012e-01]],\n",
       "\n",
       "        [[8.79411757e-01, 4.29411769e-01, 1.78186268e-01],\n",
       "         [8.78431380e-01, 4.19362754e-01, 1.64705887e-01],\n",
       "         [8.83333325e-01, 4.18627441e-01, 1.58823535e-01],\n",
       "         ...,\n",
       "         [8.83088231e-01, 4.06617641e-01, 2.33333334e-01],\n",
       "         [8.13480377e-01, 3.18382353e-01, 1.85294122e-01],\n",
       "         [6.80392146e-01, 1.83088228e-01, 7.35294148e-02]],\n",
       "\n",
       "        [[8.85294139e-01, 4.26470578e-01, 1.63725495e-01],\n",
       "         [8.88235271e-01, 4.18627441e-01, 1.60784319e-01],\n",
       "         [8.93137276e-01, 4.08823520e-01, 1.56862751e-01],\n",
       "         ...,\n",
       "         [9.05147076e-01, 4.28676456e-01, 2.57598042e-01],\n",
       "         [8.61519635e-01, 3.66421580e-01, 2.27696076e-01],\n",
       "         [7.57843137e-01, 2.44117647e-01, 1.34313732e-01]]],\n",
       "\n",
       "\n",
       "       [[[3.52205873e-01, 3.52696091e-01, 3.70098025e-01],\n",
       "         [7.19607830e-01, 7.23529398e-01, 7.42156863e-01],\n",
       "         [8.21813703e-01, 8.25735271e-01, 8.35049033e-01],\n",
       "         ...,\n",
       "         [4.21568640e-02, 4.70588244e-02, 2.99019609e-02],\n",
       "         [5.12254909e-02, 5.61274514e-02, 6.69117644e-02],\n",
       "         [5.31862751e-02, 6.49509802e-02, 9.24019590e-02]],\n",
       "\n",
       "        [[3.96078438e-01, 4.12745088e-01, 4.24509794e-01],\n",
       "         [5.51225483e-01, 5.64951003e-01, 5.82843125e-01],\n",
       "         [7.94607818e-01, 8.10539186e-01, 8.24019611e-01],\n",
       "         ...,\n",
       "         [5.90686277e-02, 6.39705881e-02, 4.63235304e-02],\n",
       "         [7.57352933e-02, 8.94607827e-02, 9.73039195e-02],\n",
       "         [9.65686291e-02, 1.10294119e-01, 1.36764705e-01]],\n",
       "\n",
       "        [[4.45343137e-01, 4.77696091e-01, 4.62990195e-01],\n",
       "         [6.15441203e-01, 6.38725519e-01, 6.29166663e-01],\n",
       "         [8.21078420e-01, 8.44362736e-01, 8.39215696e-01],\n",
       "         ...,\n",
       "         [6.44607842e-02, 6.93627447e-02, 5.17156869e-02],\n",
       "         [8.74999985e-02, 1.03186272e-01, 1.11029409e-01],\n",
       "         [1.00735292e-01, 1.21813722e-01, 1.45343140e-01]],\n",
       "\n",
       "        ...,\n",
       "\n",
       "        [[6.53676450e-01, 5.48529387e-01, 3.49509805e-01],\n",
       "         [4.81862754e-01, 4.87990201e-01, 2.80392170e-01],\n",
       "         [2.26470590e-01, 2.96323538e-01, 9.68137234e-02],\n",
       "         ...,\n",
       "         [7.16666639e-01, 6.44362748e-01, 4.04166669e-01],\n",
       "         [7.95833349e-01, 7.12990224e-01, 4.54166681e-01],\n",
       "         [7.21813738e-01, 5.81862748e-01, 3.00735295e-01]],\n",
       "\n",
       "        [[4.92892146e-01, 3.83823544e-01, 2.00245097e-01],\n",
       "         [5.46078444e-01, 5.50000012e-01, 3.49019617e-01],\n",
       "         [4.32598025e-01, 5.00245094e-01, 2.91911751e-01],\n",
       "         ...,\n",
       "         [7.72549033e-01, 6.96568608e-01, 4.68872547e-01],\n",
       "         [7.49754906e-01, 6.66176498e-01, 4.14460778e-01],\n",
       "         [7.65686274e-01, 6.22794092e-01, 3.55147064e-01]],\n",
       "\n",
       "        [[6.73284292e-01, 5.39705873e-01, 3.58333319e-01],\n",
       "         [4.22058821e-01, 4.03186262e-01, 2.00980395e-01],\n",
       "         [2.89705873e-01, 3.39950979e-01, 1.23284310e-01],\n",
       "         ...,\n",
       "         [7.20833361e-01, 6.59803927e-01, 4.09558833e-01],\n",
       "         [7.42401958e-01, 6.68382347e-01, 3.95343125e-01],\n",
       "         [7.81617641e-01, 6.52205884e-01, 3.64950985e-01]]],\n",
       "\n",
       "\n",
       "       [[[4.80392165e-02, 4.41176482e-02, 2.84313727e-02],\n",
       "         [3.21078449e-02, 2.81862747e-02, 1.25000002e-02],\n",
       "         [3.60294133e-02, 3.21078449e-02, 1.64215695e-02],\n",
       "         ...,\n",
       "         [7.79656887e-01, 7.64215708e-01, 7.43872523e-01],\n",
       "         [8.22549045e-01, 8.18627477e-01, 8.07107866e-01],\n",
       "         [4.93137240e-01, 4.77450967e-01, 4.73529398e-01]],\n",
       "\n",
       "        [[3.72549035e-02, 3.33333351e-02, 1.76470596e-02],\n",
       "         [3.60294133e-02, 3.21078449e-02, 1.64215695e-02],\n",
       "         [3.60294133e-02, 3.21078449e-02, 1.64215695e-02],\n",
       "         ...,\n",
       "         [8.11519623e-01, 8.07352960e-01, 8.11519623e-01],\n",
       "         [6.10784292e-01, 6.11029387e-01, 6.15931392e-01],\n",
       "         [4.57107842e-01, 4.38480407e-01, 4.51225489e-01]],\n",
       "\n",
       "        [[4.70588244e-02, 4.31372561e-02, 2.74509806e-02],\n",
       "         [3.52941193e-02, 3.13725509e-02, 1.56862754e-02],\n",
       "         [3.75000015e-02, 3.35784331e-02, 1.78921577e-02],\n",
       "         ...,\n",
       "         [8.38480413e-01, 8.52941155e-01, 8.35049033e-01],\n",
       "         [5.70098042e-01, 5.74264705e-01, 5.55637240e-01],\n",
       "         [5.24999976e-01, 5.12254894e-01, 4.88725483e-01]],\n",
       "\n",
       "        ...,\n",
       "\n",
       "        [[4.83823538e-01, 1.47549018e-01, 8.57843179e-03],\n",
       "         [6.91421568e-01, 4.37254906e-01, 1.73039213e-01],\n",
       "         [7.53186285e-01, 6.24019623e-01, 3.23039204e-01],\n",
       "         ...,\n",
       "         [5.98284304e-01, 5.85294127e-01, 3.32107842e-01],\n",
       "         [1.49019614e-01, 2.15686277e-01, 1.10294120e-02],\n",
       "         [2.55392164e-01, 3.46568614e-01, 1.43137261e-01]],\n",
       "\n",
       "        [[5.48284292e-01, 2.14950979e-01, 3.87254916e-02],\n",
       "         [6.43382370e-01, 3.98039222e-01, 1.25735298e-01],\n",
       "         [7.99509823e-01, 6.67401969e-01, 3.55882347e-01],\n",
       "         ...,\n",
       "         [6.82843149e-01, 6.72058821e-01, 4.13725495e-01],\n",
       "         [3.18382353e-01, 3.87990206e-01, 1.75245091e-01],\n",
       "         [4.32352930e-01, 5.34558833e-01, 3.37745100e-01]],\n",
       "\n",
       "        [[5.76715708e-01, 2.45343134e-01, 5.51470593e-02],\n",
       "         [6.36274517e-01, 4.00000006e-01, 1.22549020e-01],\n",
       "         [8.05882335e-01, 6.74509823e-01, 3.54411751e-01],\n",
       "         ...,\n",
       "         [7.17892170e-01, 6.98774517e-01, 4.27941173e-01],\n",
       "         [3.93137246e-01, 4.64215696e-01, 2.40686268e-01],\n",
       "         [3.72549027e-01, 4.66666669e-01, 2.70588249e-01]]],\n",
       "\n",
       "\n",
       "       ...,\n",
       "\n",
       "\n",
       "       [[[2.27941182e-02, 2.27941182e-02, 1.49509804e-02],\n",
       "         [9.55882389e-03, 9.55882389e-03, 2.20588245e-03],\n",
       "         [7.35294132e-04, 7.35294132e-04, 0.00000000e+00],\n",
       "         ...,\n",
       "         [8.21568608e-01, 7.91911781e-01, 8.42647076e-01],\n",
       "         [8.22794139e-01, 8.13725471e-01, 7.91911781e-01],\n",
       "         [4.35049027e-01, 4.98284310e-01, 5.02205908e-01]],\n",
       "\n",
       "        [[3.06372549e-02, 3.06372549e-02, 2.27941182e-02],\n",
       "         [8.82352982e-03, 8.82352982e-03, 2.94117653e-03],\n",
       "         [0.00000000e+00, 0.00000000e+00, 0.00000000e+00],\n",
       "         ...,\n",
       "         [7.83823550e-01, 8.45343113e-01, 8.37990224e-01],\n",
       "         [5.90441167e-01, 6.29901946e-01, 5.91176450e-01],\n",
       "         [4.09558833e-01, 4.15686280e-01, 3.99019599e-01]],\n",
       "\n",
       "        [[2.64705885e-02, 2.64705885e-02, 1.86274517e-02],\n",
       "         [1.05392160e-02, 1.05392160e-02, 3.67647060e-03],\n",
       "         [0.00000000e+00, 0.00000000e+00, 0.00000000e+00],\n",
       "         ...,\n",
       "         [7.80392170e-01, 8.55637252e-01, 8.70098054e-01],\n",
       "         [5.13725519e-01, 5.57843149e-01, 5.54901958e-01],\n",
       "         [5.00490189e-01, 4.95098025e-01, 4.87254888e-01]],\n",
       "\n",
       "        ...,\n",
       "\n",
       "        [[5.31127453e-01, 1.39950976e-01, 2.42647063e-02],\n",
       "         [6.77205861e-01, 3.79656851e-01, 1.33333340e-01],\n",
       "         [7.53921568e-01, 6.18627429e-01, 3.04656863e-01],\n",
       "         ...,\n",
       "         [6.41176462e-01, 6.49999976e-01, 3.27696085e-01],\n",
       "         [1.15931369e-01, 2.12500006e-01, 1.10294120e-02],\n",
       "         [2.23529413e-01, 3.14705878e-01, 8.92156884e-02]],\n",
       "\n",
       "        [[5.76960802e-01, 1.95588231e-01, 5.56372553e-02],\n",
       "         [5.68872571e-01, 2.70343125e-01, 4.63235304e-02],\n",
       "         [7.85294116e-01, 6.60784304e-01, 3.60784322e-01],\n",
       "         ...,\n",
       "         [7.40686297e-01, 6.98039234e-01, 3.84068638e-01],\n",
       "         [3.04411769e-01, 3.96568626e-01, 1.63970590e-01],\n",
       "         [3.75245094e-01, 5.36274493e-01, 3.01225483e-01]],\n",
       "\n",
       "        [[6.00980401e-01, 2.34803915e-01, 6.15196079e-02],\n",
       "         [5.93137264e-01, 2.95098037e-01, 7.15686306e-02],\n",
       "         [8.20833325e-01, 7.05392182e-01, 4.07598048e-01],\n",
       "         ...,\n",
       "         [7.69362748e-01, 7.26225495e-01, 4.52205896e-01],\n",
       "         [4.05637264e-01, 4.87990201e-01, 2.85049021e-01],\n",
       "         [3.17892164e-01, 4.49509799e-01, 2.47058824e-01]]],\n",
       "\n",
       "\n",
       "       [[[0.00000000e+00, 0.00000000e+00, 0.00000000e+00],\n",
       "         [0.00000000e+00, 0.00000000e+00, 0.00000000e+00],\n",
       "         [0.00000000e+00, 0.00000000e+00, 0.00000000e+00],\n",
       "         ...,\n",
       "         [0.00000000e+00, 0.00000000e+00, 0.00000000e+00],\n",
       "         [0.00000000e+00, 0.00000000e+00, 0.00000000e+00],\n",
       "         [0.00000000e+00, 0.00000000e+00, 0.00000000e+00]],\n",
       "\n",
       "        [[0.00000000e+00, 0.00000000e+00, 0.00000000e+00],\n",
       "         [0.00000000e+00, 0.00000000e+00, 0.00000000e+00],\n",
       "         [0.00000000e+00, 0.00000000e+00, 0.00000000e+00],\n",
       "         ...,\n",
       "         [0.00000000e+00, 0.00000000e+00, 0.00000000e+00],\n",
       "         [0.00000000e+00, 0.00000000e+00, 0.00000000e+00],\n",
       "         [0.00000000e+00, 0.00000000e+00, 0.00000000e+00]],\n",
       "\n",
       "        [[0.00000000e+00, 0.00000000e+00, 0.00000000e+00],\n",
       "         [0.00000000e+00, 0.00000000e+00, 0.00000000e+00],\n",
       "         [0.00000000e+00, 0.00000000e+00, 0.00000000e+00],\n",
       "         ...,\n",
       "         [0.00000000e+00, 0.00000000e+00, 0.00000000e+00],\n",
       "         [0.00000000e+00, 0.00000000e+00, 0.00000000e+00],\n",
       "         [0.00000000e+00, 0.00000000e+00, 0.00000000e+00]],\n",
       "\n",
       "        ...,\n",
       "\n",
       "        [[1.53186277e-01, 1.76715687e-01, 1.76715687e-01],\n",
       "         [1.52205884e-01, 1.74754903e-01, 1.77696079e-01],\n",
       "         [1.31862745e-01, 1.46323532e-01, 1.62499994e-01],\n",
       "         ...,\n",
       "         [7.52450973e-02, 9.60784331e-02, 9.97548997e-02],\n",
       "         [1.18137255e-01, 1.36764705e-01, 1.48529410e-01],\n",
       "         [1.08578429e-01, 1.26225486e-01, 1.42892152e-01]],\n",
       "\n",
       "        [[1.43382356e-01, 1.63970590e-01, 1.72794119e-01],\n",
       "         [1.43872544e-01, 1.64215684e-01, 1.73774511e-01],\n",
       "         [1.37990192e-01, 1.56862751e-01, 1.68627456e-01],\n",
       "         ...,\n",
       "         [9.21568647e-02, 1.07843138e-01, 1.13725491e-01],\n",
       "         [1.17156863e-01, 1.32843137e-01, 1.44607842e-01],\n",
       "         [1.17647059e-01, 1.29411772e-01, 1.49019614e-01]],\n",
       "\n",
       "        [[1.26470596e-01, 1.46078438e-01, 1.61764711e-01],\n",
       "         [1.44117653e-01, 1.63725495e-01, 1.75490201e-01],\n",
       "         [1.36274517e-01, 1.55882359e-01, 1.67647064e-01],\n",
       "         ...,\n",
       "         [8.82352963e-02, 1.03921570e-01, 1.09803922e-01],\n",
       "         [1.15686275e-01, 1.28431380e-01, 1.46078438e-01],\n",
       "         [1.21568628e-01, 1.33333340e-01, 1.52941182e-01]]],\n",
       "\n",
       "\n",
       "       [[[3.40686291e-02, 3.79901975e-02, 1.83823537e-02],\n",
       "         [1.49509804e-02, 1.78921577e-02, 2.20588245e-03],\n",
       "         [7.35294120e-03, 7.35294120e-03, 2.45098048e-03],\n",
       "         ...,\n",
       "         [8.05392146e-01, 7.89950967e-01, 8.25980365e-01],\n",
       "         [8.21813703e-01, 8.26225519e-01, 7.87254930e-01],\n",
       "         [4.72794116e-01, 5.06127477e-01, 4.40931380e-01]],\n",
       "\n",
       "        [[4.16666679e-02, 4.55882363e-02, 2.59803925e-02],\n",
       "         [1.88725498e-02, 2.18137261e-02, 5.14705898e-03],\n",
       "         [0.00000000e+00, 0.00000000e+00, 0.00000000e+00],\n",
       "         ...,\n",
       "         [7.92156875e-01, 8.42156887e-01, 8.55637252e-01],\n",
       "         [5.69852948e-01, 5.99754930e-01, 6.10539198e-01],\n",
       "         [4.53676462e-01, 4.18627441e-01, 3.97549033e-01]],\n",
       "\n",
       "        [[4.68137264e-02, 5.07352948e-02, 3.11274510e-02],\n",
       "         [1.20098041e-02, 1.49509804e-02, 0.00000000e+00],\n",
       "         [5.39215701e-03, 5.39215701e-03, 0.00000000e+00],\n",
       "         ...,\n",
       "         [7.79656887e-01, 8.75000000e-01, 8.71813715e-01],\n",
       "         [5.32352924e-01, 5.75980365e-01, 5.69607854e-01],\n",
       "         [5.35049021e-01, 4.83823538e-01, 4.68137264e-01]],\n",
       "\n",
       "        ...,\n",
       "\n",
       "        [[5.32352924e-01, 1.41666666e-01, 1.37254903e-02],\n",
       "         [7.01470613e-01, 4.05637264e-01, 1.64950982e-01],\n",
       "         [7.70098031e-01, 6.37990177e-01, 3.54656875e-01],\n",
       "         ...,\n",
       "         [5.74509799e-01, 5.81372559e-01, 3.12500000e-01],\n",
       "         [9.09313709e-02, 1.71323523e-01, 8.82352982e-03],\n",
       "         [2.47549012e-01, 3.25490206e-01, 1.20098040e-01]],\n",
       "\n",
       "        [[5.62009811e-01, 1.99509799e-01, 4.24019620e-02],\n",
       "         [6.18382335e-01, 3.34068626e-01, 1.01225488e-01],\n",
       "         [7.84313738e-01, 6.68137252e-01, 3.74264717e-01],\n",
       "         ...,\n",
       "         [6.51715696e-01, 6.46568656e-01, 3.39950979e-01],\n",
       "         [2.94852942e-01, 3.84068638e-01, 1.54166669e-01],\n",
       "         [4.21323538e-01, 5.31862736e-01, 3.29656869e-01]],\n",
       "\n",
       "        [[5.80882370e-01, 2.51715690e-01, 8.38235319e-02],\n",
       "         [6.23284340e-01, 3.44362736e-01, 8.16176459e-02],\n",
       "         [8.04901958e-01, 6.83823526e-01, 3.59313726e-01],\n",
       "         ...,\n",
       "         [7.23774493e-01, 7.04411745e-01, 4.30392146e-01],\n",
       "         [3.81862760e-01, 4.33333337e-01, 2.47058824e-01],\n",
       "         [3.81372541e-01, 4.32843149e-01, 2.21078426e-01]]]],\n",
       "      dtype=float32)"
      ]
     },
     "execution_count": 88,
     "metadata": {},
     "output_type": "execute_result"
    }
   ],
   "source": [
    "batch_1[1] # positive or negative image  "
   ]
  },
  {
   "cell_type": "code",
   "execution_count": 89,
   "id": "3885c17c",
   "metadata": {},
   "outputs": [
    {
     "data": {
      "text/plain": [
       "16"
      ]
     },
     "execution_count": 89,
     "metadata": {},
     "output_type": "execute_result"
    }
   ],
   "source": [
    "len(batch_1[1]) # inside 1 batch we have 16 images "
   ]
  },
  {
   "cell_type": "code",
   "execution_count": 90,
   "id": "1cea8371",
   "metadata": {},
   "outputs": [
    {
     "data": {
      "text/plain": [
       "array([0., 1., 1., 0., 0., 1., 0., 0., 0., 1., 1., 1., 0., 1., 0., 1.],\n",
       "      dtype=float32)"
      ]
     },
     "execution_count": 90,
     "metadata": {},
     "output_type": "execute_result"
    }
   ],
   "source": [
    "batch_1[2]"
   ]
  },
  {
   "cell_type": "code",
   "execution_count": 91,
   "id": "c66ca15f",
   "metadata": {},
   "outputs": [],
   "source": [
    "X = batch_1[:2]"
   ]
  },
  {
   "cell_type": "code",
   "execution_count": 92,
   "id": "f7f3ac45",
   "metadata": {},
   "outputs": [
    {
     "data": {
      "text/plain": [
       "2"
      ]
     },
     "execution_count": 92,
     "metadata": {},
     "output_type": "execute_result"
    }
   ],
   "source": [
    "len(X)"
   ]
  },
  {
   "cell_type": "code",
   "execution_count": 93,
   "id": "9fc0146b",
   "metadata": {},
   "outputs": [
    {
     "data": {
      "text/plain": [
       "(2, 16, 100, 100, 3)"
      ]
     },
     "execution_count": 93,
     "metadata": {},
     "output_type": "execute_result"
    }
   ],
   "source": [
    "np.array(X).shape  # we have 2 components our anchor and either positve or negative image ,each batch is made up of 16 images ,then our shape is 100 by 100 and 3 channels ,so that is all our data stored in X "
   ]
  },
  {
   "cell_type": "code",
   "execution_count": 94,
   "id": "9c669207",
   "metadata": {},
   "outputs": [],
   "source": [
    "y = batch_1[2]"
   ]
  },
  {
   "cell_type": "code",
   "execution_count": 95,
   "id": "89daa240",
   "metadata": {},
   "outputs": [
    {
     "data": {
      "text/plain": [
       "array([0., 1., 1., 0., 0., 1., 0., 0., 0., 1., 1., 1., 0., 1., 0., 1.],\n",
       "      dtype=float32)"
      ]
     },
     "execution_count": 95,
     "metadata": {},
     "output_type": "execute_result"
    }
   ],
   "source": [
    "y # these are all about our labels "
   ]
  },
  {
   "cell_type": "code",
   "execution_count": 96,
   "id": "32b63688",
   "metadata": {},
   "outputs": [
    {
     "data": {
      "text/plain": [
       "array([0., 1., 1., 0., 0., 1., 0., 0., 0., 1., 1., 1., 0., 1., 0., 1.],\n",
       "      dtype=float32)"
      ]
     },
     "execution_count": 96,
     "metadata": {},
     "output_type": "execute_result"
    }
   ],
   "source": [
    "y"
   ]
  },
  {
   "cell_type": "code",
   "execution_count": 98,
   "id": "3df33c88",
   "metadata": {},
   "outputs": [],
   "source": [
    "@tf.function # we are wrapping the function inside of this at tf function decorator so the reason for this is it actually goes and compiles this pecific training function. @tf actually compiles a function into a collable tensorflow graph .so exactly what we are doing is by using this as  tf.function decorator we  are compiling that what going to  happen under this training step function  \n",
    "def train_step(batch):# defining our function and pass thrugh one batch of data \n",
    "    \n",
    "    # Record all of our operations \n",
    "    with tf.GradientTape() as tape:      # this allows us to atually start capturing our gradients from our neural network model ,it is recording every single thing that is happening inside of our neural network and its trying to look at these functions that weare actually defining to go and perform differntiation \n",
    "        # Get anchor and positive/negative image\n",
    "        X = batch[:2] # we are effectively extrapolating or extracting our batch,grabbing our fetaures \n",
    "        # Get label\n",
    "        y = batch[2] # grabbing our labels\n",
    "        \n",
    "        # Forward pass\n",
    "        yhat = siamese_model(X, training=True) # this actually making a prediction ,we are actually passing some data to our siamese model , training=True is necessary because some layers are going to activate when this actually set to true  \n",
    "        # Calculate loss\n",
    "        loss = binary_cross_loss(y, yhat)\n",
    "    print(loss)\n",
    "        \n",
    "    # Calculate gradients\n",
    "    grad = tape.gradient(loss, siamese_model.trainable_variables)# calculaing all the gradients for our differnet weights within our specific model with respect to our loss,this is actually starting to use a tape that recorded all of our operations throughour neural network to go and calculate our gradients ,tape.gradient rthen we are grabbing oiur loss and we are going and calculating all of the gradients for all of the different trainable variables inside of our neural network and specifically the siamese model which is our neural network ,first position argument is our loss then we are basically saying calculate all of our gradients with respect to this of our trainable variables second positional argument is siamese_model.trainable_variables in order to calculate our updated weights  \n",
    "    \n",
    "    # Calculate updated weights and apply to siamese model\n",
    "    opt.apply_gradients(zip(grad, siamese_model.trainable_variables))# our optimizer is actually appling our learning rate and slightly reducing the loss by changing our weights to be a little bit closer to the global optima\n",
    "        \n",
    "    # Return loss\n",
    "    return loss"
   ]
  },
  {
   "cell_type": "markdown",
   "id": "ee10bbc6",
   "metadata": {},
   "source": [
    "### Build Training Loop\n",
    "###### effective going through every single batch for every single epoch and applying our training step,training step get applied per batch  a training loop does it over our entire dataset over over the entire set of epochs"
   ]
  },
  {
   "cell_type": "code",
   "execution_count": 99,
   "id": "ea13fdb7",
   "metadata": {},
   "outputs": [],
   "source": [
    "# Import metric calculations\n",
    "from tensorflow.keras.metrics import Precision, Recall"
   ]
  },
  {
   "cell_type": "code",
   "execution_count": 100,
   "id": "096b9efa",
   "metadata": {},
   "outputs": [],
   "source": [
    "# while the training step function was focussed on training for one batch ,the loop here will be used to iterate over every batch  in the dataset def train(data, EPOCHS):\n",
    "def train(data, EPOCHS):\n",
    "    # Loop through epochs\n",
    "    for epoch in range(1, EPOCHS+1):# WE START WITH EPOCH 1 THEN INCREMENT IN EPOCH OTHERWISE IT STARTS FROM XERO \n",
    "        print('\\n Epoch {}/{}'.format(epoch, EPOCHS)) # GIVE US STATUS UPDATE \n",
    "        progbar = tf.keras.utils.Progbar(len(data)) # PROGRESS BAR WHERE I SORT OF SAID THAT IF YOU WRAP THIS INSIDE OF A MODEL CLASS YOU DONT HAVE TO THIS EXPLICITLY THE NATIVE API JUST DOES IT FOR YOU BUT AGAIN THIS GIVES YOU A LITTLE BIT MORE CONTROL  \n",
    "        \n",
    "         # Creating a metric object \n",
    "        r = Recall()\n",
    "        p = Precision()\n",
    "        \n",
    "        # Loop through each batch\n",
    "        for idx, batch in enumerate(data): # THIS GIVES US COUNTER AND THE ACTUAL BATCH ITSELF \n",
    "            # Run train step here\n",
    "           \n",
    "            loss = train_step(batch)\n",
    "            yhat = siamese_model.predict(batch[:2])\n",
    "            r.update_state(batch[2], yhat)\n",
    "            p.update_state(batch[2], yhat) \n",
    "            progbar.update(idx+1)\n",
    "        print(loss.numpy(), r.result().numpy(), p.result().numpy())\n",
    "    \n",
    "        \n",
    "        # Save checkpoints\n",
    "        if epoch % 1 == 0: # WE ARE GOING TO SAVE IT EVERY 10 EPOCHS AGAIN \n",
    "            checkpoint.save(file_prefix=checkpoint_prefix)"
   ]
  },
  {
   "cell_type": "markdown",
   "id": "d13ebaf4",
   "metadata": {},
   "source": [
    "### Train the model"
   ]
  },
  {
   "cell_type": "code",
   "execution_count": 101,
   "id": "e19f63aa",
   "metadata": {},
   "outputs": [],
   "source": [
    "EPOCHS = 1"
   ]
  },
  {
   "cell_type": "code",
   "execution_count": 102,
   "id": "e6a5904c",
   "metadata": {},
   "outputs": [
    {
     "name": "stdout",
     "output_type": "stream",
     "text": [
      "\n",
      " Epoch 1/1\n",
      "Tensor(\"binary_crossentropy/weighted_loss/value:0\", shape=(), dtype=float32)\n",
      "Tensor(\"binary_crossentropy/weighted_loss/value:0\", shape=(), dtype=float32)\n",
      "1/1 [==============================] - 2s 2s/step\n",
      "1/1 [==============================] - 2s 2s/step\n",
      "1/1 [==============================] - 2s 2s/step\n",
      "1/1 [==============================] - 2s 2s/step\n",
      "1/1 [==============================] - 2s 2s/step\n",
      "1/1 [==============================] - 2s 2s/step\n",
      "1/1 [==============================] - 2s 2s/step\n",
      "1/1 [==============================] - 2s 2s/step\n",
      "1/1 [==============================] - 2s 2s/step\n",
      "1/1 [==============================] - 2s 2s/step\n",
      "1/1 [==============================] - 2s 2s/step\n",
      "1/1 [==============================] - 2s 2s/step\n",
      "1/1 [==============================] - 2s 2s/step\n",
      "1/1 [==============================] - 2s 2s/step\n",
      "1/1 [==============================] - 2s 2s/step\n",
      "1/1 [==============================] - 2s 2s/step\n",
      "1/1 [==============================] - 2s 2s/step\n",
      "1/1 [==============================] - 2s 2s/step\n",
      "1/1 [==============================] - 2s 2s/step\n",
      "1/1 [==============================] - 2s 2s/step\n",
      "1/1 [==============================] - 2s 2s/step\n",
      "1/1 [==============================] - 2s 2s/step\n",
      "1/1 [==============================] - 2s 2s/step\n",
      "1/1 [==============================] - 2s 2s/step\n",
      "1/1 [==============================] - 2s 2s/step\n",
      "1/1 [==============================] - 2s 2s/step\n",
      "1/1 [==============================] - 2s 2s/step\n",
      "1/1 [==============================] - 2s 2s/step\n",
      "1/1 [==============================] - 2s 2s/step\n",
      "1/1 [==============================] - 2s 2s/step\n",
      "1/1 [==============================] - 2s 2s/step\n",
      "1/1 [==============================] - 2s 2s/step\n",
      "1/1 [==============================] - 2s 2s/step\n",
      "1/1 [==============================] - 2s 2s/step\n",
      "1/1 [==============================] - 2s 2s/step\n",
      "1/1 [==============================] - 2s 2s/step\n",
      "1/1 [==============================] - 2s 2s/step\n",
      "1/1 [==============================] - 2s 2s/step\n",
      "1/1 [==============================] - 2s 2s/step\n",
      "1/1 [==============================] - 2s 2s/step\n",
      "1/1 [==============================] - 2s 2s/step\n",
      "1/1 [==============================] - 2s 2s/step\n",
      "1/1 [==============================] - 2s 2s/step\n",
      "1/1 [==============================] - 2s 2s/step\n",
      "1/1 [==============================] - 2s 2s/step\n",
      "1/1 [==============================] - 2s 2s/step\n",
      "1/1 [==============================] - 2s 2s/step\n",
      "1/1 [==============================] - 2s 2s/step\n",
      "1/1 [==============================] - 2s 2s/step\n",
      "1/1 [==============================] - 2s 2s/step\n",
      "1/1 [==============================] - 2s 2s/step\n",
      "1/1 [==============================] - 2s 2s/step\n",
      "1/1 [==============================] - 2s 2s/step\n",
      "1/1 [==============================] - 2s 2s/step\n",
      "1/1 [==============================] - 2s 2s/step\n",
      "55/56 [============================>.] - ETA: 21sTensor(\"binary_crossentropy/weighted_loss/value:0\", shape=(), dtype=float32)\n",
      "1/1 [==============================] - 0s 220ms/step\n",
      "56/56 [==============================] - 1196s 21s/step\n",
      "0.0005829499 0.83916086 0.96256685\n"
     ]
    }
   ],
   "source": [
    "train(train_data, EPOCHS)"
   ]
  },
  {
   "cell_type": "markdown",
   "id": "2b70c313",
   "metadata": {},
   "source": [
    "# 6. Evaluate Model\n"
   ]
  },
  {
   "cell_type": "markdown",
   "id": "1bfa78bb",
   "metadata": {},
   "source": [
    "###  Import Metrics"
   ]
  },
  {
   "cell_type": "code",
   "execution_count": 103,
   "id": "b480e0dc",
   "metadata": {},
   "outputs": [],
   "source": [
    "# Import metric calculations\n",
    "from tensorflow.keras.metrics import Precision, Recall\n",
    "# precision demonstrates what proportion of positive identification were actually correct\n",
    "# recall shows what proportion of actual positives were identified correctly"
   ]
  },
  {
   "cell_type": "markdown",
   "id": "c34252f6",
   "metadata": {},
   "source": [
    "### Make Predictions"
   ]
  },
  {
   "cell_type": "code",
   "execution_count": 104,
   "id": "b99d59ba",
   "metadata": {},
   "outputs": [],
   "source": [
    "# Get a batch of test data\n",
    "test_input, test_val, y_true = test_data.as_numpy_iterator().next()"
   ]
  },
  {
   "cell_type": "code",
   "execution_count": 105,
   "id": "3a0c5b2b",
   "metadata": {},
   "outputs": [
    {
     "name": "stdout",
     "output_type": "stream",
     "text": [
      "1/1 [==============================] - 2s 2s/step\n"
     ]
    },
    {
     "data": {
      "text/plain": [
       "array([[1.0388424e-03],\n",
       "       [5.4566840e-06],\n",
       "       [9.3187839e-01],\n",
       "       [4.5133472e-04],\n",
       "       [2.1237578e-02],\n",
       "       [9.9817026e-01],\n",
       "       [9.9388391e-01],\n",
       "       [6.5416535e-03],\n",
       "       [4.4027802e-02],\n",
       "       [9.7631818e-01],\n",
       "       [1.2920346e-03],\n",
       "       [7.4187796e-05],\n",
       "       [3.2072461e-05],\n",
       "       [9.1922742e-01],\n",
       "       [9.9943054e-01],\n",
       "       [1.1705154e-03]], dtype=float32)"
      ]
     },
     "execution_count": 105,
     "metadata": {},
     "output_type": "execute_result"
    }
   ],
   "source": [
    "y_hat = siamese_model.predict([test_input, test_val])\n",
    "y_hat"
   ]
  },
  {
   "cell_type": "code",
   "execution_count": 106,
   "id": "fb219a59",
   "metadata": {},
   "outputs": [
    {
     "data": {
      "text/plain": [
       "[0, 0, 1, 0, 0, 1, 1, 0, 0, 1, 0, 0, 0, 1, 1, 0]"
      ]
     },
     "execution_count": 106,
     "metadata": {},
     "output_type": "execute_result"
    }
   ],
   "source": [
    "# Post processing the results \n",
    "[1 if prediction > 0.5 else 0 for prediction in y_hat ] # we covery above output to 0 and 1"
   ]
  },
  {
   "cell_type": "code",
   "execution_count": 107,
   "id": "c30528bb",
   "metadata": {},
   "outputs": [
    {
     "data": {
      "text/plain": [
       "array([0., 0., 1., 0., 0., 1., 1., 0., 0., 1., 0., 0., 0., 1., 1., 0.],\n",
       "      dtype=float32)"
      ]
     },
     "execution_count": 107,
     "metadata": {},
     "output_type": "execute_result"
    }
   ],
   "source": [
    "\n",
    "y_true # takreeban same aya hai result ooper  wale se ooper wala predicted answwer hai aur ye wala actual"
   ]
  },
  {
   "cell_type": "markdown",
   "id": "54ab8be9",
   "metadata": {},
   "source": [
    "### Calculate Metrics\n"
   ]
  },
  {
   "cell_type": "code",
   "execution_count": 108,
   "id": "3fe83ac4",
   "metadata": {},
   "outputs": [
    {
     "data": {
      "text/plain": [
       "1.0"
      ]
     },
     "execution_count": 108,
     "metadata": {},
     "output_type": "execute_result"
    }
   ],
   "source": [
    "# Creating a metric object \n",
    "m = Recall()\n",
    "\n",
    "# Calculating the recall value \n",
    "m.update_state(y_true, y_hat)\n",
    "\n",
    "# Return Recall Result\n",
    "m.result().numpy()"
   ]
  },
  {
   "cell_type": "code",
   "execution_count": 109,
   "id": "595cd1f0",
   "metadata": {},
   "outputs": [
    {
     "data": {
      "text/plain": [
       "1.0"
      ]
     },
     "execution_count": 109,
     "metadata": {},
     "output_type": "execute_result"
    }
   ],
   "source": [
    "# Creating a metric object \n",
    "m = Precision()\n",
    "\n",
    "# Calculating the recall value \n",
    "m.update_state(y_true, y_hat)\n",
    "\n",
    "# Return Recall Result\n",
    "m.result().numpy()"
   ]
  },
  {
   "cell_type": "code",
   "execution_count": 115,
   "id": "1e1a0d41",
   "metadata": {},
   "outputs": [
    {
     "data": {
      "image/png": "[encoded data removed]",
      "text/plain": [
       "<Figure size 720x576 with 2 Axes>"
      ]
     },
     "metadata": {
      "needs_background": "light"
     },
     "output_type": "display_data"
    },
    {
     "name": "stdout",
     "output_type": "stream",
     "text": [
      "Classification Report:\n",
      "              precision    recall  f1-score   support\n",
      "\n",
      "         0.0       0.62      1.00      0.77        10\n",
      "         1.0       0.00      0.00      0.00         6\n",
      "\n",
      "    accuracy                           0.62        16\n",
      "   macro avg       0.31      0.50      0.38        16\n",
      "weighted avg       0.39      0.62      0.48        16\n",
      "\n"
     ]
    },
    {
     "name": "stderr",
     "output_type": "stream",
     "text": [
      "C:\\Users\\pc\\anaconda3\\lib\\site-packages\\sklearn\\metrics\\_classification.py:1318: UndefinedMetricWarning: Precision and F-score are ill-defined and being set to 0.0 in labels with no predicted samples. Use `zero_division` parameter to control this behavior.\n",
      "  _warn_prf(average, modifier, msg_start, len(result))\n",
      "C:\\Users\\pc\\anaconda3\\lib\\site-packages\\sklearn\\metrics\\_classification.py:1318: UndefinedMetricWarning: Precision and F-score are ill-defined and being set to 0.0 in labels with no predicted samples. Use `zero_division` parameter to control this behavior.\n",
      "  _warn_prf(average, modifier, msg_start, len(result))\n",
      "C:\\Users\\pc\\anaconda3\\lib\\site-packages\\sklearn\\metrics\\_classification.py:1318: UndefinedMetricWarning: Precision and F-score are ill-defined and being set to 0.0 in labels with no predicted samples. Use `zero_division` parameter to control this behavior.\n",
      "  _warn_prf(average, modifier, msg_start, len(result))\n",
      "C:\\Users\\pc\\anaconda3\\lib\\site-packages\\sklearn\\metrics\\_classification.py:1318: UndefinedMetricWarning: Precision and F-score are ill-defined and being set to 0.0 in labels with no predicted samples. Use `zero_division` parameter to control this behavior.\n",
      "  _warn_prf(average, modifier, msg_start, len(result))\n",
      "C:\\Users\\pc\\anaconda3\\lib\\site-packages\\sklearn\\metrics\\_classification.py:1318: UndefinedMetricWarning: Precision and F-score are ill-defined and being set to 0.0 in labels with no predicted samples. Use `zero_division` parameter to control this behavior.\n",
      "  _warn_prf(average, modifier, msg_start, len(result))\n",
      "C:\\Users\\pc\\anaconda3\\lib\\site-packages\\sklearn\\metrics\\_classification.py:1318: UndefinedMetricWarning: Precision and F-score are ill-defined and being set to 0.0 in labels with no predicted samples. Use `zero_division` parameter to control this behavior.\n",
      "  _warn_prf(average, modifier, msg_start, len(result))\n"
     ]
    },
    {
     "data": {
      "image/png": "[encoded data removed]",
      "text/plain": [
       "<Figure size 432x288 with 2 Axes>"
      ]
     },
     "metadata": {
      "needs_background": "light"
     },
     "output_type": "display_data"
    }
   ],
   "source": [
    "from sklearn.metrics import confusion_matrix, classification_report\n",
    "import matplotlib.pyplot as plt\n",
    "import seaborn as sns\n",
    "import pandas as pd\n",
    "\n",
    "# Convert predicted labels to binary format\n",
    "y_hat_binary = np.argmax(y_hat, axis=1)\n",
    "\n",
    "# Calculate and plot confusion matrix\n",
    "cm = confusion_matrix(y_true, y_hat_binary)\n",
    "plt.figure(figsize=(10, 8))\n",
    "sns.heatmap(cm, annot=True, fmt=\"d\", cmap=\"Blues\")\n",
    "plt.title(\"Confusion Matrix\")\n",
    "plt.xlabel(\"Predicted Labels\")\n",
    "plt.ylabel(\"True Labels\")\n",
    "plt.show()\n",
    "\n",
    "# Calculate and print classification report\n",
    "report = classification_report(y_true, y_hat_binary)\n",
    "print(\"Classification Report:\")\n",
    "print(report)\n",
    "# Plot classification report\n",
    "report_data = classification_report(y_true, y_hat_binary, output_dict=True)\n",
    "report_df = pd.DataFrame(report_data).transpose()\n",
    "plt.figure(figsize=(6, 4))\n",
    "sns.heatmap(report_df.iloc[:-1, :].T, annot=True, cmap=\"viridis\")\n",
    "plt.xlabel(\"Metrics\")\n",
    "\n",
    "plt.ylabel(\"Classes\")\n",
    "plt.title(\"Classification Report\")\n",
    "plt.show()"
   ]
  },
  {
   "cell_type": "code",
   "execution_count": 105,
   "id": "42e90303",
   "metadata": {},
   "outputs": [
    {
     "name": "stdout",
     "output_type": "stream",
     "text": [
      "1/1 [==============================] - 2s 2s/step\n",
      "1/1 [==============================] - 2s 2s/step\n",
      "1/1 [==============================] - 2s 2s/step\n",
      "1/1 [==============================] - 2s 2s/step\n",
      "1/1 [==============================] - 2s 2s/step\n",
      "1/1 [==============================] - 2s 2s/step\n",
      "1/1 [==============================] - 2s 2s/step\n",
      "1/1 [==============================] - 2s 2s/step\n",
      "1/1 [==============================] - 2s 2s/step\n",
      "1/1 [==============================] - 2s 2s/step\n",
      "1/1 [==============================] - 2s 2s/step\n",
      "1/1 [==============================] - 2s 2s/step\n",
      "1/1 [==============================] - 2s 2s/step\n",
      "1/1 [==============================] - 2s 2s/step\n",
      "1/1 [==============================] - 2s 2s/step\n",
      "1/1 [==============================] - 2s 2s/step\n",
      "1/1 [==============================] - 2s 2s/step\n",
      "1/1 [==============================] - 2s 2s/step\n",
      "1/1 [==============================] - 2s 2s/step\n",
      "1/1 [==============================] - 2s 2s/step\n",
      "1/1 [==============================] - 2s 2s/step\n",
      "1/1 [==============================] - 2s 2s/step\n",
      "1/1 [==============================] - 2s 2s/step\n",
      "1/1 [==============================] - 0s 439ms/step\n",
      "0.89830506 1.0\n"
     ]
    }
   ],
   "source": [
    "r = Recall()\n",
    "p = Precision()\n",
    "\n",
    "for test_input, test_val, y_true in test_data.as_numpy_iterator():\n",
    "    yhat = siamese_model.predict([test_input, test_val])\n",
    "    r.update_state(y_true, yhat)\n",
    "    p.update_state(y_true,yhat) \n",
    "\n",
    "print(r.result().numpy(), p.result().numpy())"
   ]
  },
  {
   "cell_type": "markdown",
   "id": "35a223db",
   "metadata": {},
   "source": [
    "### Viz Results"
   ]
  },
  {
   "cell_type": "code",
   "execution_count": 106,
   "id": "28622f7c",
   "metadata": {},
   "outputs": [
    {
     "data": {
      "image/png": "[encoded data removed]",
      "text/plain": [
       "<Figure size 720x576 with 2 Axes>"
      ]
     },
     "metadata": {
      "needs_background": "light"
     },
     "output_type": "display_data"
    }
   ],
   "source": [
    "# Set plot size \n",
    "plt.figure(figsize=(10,8))\n",
    "\n",
    "# Set first subplot\n",
    "plt.subplot(1,2,1)# 1row ,2 column ,1 index\n",
    "plt.imshow(test_input[0])\n",
    "\n",
    "# Set second subplot\n",
    "plt.subplot(1,2,2) # 1row ,2 column ,2 index\n",
    "plt.imshow(test_val[0])\n",
    "\n",
    "# Renders cleanly\n",
    "plt.show()\n",
    "#[0, 0, 1, 0, 0, 1, 1, 0, 1, 0, 1, 1, 1, 1, 0, 1] --- isme jo pehla 0 hai ye uska bataraha ke matlab 0  hai pehle wale me tou negative hogi aik pic dosre wale me bhi negative hogi agr index 2 rakhenge tou positive aaigi kuinke 1 hai "
   ]
  },
  {
   "cell_type": "markdown",
   "id": "994dddb7",
   "metadata": {},
   "source": [
    "# 7. Save Model"
   ]
  },
  {
   "cell_type": "code",
   "execution_count": 107,
   "id": "b43c1204",
   "metadata": {},
   "outputs": [
    {
     "name": "stdout",
     "output_type": "stream",
     "text": [
      "WARNING:tensorflow:Compiled the loaded model, but the compiled metrics have yet to be built. `model.compile_metrics` will be empty until you train or evaluate the model.\n"
     ]
    }
   ],
   "source": [
    "# Save weights\n",
    "siamese_model.save('siamesemodelv2.h5')"
   ]
  },
  {
   "cell_type": "code",
   "execution_count": 108,
   "id": "ca71d16c",
   "metadata": {},
   "outputs": [
    {
     "data": {
      "text/plain": [
       "__main__.L1Dist"
      ]
     },
     "execution_count": 108,
     "metadata": {},
     "output_type": "execute_result"
    }
   ],
   "source": [
    "L1Dist"
   ]
  },
  {
   "cell_type": "code",
   "execution_count": 109,
   "id": "b9f0b450",
   "metadata": {},
   "outputs": [
    {
     "name": "stdout",
     "output_type": "stream",
     "text": [
      "WARNING:tensorflow:No training configuration found in the save file, so the model was *not* compiled. Compile it manually.\n"
     ]
    }
   ],
   "source": [
    "# Reload model \n",
    "siamese_model = tf.keras.models.load_model('siamesemodelv2.h5', \n",
    "                                   custom_objects={'L1Dist':L1Dist, 'BinaryCrossentropy':tf.losses.BinaryCrossentropy})"
   ]
  },
  {
   "cell_type": "code",
   "execution_count": 110,
   "id": "10d5e871",
   "metadata": {},
   "outputs": [
    {
     "name": "stdout",
     "output_type": "stream",
     "text": [
      "1/1 [==============================] - 1s 557ms/step\n"
     ]
    },
    {
     "data": {
      "text/plain": [
       "array([[3.2092526e-06],\n",
       "       [3.3388269e-04],\n",
       "       [1.2503042e-03],\n",
       "       [9.3125945e-01]], dtype=float32)"
      ]
     },
     "execution_count": 110,
     "metadata": {},
     "output_type": "execute_result"
    }
   ],
   "source": [
    "# Make predictions with reloaded model\n",
    "siamese_model.predict([test_input, test_val])"
   ]
  },
  {
   "cell_type": "code",
   "execution_count": 111,
   "id": "1b12ca60",
   "metadata": {},
   "outputs": [
    {
     "name": "stdout",
     "output_type": "stream",
     "text": [
      "Model: \"SiameseNetwork\"\n",
      "__________________________________________________________________________________________________\n",
      " Layer (type)                   Output Shape         Param #     Connected to                     \n",
      "==================================================================================================\n",
      " input_img (InputLayer)         [(None, 100, 100, 3  0           []                               \n",
      "                                )]                                                                \n",
      "                                                                                                  \n",
      " validation_img (InputLayer)    [(None, 100, 100, 3  0           []                               \n",
      "                                )]                                                                \n",
      "                                                                                                  \n",
      " embedding (Functional)         (None, 4096)         38960448    ['input_img[0][0]',              \n",
      "                                                                  'validation_img[0][0]']         \n",
      "                                                                                                  \n",
      " l1_dist_3 (L1Dist)             (None, 4096)         0           ['embedding[0][0]',              \n",
      "                                                                  'embedding[1][0]']              \n",
      "                                                                                                  \n",
      " dense_3 (Dense)                (None, 1)            4097        ['l1_dist_3[0][0]']              \n",
      "                                                                                                  \n",
      "==================================================================================================\n",
      "Total params: 38,964,545\n",
      "Trainable params: 38,964,545\n",
      "Non-trainable params: 0\n",
      "__________________________________________________________________________________________________\n"
     ]
    }
   ],
   "source": [
    "# View model summary\n",
    "siamese_model.summary()"
   ]
  },
  {
   "cell_type": "markdown",
   "id": "1e9db445",
   "metadata": {},
   "source": [
    "# 8.  Real Time Test"
   ]
  },
  {
   "cell_type": "markdown",
   "id": "b54defca",
   "metadata": {},
   "source": [
    "### Verification Function"
   ]
  },
  {
   "cell_type": "code",
   "execution_count": 112,
   "id": "79ce84c2",
   "metadata": {},
   "outputs": [],
   "source": [
    "# humne aik folder banaya hai application data ka jisme verification images aur input images ke 2 folders hain jisame \n",
    "# se verificate images ke folder me humne positive image ke folder se 50 images randomly uthai hai  aur verification images\n",
    "# me dali hai ,hum 50 se ziada bhi le sakte the par yaad rahe jitni images hongi verification utni slow hogi"
   ]
  },
  {
   "cell_type": "code",
   "execution_count": 113,
   "id": "0987c14c",
   "metadata": {},
   "outputs": [],
   "source": [
    "# application_data\\verification_images"
   ]
  },
  {
   "cell_type": "code",
   "execution_count": 114,
   "id": "7846c5f1",
   "metadata": {},
   "outputs": [
    {
     "data": {
      "text/plain": [
       "['WhatsApp Image 2023-04-21 at 4.41.38 PM (1).jpeg',\n",
       " 'WhatsApp Image 2023-04-21 at 4.41.38 PM (2).jpeg',\n",
       " 'WhatsApp Image 2023-04-21 at 4.41.38 PM (3).jpeg',\n",
       " 'WhatsApp Image 2023-04-21 at 4.41.38 PM (4).jpeg',\n",
       " 'WhatsApp Image 2023-04-21 at 4.41.38 PM (5).jpeg',\n",
       " 'WhatsApp Image 2023-04-21 at 4.41.38 PM (6).jpeg',\n",
       " 'WhatsApp Image 2023-04-21 at 4.41.38 PM (7).jpeg',\n",
       " 'WhatsApp Image 2023-04-21 at 4.41.38 PM (8).jpeg',\n",
       " 'WhatsApp Image 2023-04-21 at 4.41.38 PM (9).jpeg',\n",
       " 'WhatsApp Image 2023-04-21 at 4.41.38 PM.jpeg',\n",
       " 'WhatsApp Image 2023-04-21 at 4.41.39 PM (1).jpeg',\n",
       " 'WhatsApp Image 2023-04-21 at 4.41.39 PM (10).jpeg',\n",
       " 'WhatsApp Image 2023-04-21 at 4.41.39 PM (11).jpeg',\n",
       " 'WhatsApp Image 2023-04-21 at 4.41.39 PM (12).jpeg',\n",
       " 'WhatsApp Image 2023-04-21 at 4.41.39 PM (13).jpeg',\n",
       " 'WhatsApp Image 2023-04-21 at 4.41.39 PM (14).jpeg',\n",
       " 'WhatsApp Image 2023-04-21 at 4.41.39 PM (15).jpeg',\n",
       " 'WhatsApp Image 2023-04-21 at 4.41.39 PM (16).jpeg',\n",
       " 'WhatsApp Image 2023-04-21 at 4.41.39 PM (17).jpeg',\n",
       " 'WhatsApp Image 2023-04-21 at 4.41.39 PM (18).jpeg',\n",
       " 'WhatsApp Image 2023-04-21 at 4.41.39 PM (19).jpeg',\n",
       " 'WhatsApp Image 2023-04-21 at 4.41.39 PM (2).jpeg',\n",
       " 'WhatsApp Image 2023-04-21 at 4.41.39 PM (20).jpeg',\n",
       " 'WhatsApp Image 2023-04-21 at 4.41.39 PM (21).jpeg',\n",
       " 'WhatsApp Image 2023-04-21 at 4.41.39 PM (22).jpeg',\n",
       " 'WhatsApp Image 2023-04-21 at 4.41.39 PM (23).jpeg',\n",
       " 'WhatsApp Image 2023-04-21 at 4.41.39 PM (24).jpeg',\n",
       " 'WhatsApp Image 2023-04-21 at 4.41.39 PM (25).jpeg',\n",
       " 'WhatsApp Image 2023-04-21 at 4.41.39 PM (26).jpeg',\n",
       " 'WhatsApp Image 2023-04-21 at 4.41.39 PM (27).jpeg',\n",
       " 'WhatsApp Image 2023-04-21 at 4.41.39 PM (28).jpeg',\n",
       " 'WhatsApp Image 2023-04-21 at 4.41.39 PM (29).jpeg',\n",
       " 'WhatsApp Image 2023-04-21 at 4.41.39 PM (3).jpeg',\n",
       " 'WhatsApp Image 2023-04-21 at 4.41.39 PM (30).jpeg',\n",
       " 'WhatsApp Image 2023-04-21 at 4.41.39 PM (4).jpeg',\n",
       " 'WhatsApp Image 2023-04-21 at 4.41.39 PM (5).jpeg',\n",
       " 'WhatsApp Image 2023-04-21 at 4.41.39 PM (6).jpeg',\n",
       " 'WhatsApp Image 2023-04-21 at 4.41.39 PM (7).jpeg',\n",
       " 'WhatsApp Image 2023-04-21 at 4.41.39 PM (8).jpeg',\n",
       " 'WhatsApp Image 2023-04-21 at 4.41.39 PM (9).jpeg',\n",
       " 'WhatsApp Image 2023-04-21 at 4.41.39 PM.jpeg',\n",
       " 'WhatsApp Image 2023-04-21 at 4.41.41 PM (1).jpeg',\n",
       " 'WhatsApp Image 2023-04-21 at 4.41.41 PM.jpeg',\n",
       " 'WhatsApp Image 2023-04-21 at 4.41.42 PM (1).jpeg',\n",
       " 'WhatsApp Image 2023-04-21 at 4.41.42 PM (2).jpeg',\n",
       " 'WhatsApp Image 2023-04-21 at 4.41.42 PM (3).jpeg',\n",
       " 'WhatsApp Image 2023-04-21 at 4.41.42 PM (4).jpeg',\n",
       " 'WhatsApp Image 2023-04-21 at 4.41.42 PM (5).jpeg',\n",
       " 'WhatsApp Image 2023-04-21 at 4.41.42 PM (6).jpeg',\n",
       " 'WhatsApp Image 2023-04-21 at 4.41.42 PM.jpeg']"
      ]
     },
     "execution_count": 114,
     "metadata": {},
     "output_type": "execute_result"
    }
   ],
   "source": [
    "os.listdir(os.path.join('application_data', 'verification_images'))"
   ]
  },
  {
   "cell_type": "code",
   "execution_count": 115,
   "id": "d835c582",
   "metadata": {},
   "outputs": [
    {
     "data": {
      "text/plain": [
       "'application_data\\\\input_image\\\\input_image.jpg'"
      ]
     },
     "execution_count": 115,
     "metadata": {},
     "output_type": "execute_result"
    }
   ],
   "source": [
    "os.path.join('application_data', 'input_image', 'input_image.jpg')"
   ]
  },
  {
   "cell_type": "code",
   "execution_count": 116,
   "id": "e9c835b5",
   "metadata": {},
   "outputs": [
    {
     "name": "stdout",
     "output_type": "stream",
     "text": [
      "application_data\\verification_images\\WhatsApp Image 2023-04-21 at 4.41.38 PM (1).jpeg\n",
      "application_data\\verification_images\\WhatsApp Image 2023-04-21 at 4.41.38 PM (2).jpeg\n",
      "application_data\\verification_images\\WhatsApp Image 2023-04-21 at 4.41.38 PM (3).jpeg\n",
      "application_data\\verification_images\\WhatsApp Image 2023-04-21 at 4.41.38 PM (4).jpeg\n",
      "application_data\\verification_images\\WhatsApp Image 2023-04-21 at 4.41.38 PM (5).jpeg\n",
      "application_data\\verification_images\\WhatsApp Image 2023-04-21 at 4.41.38 PM (6).jpeg\n",
      "application_data\\verification_images\\WhatsApp Image 2023-04-21 at 4.41.38 PM (7).jpeg\n",
      "application_data\\verification_images\\WhatsApp Image 2023-04-21 at 4.41.38 PM (8).jpeg\n",
      "application_data\\verification_images\\WhatsApp Image 2023-04-21 at 4.41.38 PM (9).jpeg\n",
      "application_data\\verification_images\\WhatsApp Image 2023-04-21 at 4.41.38 PM.jpeg\n",
      "application_data\\verification_images\\WhatsApp Image 2023-04-21 at 4.41.39 PM (1).jpeg\n",
      "application_data\\verification_images\\WhatsApp Image 2023-04-21 at 4.41.39 PM (10).jpeg\n",
      "application_data\\verification_images\\WhatsApp Image 2023-04-21 at 4.41.39 PM (11).jpeg\n",
      "application_data\\verification_images\\WhatsApp Image 2023-04-21 at 4.41.39 PM (12).jpeg\n",
      "application_data\\verification_images\\WhatsApp Image 2023-04-21 at 4.41.39 PM (13).jpeg\n",
      "application_data\\verification_images\\WhatsApp Image 2023-04-21 at 4.41.39 PM (14).jpeg\n",
      "application_data\\verification_images\\WhatsApp Image 2023-04-21 at 4.41.39 PM (15).jpeg\n",
      "application_data\\verification_images\\WhatsApp Image 2023-04-21 at 4.41.39 PM (16).jpeg\n",
      "application_data\\verification_images\\WhatsApp Image 2023-04-21 at 4.41.39 PM (17).jpeg\n",
      "application_data\\verification_images\\WhatsApp Image 2023-04-21 at 4.41.39 PM (18).jpeg\n",
      "application_data\\verification_images\\WhatsApp Image 2023-04-21 at 4.41.39 PM (19).jpeg\n",
      "application_data\\verification_images\\WhatsApp Image 2023-04-21 at 4.41.39 PM (2).jpeg\n",
      "application_data\\verification_images\\WhatsApp Image 2023-04-21 at 4.41.39 PM (20).jpeg\n",
      "application_data\\verification_images\\WhatsApp Image 2023-04-21 at 4.41.39 PM (21).jpeg\n",
      "application_data\\verification_images\\WhatsApp Image 2023-04-21 at 4.41.39 PM (22).jpeg\n",
      "application_data\\verification_images\\WhatsApp Image 2023-04-21 at 4.41.39 PM (23).jpeg\n",
      "application_data\\verification_images\\WhatsApp Image 2023-04-21 at 4.41.39 PM (24).jpeg\n",
      "application_data\\verification_images\\WhatsApp Image 2023-04-21 at 4.41.39 PM (25).jpeg\n",
      "application_data\\verification_images\\WhatsApp Image 2023-04-21 at 4.41.39 PM (26).jpeg\n",
      "application_data\\verification_images\\WhatsApp Image 2023-04-21 at 4.41.39 PM (27).jpeg\n",
      "application_data\\verification_images\\WhatsApp Image 2023-04-21 at 4.41.39 PM (28).jpeg\n",
      "application_data\\verification_images\\WhatsApp Image 2023-04-21 at 4.41.39 PM (29).jpeg\n",
      "application_data\\verification_images\\WhatsApp Image 2023-04-21 at 4.41.39 PM (3).jpeg\n",
      "application_data\\verification_images\\WhatsApp Image 2023-04-21 at 4.41.39 PM (30).jpeg\n",
      "application_data\\verification_images\\WhatsApp Image 2023-04-21 at 4.41.39 PM (4).jpeg\n",
      "application_data\\verification_images\\WhatsApp Image 2023-04-21 at 4.41.39 PM (5).jpeg\n",
      "application_data\\verification_images\\WhatsApp Image 2023-04-21 at 4.41.39 PM (6).jpeg\n",
      "application_data\\verification_images\\WhatsApp Image 2023-04-21 at 4.41.39 PM (7).jpeg\n",
      "application_data\\verification_images\\WhatsApp Image 2023-04-21 at 4.41.39 PM (8).jpeg\n",
      "application_data\\verification_images\\WhatsApp Image 2023-04-21 at 4.41.39 PM (9).jpeg\n",
      "application_data\\verification_images\\WhatsApp Image 2023-04-21 at 4.41.39 PM.jpeg\n",
      "application_data\\verification_images\\WhatsApp Image 2023-04-21 at 4.41.41 PM (1).jpeg\n",
      "application_data\\verification_images\\WhatsApp Image 2023-04-21 at 4.41.41 PM.jpeg\n",
      "application_data\\verification_images\\WhatsApp Image 2023-04-21 at 4.41.42 PM (1).jpeg\n",
      "application_data\\verification_images\\WhatsApp Image 2023-04-21 at 4.41.42 PM (2).jpeg\n",
      "application_data\\verification_images\\WhatsApp Image 2023-04-21 at 4.41.42 PM (3).jpeg\n",
      "application_data\\verification_images\\WhatsApp Image 2023-04-21 at 4.41.42 PM (4).jpeg\n",
      "application_data\\verification_images\\WhatsApp Image 2023-04-21 at 4.41.42 PM (5).jpeg\n",
      "application_data\\verification_images\\WhatsApp Image 2023-04-21 at 4.41.42 PM (6).jpeg\n",
      "application_data\\verification_images\\WhatsApp Image 2023-04-21 at 4.41.42 PM.jpeg\n"
     ]
    }
   ],
   "source": [
    "for image in os.listdir(os.path.join('application_data', 'verification_images')):\n",
    "    validation_img = os.path.join('application_data', 'verification_images', image)\n",
    "    print(validation_img)"
   ]
  },
  {
   "cell_type": "code",
   "execution_count": 121,
   "id": "1558b46f",
   "metadata": {},
   "outputs": [],
   "source": [
    "def verify(model, detection_threshold, verification_threshold): # model is our siamese neural network,deection threshold is a metric above which a prediciton is considered positive,Verification Threshold: Proportion of positive predictions / total positive samples \n",
    "    # Build results array\n",
    "    results = []\n",
    "    for image in os.listdir(os.path.join('application_data', 'verification_images')):# looping every image inside verification folder \n",
    "        input_img = preprocess(os.path.join('application_data', 'input_image', 'input_image.jpg'))\n",
    "        validation_img = preprocess(os.path.join('application_data', 'verification_images', image))\n",
    "        \n",
    "        # Make Predictions \n",
    "        result = model.predict(list(np.expand_dims([input_img, validation_img], axis=1)))\n",
    "        results.append(result)\n",
    "    \n",
    "    # Detection Threshold: Metric above which a prediciton is considered positive \n",
    "    detection = np.sum(np.array(results) > detection_threshold)\n",
    "    \n",
    "    # Verification Threshold: Proportion of positive predictions / total positive samples \n",
    "    verification = detection / len(os.listdir(os.path.join('application_data', 'verification_images'))) \n",
    "    verified =  verification > verification_threshold\n",
    "           \n",
    "    \n",
    "    return results, verified"
   ]
  },
  {
   "cell_type": "markdown",
   "id": "af4b31e0",
   "metadata": {},
   "source": [
    "# OpenCV Real Time Verification"
   ]
  },
  {
   "cell_type": "code",
   "execution_count": 122,
   "id": "23ecec3d",
   "metadata": {},
   "outputs": [
    {
     "name": "stdout",
     "output_type": "stream",
     "text": [
      "1/1 [==============================] - 0s 226ms/step\n",
      "1/1 [==============================] - 0s 201ms/step\n",
      "1/1 [==============================] - 0s 199ms/step\n",
      "1/1 [==============================] - 0s 208ms/step\n",
      "1/1 [==============================] - 0s 206ms/step\n",
      "1/1 [==============================] - 0s 200ms/step\n",
      "1/1 [==============================] - 0s 201ms/step\n",
      "1/1 [==============================] - 0s 188ms/step\n",
      "1/1 [==============================] - 0s 203ms/step\n",
      "1/1 [==============================] - 0s 198ms/step\n",
      "1/1 [==============================] - 0s 199ms/step\n",
      "1/1 [==============================] - 0s 186ms/step\n",
      "1/1 [==============================] - 0s 200ms/step\n",
      "1/1 [==============================] - 0s 190ms/step\n",
      "1/1 [==============================] - 0s 196ms/step\n",
      "1/1 [==============================] - 0s 185ms/step\n",
      "1/1 [==============================] - 0s 192ms/step\n",
      "1/1 [==============================] - 0s 187ms/step\n",
      "1/1 [==============================] - 0s 203ms/step\n",
      "1/1 [==============================] - 0s 202ms/step\n",
      "1/1 [==============================] - 0s 188ms/step\n",
      "1/1 [==============================] - 0s 200ms/step\n",
      "1/1 [==============================] - 0s 196ms/step\n",
      "1/1 [==============================] - 0s 222ms/step\n",
      "1/1 [==============================] - 0s 202ms/step\n",
      "1/1 [==============================] - 0s 196ms/step\n",
      "1/1 [==============================] - 0s 197ms/step\n",
      "1/1 [==============================] - 0s 200ms/step\n",
      "1/1 [==============================] - 0s 204ms/step\n",
      "1/1 [==============================] - 0s 205ms/step\n",
      "1/1 [==============================] - 0s 205ms/step\n",
      "1/1 [==============================] - 0s 190ms/step\n",
      "1/1 [==============================] - 0s 204ms/step\n",
      "1/1 [==============================] - 0s 192ms/step\n",
      "1/1 [==============================] - 0s 199ms/step\n",
      "1/1 [==============================] - 0s 201ms/step\n",
      "1/1 [==============================] - 0s 189ms/step\n",
      "1/1 [==============================] - 0s 192ms/step\n",
      "1/1 [==============================] - 0s 200ms/step\n",
      "1/1 [==============================] - 0s 205ms/step\n",
      "1/1 [==============================] - 0s 207ms/step\n",
      "1/1 [==============================] - 0s 204ms/step\n",
      "1/1 [==============================] - 0s 203ms/step\n",
      "1/1 [==============================] - 0s 206ms/step\n",
      "1/1 [==============================] - 0s 205ms/step\n",
      "1/1 [==============================] - 0s 206ms/step\n",
      "1/1 [==============================] - 0s 204ms/step\n",
      "1/1 [==============================] - 0s 198ms/step\n",
      "1/1 [==============================] - 0s 211ms/step\n",
      "1/1 [==============================] - 0s 194ms/step\n",
      "True\n",
      "1/1 [==============================] - 0s 206ms/step\n",
      "1/1 [==============================] - 0s 191ms/step\n",
      "1/1 [==============================] - 0s 201ms/step\n",
      "1/1 [==============================] - 0s 201ms/step\n",
      "1/1 [==============================] - 0s 201ms/step\n",
      "1/1 [==============================] - 0s 201ms/step\n",
      "1/1 [==============================] - 0s 200ms/step\n",
      "1/1 [==============================] - 0s 201ms/step\n",
      "1/1 [==============================] - 0s 203ms/step\n",
      "1/1 [==============================] - 0s 203ms/step\n",
      "1/1 [==============================] - 0s 203ms/step\n",
      "1/1 [==============================] - 0s 200ms/step\n",
      "1/1 [==============================] - 0s 199ms/step\n",
      "1/1 [==============================] - 0s 209ms/step\n",
      "1/1 [==============================] - 0s 196ms/step\n",
      "1/1 [==============================] - 0s 221ms/step\n",
      "1/1 [==============================] - 0s 199ms/step\n",
      "1/1 [==============================] - 0s 204ms/step\n",
      "1/1 [==============================] - 0s 208ms/step\n",
      "1/1 [==============================] - 0s 189ms/step\n",
      "1/1 [==============================] - 0s 202ms/step\n",
      "1/1 [==============================] - 0s 186ms/step\n",
      "1/1 [==============================] - 0s 191ms/step\n",
      "1/1 [==============================] - 0s 205ms/step\n",
      "1/1 [==============================] - 0s 186ms/step\n",
      "1/1 [==============================] - 0s 195ms/step\n",
      "1/1 [==============================] - 0s 199ms/step\n",
      "1/1 [==============================] - 0s 188ms/step\n",
      "1/1 [==============================] - 0s 201ms/step\n",
      "1/1 [==============================] - 0s 198ms/step\n",
      "1/1 [==============================] - 0s 205ms/step\n",
      "1/1 [==============================] - 0s 198ms/step\n",
      "1/1 [==============================] - 0s 191ms/step\n",
      "1/1 [==============================] - 0s 201ms/step\n",
      "1/1 [==============================] - 0s 191ms/step\n",
      "1/1 [==============================] - 0s 196ms/step\n",
      "1/1 [==============================] - 0s 187ms/step\n",
      "1/1 [==============================] - 0s 202ms/step\n",
      "1/1 [==============================] - 0s 190ms/step\n",
      "1/1 [==============================] - 0s 200ms/step\n",
      "1/1 [==============================] - 0s 195ms/step\n",
      "1/1 [==============================] - 0s 193ms/step\n",
      "1/1 [==============================] - 0s 189ms/step\n",
      "1/1 [==============================] - 0s 198ms/step\n",
      "1/1 [==============================] - 0s 208ms/step\n",
      "1/1 [==============================] - 0s 196ms/step\n",
      "1/1 [==============================] - 0s 206ms/step\n",
      "1/1 [==============================] - 0s 195ms/step\n",
      "1/1 [==============================] - 0s 199ms/step\n",
      "1/1 [==============================] - 0s 196ms/step\n",
      "1/1 [==============================] - 0s 193ms/step\n",
      "1/1 [==============================] - 0s 188ms/step\n",
      "1/1 [==============================] - 0s 195ms/step\n",
      "1/1 [==============================] - 0s 199ms/step\n",
      "1/1 [==============================] - 0s 200ms/step\n",
      "1/1 [==============================] - 0s 203ms/step\n",
      "1/1 [==============================] - 0s 196ms/step\n",
      "1/1 [==============================] - 0s 187ms/step\n",
      "1/1 [==============================] - 0s 210ms/step\n",
      "1/1 [==============================] - 0s 191ms/step\n",
      "1/1 [==============================] - 0s 201ms/step\n",
      "1/1 [==============================] - 0s 192ms/step\n",
      "1/1 [==============================] - 0s 206ms/step\n",
      "1/1 [==============================] - 0s 194ms/step\n",
      "1/1 [==============================] - 0s 207ms/step\n",
      "1/1 [==============================] - 0s 190ms/step\n",
      "1/1 [==============================] - 0s 196ms/step\n",
      "1/1 [==============================] - 0s 191ms/step\n",
      "1/1 [==============================] - 0s 204ms/step\n",
      "1/1 [==============================] - 0s 206ms/step\n",
      "1/1 [==============================] - 0s 219ms/step\n",
      "1/1 [==============================] - 0s 217ms/step\n",
      "1/1 [==============================] - 0s 211ms/step\n",
      "1/1 [==============================] - 0s 197ms/step\n",
      "1/1 [==============================] - 0s 205ms/step\n",
      "1/1 [==============================] - 0s 205ms/step\n",
      "1/1 [==============================] - 0s 204ms/step\n",
      "1/1 [==============================] - 0s 203ms/step\n",
      "1/1 [==============================] - 0s 196ms/step\n",
      "1/1 [==============================] - 0s 209ms/step\n",
      "1/1 [==============================] - 0s 196ms/step\n",
      "1/1 [==============================] - 0s 207ms/step\n",
      "False\n",
      "1/1 [==============================] - 0s 185ms/step\n",
      "1/1 [==============================] - 0s 197ms/step\n",
      "1/1 [==============================] - 0s 189ms/step\n",
      "1/1 [==============================] - 0s 195ms/step\n",
      "1/1 [==============================] - 0s 187ms/step\n",
      "1/1 [==============================] - 0s 209ms/step\n",
      "1/1 [==============================] - 0s 195ms/step\n",
      "1/1 [==============================] - 0s 194ms/step\n",
      "1/1 [==============================] - 0s 197ms/step\n",
      "1/1 [==============================] - 0s 189ms/step\n",
      "1/1 [==============================] - 0s 185ms/step\n",
      "1/1 [==============================] - 0s 196ms/step\n",
      "1/1 [==============================] - 0s 205ms/step\n",
      "1/1 [==============================] - 0s 210ms/step\n",
      "1/1 [==============================] - 0s 206ms/step\n",
      "1/1 [==============================] - 0s 207ms/step\n",
      "1/1 [==============================] - 0s 206ms/step\n",
      "1/1 [==============================] - 0s 204ms/step\n",
      "1/1 [==============================] - 0s 188ms/step\n",
      "1/1 [==============================] - 0s 217ms/step\n",
      "1/1 [==============================] - 0s 204ms/step\n",
      "1/1 [==============================] - 0s 214ms/step\n",
      "1/1 [==============================] - 0s 212ms/step\n",
      "1/1 [==============================] - 0s 203ms/step\n",
      "1/1 [==============================] - 0s 204ms/step\n",
      "1/1 [==============================] - 0s 190ms/step\n",
      "1/1 [==============================] - 0s 203ms/step\n",
      "1/1 [==============================] - 0s 210ms/step\n",
      "1/1 [==============================] - 0s 201ms/step\n",
      "1/1 [==============================] - 0s 204ms/step\n",
      "1/1 [==============================] - 0s 205ms/step\n",
      "1/1 [==============================] - 0s 203ms/step\n",
      "1/1 [==============================] - 0s 204ms/step\n",
      "1/1 [==============================] - 0s 203ms/step\n",
      "1/1 [==============================] - 0s 203ms/step\n",
      "1/1 [==============================] - 0s 211ms/step\n",
      "1/1 [==============================] - 0s 200ms/step\n",
      "1/1 [==============================] - 0s 207ms/step\n",
      "1/1 [==============================] - 0s 201ms/step\n",
      "1/1 [==============================] - 0s 193ms/step\n",
      "1/1 [==============================] - 0s 197ms/step\n",
      "1/1 [==============================] - 0s 207ms/step\n",
      "1/1 [==============================] - 0s 204ms/step\n",
      "1/1 [==============================] - 0s 204ms/step\n",
      "1/1 [==============================] - 0s 190ms/step\n",
      "1/1 [==============================] - 0s 208ms/step\n",
      "1/1 [==============================] - 0s 217ms/step\n",
      "1/1 [==============================] - 0s 191ms/step\n",
      "1/1 [==============================] - 0s 191ms/step\n",
      "1/1 [==============================] - 0s 201ms/step\n",
      "1/1 [==============================] - 0s 191ms/step\n",
      "1/1 [==============================] - 0s 196ms/step\n",
      "1/1 [==============================] - 0s 191ms/step\n",
      "1/1 [==============================] - 0s 194ms/step\n",
      "1/1 [==============================] - 0s 200ms/step\n",
      "1/1 [==============================] - 0s 197ms/step\n",
      "1/1 [==============================] - 0s 201ms/step\n",
      "1/1 [==============================] - 0s 190ms/step\n",
      "1/1 [==============================] - 0s 201ms/step\n",
      "1/1 [==============================] - 0s 207ms/step\n",
      "1/1 [==============================] - 0s 197ms/step\n",
      "1/1 [==============================] - 0s 213ms/step\n",
      "1/1 [==============================] - 0s 204ms/step\n",
      "1/1 [==============================] - 0s 197ms/step\n",
      "1/1 [==============================] - 0s 208ms/step\n",
      "1/1 [==============================] - 0s 203ms/step\n",
      "1/1 [==============================] - 0s 204ms/step\n",
      "1/1 [==============================] - 0s 186ms/step\n",
      "1/1 [==============================] - 0s 199ms/step\n",
      "1/1 [==============================] - 0s 203ms/step\n",
      "1/1 [==============================] - 0s 212ms/step\n",
      "1/1 [==============================] - 0s 193ms/step\n",
      "1/1 [==============================] - 0s 208ms/step\n",
      "1/1 [==============================] - 0s 196ms/step\n",
      "1/1 [==============================] - 0s 186ms/step\n",
      "1/1 [==============================] - 0s 193ms/step\n",
      "1/1 [==============================] - 0s 190ms/step\n",
      "1/1 [==============================] - 0s 199ms/step\n",
      "1/1 [==============================] - 0s 213ms/step\n",
      "1/1 [==============================] - 0s 203ms/step\n",
      "1/1 [==============================] - 0s 197ms/step\n",
      "1/1 [==============================] - 0s 195ms/step\n",
      "True\n",
      "1/1 [==============================] - 0s 208ms/step\n",
      "1/1 [==============================] - 0s 201ms/step\n",
      "1/1 [==============================] - 0s 200ms/step\n",
      "1/1 [==============================] - 0s 201ms/step\n",
      "1/1 [==============================] - 0s 201ms/step\n",
      "1/1 [==============================] - 0s 201ms/step\n",
      "1/1 [==============================] - 0s 201ms/step\n",
      "1/1 [==============================] - 0s 210ms/step\n",
      "1/1 [==============================] - 0s 199ms/step\n",
      "1/1 [==============================] - 0s 199ms/step\n",
      "1/1 [==============================] - 0s 201ms/step\n",
      "1/1 [==============================] - 0s 199ms/step\n",
      "1/1 [==============================] - 0s 201ms/step\n",
      "1/1 [==============================] - 0s 200ms/step\n",
      "1/1 [==============================] - 0s 201ms/step\n",
      "1/1 [==============================] - 0s 201ms/step\n",
      "1/1 [==============================] - 0s 205ms/step\n",
      "1/1 [==============================] - 0s 200ms/step\n",
      "1/1 [==============================] - 0s 200ms/step\n",
      "1/1 [==============================] - 0s 204ms/step\n",
      "1/1 [==============================] - 0s 218ms/step\n",
      "1/1 [==============================] - 0s 203ms/step\n",
      "1/1 [==============================] - 0s 206ms/step\n",
      "1/1 [==============================] - 0s 205ms/step\n",
      "1/1 [==============================] - 0s 205ms/step\n",
      "1/1 [==============================] - 0s 206ms/step\n",
      "1/1 [==============================] - 0s 194ms/step\n",
      "1/1 [==============================] - 0s 204ms/step\n",
      "1/1 [==============================] - 0s 217ms/step\n",
      "1/1 [==============================] - 0s 218ms/step\n",
      "1/1 [==============================] - 0s 203ms/step\n",
      "1/1 [==============================] - 0s 203ms/step\n",
      "1/1 [==============================] - 0s 200ms/step\n",
      "1/1 [==============================] - 0s 205ms/step\n",
      "1/1 [==============================] - 0s 206ms/step\n",
      "1/1 [==============================] - 0s 208ms/step\n",
      "1/1 [==============================] - 0s 207ms/step\n",
      "1/1 [==============================] - 0s 202ms/step\n",
      "1/1 [==============================] - 0s 207ms/step\n",
      "1/1 [==============================] - 0s 211ms/step\n",
      "1/1 [==============================] - 0s 206ms/step\n",
      "1/1 [==============================] - 0s 205ms/step\n",
      "1/1 [==============================] - 0s 208ms/step\n",
      "1/1 [==============================] - 0s 208ms/step\n",
      "1/1 [==============================] - 0s 195ms/step\n",
      "1/1 [==============================] - 0s 209ms/step\n",
      "1/1 [==============================] - 0s 212ms/step\n",
      "1/1 [==============================] - 0s 216ms/step\n",
      "1/1 [==============================] - 0s 210ms/step\n",
      "1/1 [==============================] - 0s 210ms/step\n",
      "1/1 [==============================] - 0s 206ms/step\n",
      "1/1 [==============================] - 0s 191ms/step\n",
      "1/1 [==============================] - 0s 186ms/step\n",
      "1/1 [==============================] - 0s 202ms/step\n",
      "1/1 [==============================] - 0s 208ms/step\n",
      "1/1 [==============================] - 0s 203ms/step\n",
      "1/1 [==============================] - 0s 196ms/step\n",
      "1/1 [==============================] - 0s 199ms/step\n",
      "1/1 [==============================] - 0s 208ms/step\n",
      "1/1 [==============================] - 0s 215ms/step\n",
      "1/1 [==============================] - 0s 195ms/step\n",
      "1/1 [==============================] - 0s 200ms/step\n",
      "1/1 [==============================] - 0s 189ms/step\n",
      "1/1 [==============================] - 0s 195ms/step\n",
      "1/1 [==============================] - 0s 191ms/step\n",
      "1/1 [==============================] - 0s 186ms/step\n",
      "1/1 [==============================] - 0s 195ms/step\n",
      "1/1 [==============================] - 0s 196ms/step\n",
      "1/1 [==============================] - 0s 193ms/step\n",
      "1/1 [==============================] - 0s 182ms/step\n",
      "1/1 [==============================] - 0s 192ms/step\n",
      "1/1 [==============================] - 0s 185ms/step\n",
      "1/1 [==============================] - 0s 200ms/step\n",
      "1/1 [==============================] - 0s 194ms/step\n",
      "1/1 [==============================] - 0s 191ms/step\n",
      "1/1 [==============================] - 0s 205ms/step\n",
      "1/1 [==============================] - 0s 206ms/step\n",
      "1/1 [==============================] - 0s 203ms/step\n",
      "1/1 [==============================] - 0s 200ms/step\n",
      "1/1 [==============================] - 0s 191ms/step\n",
      "1/1 [==============================] - 0s 197ms/step\n",
      "1/1 [==============================] - 0s 201ms/step\n",
      "True\n",
      "1/1 [==============================] - 0s 200ms/step\n",
      "1/1 [==============================] - 0s 201ms/step\n",
      "1/1 [==============================] - 0s 193ms/step\n",
      "1/1 [==============================] - 0s 200ms/step\n",
      "1/1 [==============================] - 0s 201ms/step\n",
      "1/1 [==============================] - 0s 201ms/step\n",
      "1/1 [==============================] - 0s 204ms/step\n",
      "1/1 [==============================] - 0s 201ms/step\n",
      "1/1 [==============================] - 0s 210ms/step\n",
      "1/1 [==============================] - 0s 201ms/step\n",
      "1/1 [==============================] - 0s 191ms/step\n",
      "1/1 [==============================] - 0s 201ms/step\n"
     ]
    },
    {
     "name": "stdout",
     "output_type": "stream",
     "text": [
      "1/1 [==============================] - 0s 185ms/step\n",
      "1/1 [==============================] - 0s 203ms/step\n",
      "1/1 [==============================] - 0s 201ms/step\n",
      "1/1 [==============================] - 0s 210ms/step\n",
      "1/1 [==============================] - 0s 201ms/step\n",
      "1/1 [==============================] - 0s 201ms/step\n",
      "1/1 [==============================] - 0s 191ms/step\n",
      "1/1 [==============================] - 0s 201ms/step\n",
      "1/1 [==============================] - 0s 185ms/step\n",
      "1/1 [==============================] - 0s 197ms/step\n",
      "1/1 [==============================] - 0s 201ms/step\n",
      "1/1 [==============================] - 0s 201ms/step\n",
      "1/1 [==============================] - 0s 201ms/step\n",
      "1/1 [==============================] - 0s 201ms/step\n",
      "1/1 [==============================] - 0s 198ms/step\n",
      "1/1 [==============================] - 0s 201ms/step\n",
      "1/1 [==============================] - 0s 201ms/step\n",
      "1/1 [==============================] - 0s 201ms/step\n",
      "1/1 [==============================] - 0s 201ms/step\n",
      "1/1 [==============================] - 0s 201ms/step\n",
      "1/1 [==============================] - 0s 201ms/step\n",
      "1/1 [==============================] - 0s 201ms/step\n",
      "1/1 [==============================] - 0s 204ms/step\n",
      "1/1 [==============================] - 0s 215ms/step\n",
      "1/1 [==============================] - 0s 213ms/step\n",
      "1/1 [==============================] - 0s 214ms/step\n",
      "1/1 [==============================] - 0s 208ms/step\n",
      "1/1 [==============================] - 0s 213ms/step\n",
      "1/1 [==============================] - 0s 198ms/step\n",
      "1/1 [==============================] - 0s 219ms/step\n",
      "1/1 [==============================] - 0s 216ms/step\n",
      "1/1 [==============================] - 0s 204ms/step\n",
      "1/1 [==============================] - 0s 202ms/step\n",
      "1/1 [==============================] - 0s 205ms/step\n",
      "1/1 [==============================] - 0s 200ms/step\n",
      "1/1 [==============================] - 0s 215ms/step\n",
      "1/1 [==============================] - 0s 209ms/step\n",
      "1/1 [==============================] - 0s 200ms/step\n",
      "1/1 [==============================] - 0s 206ms/step\n",
      "1/1 [==============================] - 0s 216ms/step\n",
      "1/1 [==============================] - 0s 217ms/step\n",
      "1/1 [==============================] - 0s 213ms/step\n",
      "1/1 [==============================] - 0s 206ms/step\n",
      "1/1 [==============================] - 0s 203ms/step\n",
      "1/1 [==============================] - 0s 205ms/step\n",
      "1/1 [==============================] - 0s 200ms/step\n",
      "1/1 [==============================] - 0s 191ms/step\n",
      "1/1 [==============================] - 0s 204ms/step\n",
      "1/1 [==============================] - 0s 213ms/step\n",
      "1/1 [==============================] - 0s 192ms/step\n",
      "1/1 [==============================] - 0s 209ms/step\n",
      "1/1 [==============================] - 0s 199ms/step\n",
      "1/1 [==============================] - 0s 197ms/step\n",
      "1/1 [==============================] - 0s 188ms/step\n",
      "1/1 [==============================] - 0s 202ms/step\n",
      "1/1 [==============================] - 0s 197ms/step\n",
      "1/1 [==============================] - 0s 200ms/step\n",
      "1/1 [==============================] - 0s 192ms/step\n",
      "1/1 [==============================] - 0s 198ms/step\n",
      "1/1 [==============================] - 0s 203ms/step\n",
      "1/1 [==============================] - 0s 201ms/step\n",
      "1/1 [==============================] - 0s 205ms/step\n",
      "1/1 [==============================] - 0s 206ms/step\n",
      "1/1 [==============================] - 0s 197ms/step\n",
      "1/1 [==============================] - 0s 203ms/step\n",
      "1/1 [==============================] - 0s 205ms/step\n",
      "1/1 [==============================] - 0s 219ms/step\n",
      "1/1 [==============================] - 0s 192ms/step\n",
      "1/1 [==============================] - 0s 205ms/step\n",
      "1/1 [==============================] - 0s 193ms/step\n",
      "True\n",
      "1/1 [==============================] - 0s 200ms/step\n",
      "1/1 [==============================] - 0s 201ms/step\n",
      "1/1 [==============================] - 0s 198ms/step\n",
      "1/1 [==============================] - 0s 197ms/step\n",
      "1/1 [==============================] - 0s 201ms/step\n",
      "1/1 [==============================] - 0s 191ms/step\n",
      "1/1 [==============================] - 0s 201ms/step\n",
      "1/1 [==============================] - 0s 198ms/step\n",
      "1/1 [==============================] - 0s 195ms/step\n",
      "1/1 [==============================] - 0s 190ms/step\n",
      "1/1 [==============================] - 0s 196ms/step\n",
      "1/1 [==============================] - 0s 183ms/step\n",
      "1/1 [==============================] - 0s 201ms/step\n",
      "1/1 [==============================] - 0s 200ms/step\n",
      "1/1 [==============================] - 0s 199ms/step\n",
      "1/1 [==============================] - 0s 194ms/step\n",
      "1/1 [==============================] - 0s 199ms/step\n",
      "1/1 [==============================] - 0s 194ms/step\n",
      "1/1 [==============================] - 0s 200ms/step\n",
      "1/1 [==============================] - 0s 199ms/step\n",
      "1/1 [==============================] - 0s 189ms/step\n",
      "1/1 [==============================] - 0s 204ms/step\n",
      "1/1 [==============================] - 0s 192ms/step\n",
      "1/1 [==============================] - 0s 180ms/step\n",
      "1/1 [==============================] - 0s 198ms/step\n",
      "1/1 [==============================] - 0s 199ms/step\n",
      "1/1 [==============================] - 0s 195ms/step\n",
      "1/1 [==============================] - 0s 198ms/step\n",
      "1/1 [==============================] - 0s 187ms/step\n",
      "1/1 [==============================] - 0s 199ms/step\n",
      "1/1 [==============================] - 0s 190ms/step\n",
      "1/1 [==============================] - 0s 195ms/step\n",
      "1/1 [==============================] - 0s 193ms/step\n",
      "1/1 [==============================] - 0s 194ms/step\n",
      "1/1 [==============================] - 0s 190ms/step\n",
      "1/1 [==============================] - 0s 189ms/step\n",
      "1/1 [==============================] - 0s 193ms/step\n",
      "1/1 [==============================] - 0s 185ms/step\n",
      "1/1 [==============================] - 0s 186ms/step\n",
      "1/1 [==============================] - 0s 201ms/step\n",
      "1/1 [==============================] - 0s 189ms/step\n",
      "1/1 [==============================] - 0s 202ms/step\n",
      "1/1 [==============================] - 0s 188ms/step\n",
      "1/1 [==============================] - 0s 189ms/step\n",
      "1/1 [==============================] - 0s 200ms/step\n",
      "1/1 [==============================] - 0s 190ms/step\n",
      "1/1 [==============================] - 0s 211ms/step\n",
      "1/1 [==============================] - 0s 199ms/step\n",
      "1/1 [==============================] - 0s 198ms/step\n",
      "1/1 [==============================] - 0s 194ms/step\n",
      "1/1 [==============================] - 0s 188ms/step\n",
      "1/1 [==============================] - 0s 195ms/step\n",
      "1/1 [==============================] - 0s 190ms/step\n",
      "1/1 [==============================] - 0s 195ms/step\n",
      "1/1 [==============================] - 0s 186ms/step\n",
      "1/1 [==============================] - 0s 198ms/step\n",
      "1/1 [==============================] - 0s 197ms/step\n",
      "1/1 [==============================] - 0s 183ms/step\n",
      "1/1 [==============================] - 0s 193ms/step\n",
      "1/1 [==============================] - 0s 204ms/step\n",
      "1/1 [==============================] - 0s 205ms/step\n",
      "1/1 [==============================] - 0s 199ms/step\n",
      "1/1 [==============================] - 0s 203ms/step\n",
      "1/1 [==============================] - 0s 203ms/step\n",
      "1/1 [==============================] - 0s 206ms/step\n",
      "1/1 [==============================] - 0s 218ms/step\n",
      "1/1 [==============================] - 0s 201ms/step\n",
      "1/1 [==============================] - 0s 201ms/step\n",
      "1/1 [==============================] - 0s 200ms/step\n",
      "1/1 [==============================] - 0s 206ms/step\n",
      "1/1 [==============================] - 0s 207ms/step\n",
      "1/1 [==============================] - 0s 213ms/step\n",
      "1/1 [==============================] - 0s 190ms/step\n",
      "1/1 [==============================] - 0s 199ms/step\n",
      "1/1 [==============================] - 0s 197ms/step\n",
      "1/1 [==============================] - 0s 200ms/step\n",
      "1/1 [==============================] - 0s 212ms/step\n",
      "1/1 [==============================] - 0s 198ms/step\n",
      "1/1 [==============================] - 0s 191ms/step\n",
      "1/1 [==============================] - 0s 196ms/step\n",
      "1/1 [==============================] - 0s 193ms/step\n",
      "1/1 [==============================] - 0s 197ms/step\n",
      "True\n"
     ]
    }
   ],
   "source": [
    "cap = cv2.VideoCapture(0)\n",
    "while cap.isOpened():\n",
    "    ret, frame = cap.read()\n",
    "    frame = frame[120:120+250,200:200+250, :]\n",
    "    \n",
    "    cv2.imshow('Verification', frame)\n",
    "    \n",
    "    # Verification trigger\n",
    "    if cv2.waitKey(10) & 0xFF == ord('v'):\n",
    "        # Save input image to application_data/input_image folder \n",
    "#         hsv = cv2.cvtColor(frame, cv2.COLOR_BGR2HSV)\n",
    "#         h, s, v = cv2.split(hsv)\n",
    "\n",
    "#         lim = 255 - 10\n",
    "#         v[v > lim] = 255\n",
    "#         v[v <= lim] -= 10\n",
    "        \n",
    "#         final_hsv = cv2.merge((h, s, v))\n",
    "#         img = cv2.cvtColor(final_hsv, cv2.COLOR_HSV2BGR)\n",
    "\n",
    "        cv2.imwrite(os.path.join('application_data', 'input_image', 'input_image.jpg'), frame)\n",
    "        # Run verification\n",
    "        results, verified = verify(siamese_model, 0.5, 0.5)\n",
    "        print(verified)\n",
    "    \n",
    "    if cv2.waitKey(10) & 0xFF == ord('q'):\n",
    "        break\n",
    "cap.release()\n",
    "cv2.destroyAllWindows()"
   ]
  },
  {
   "cell_type": "code",
   "execution_count": 130,
   "id": "c6d816e9",
   "metadata": {},
   "outputs": [
    {
     "data": {
      "text/plain": [
       "44"
      ]
     },
     "execution_count": 130,
     "metadata": {},
     "output_type": "execute_result"
    }
   ],
   "source": [
    "\n",
    "np.sum(np.squeeze(results) > 0.5)"
   ]
  },
  {
   "cell_type": "code",
   "execution_count": null,
   "id": "df9af802",
   "metadata": {},
   "outputs": [],
   "source": [
    "results"
   ]
  },
  {
   "cell_type": "code",
   "execution_count": 131,
   "id": "1348a497",
   "metadata": {},
   "outputs": [
    {
     "data": {
      "text/plain": [
       "0.88"
      ]
     },
     "execution_count": 131,
     "metadata": {},
     "output_type": "execute_result"
    }
   ],
   "source": [
    "44/50"
   ]
  },
  {
   "cell_type": "code",
   "execution_count": null,
   "id": "5613e08b",
   "metadata": {},
   "outputs": [],
   "source": []
  },
  {
   "cell_type": "code",
   "execution_count": null,
   "id": "5b1d11c8",
   "metadata": {},
   "outputs": [],
   "source": []
  }
 ],
 "metadata": {
  "kernelspec": {
   "display_name": "Python 3 (ipykernel)",
   "language": "python",
   "name": "python3"
  },
  "language_info": {
   "codemirror_mode": {
    "name": "ipython",
    "version": 3
   },
   "file_extension": ".py",
   "mimetype": "text/x-python",
   "name": "python",
   "nbconvert_exporter": "python",
   "pygments_lexer": "ipython3",
   "version": "3.10.9"
  }
 },
 "nbformat": 4,
 "nbformat_minor": 5
}
